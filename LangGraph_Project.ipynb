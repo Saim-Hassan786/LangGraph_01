{
  "cells": [
    {
      "cell_type": "markdown",
      "metadata": {
        "id": "view-in-github",
        "colab_type": "text"
      },
      "source": [
        "<a href=\"https://colab.research.google.com/github/Saim-Hassan786/LangGraph_01/blob/main/LangGraph_Project.ipynb\" target=\"_parent\"><img src=\"https://colab.research.google.com/assets/colab-badge.svg\" alt=\"Open In Colab\"/></a>"
      ]
    },
    {
      "cell_type": "code",
      "execution_count": null,
      "metadata": {
        "colab": {
          "base_uri": "https://localhost:8080/"
        },
        "id": "-Ly2SMEnFBHx",
        "outputId": "31b07c9b-9e23-46f2-99c0-04f6e7ebaeeb"
      },
      "outputs": [
        {
          "output_type": "stream",
          "name": "stdout",
          "text": [
            "\u001b[?25l   \u001b[90m━━━━━━━━━━━━━━━━━━━━━━━━━━━━━━━━━━━━━━━━\u001b[0m \u001b[32m0.0/138.2 kB\u001b[0m \u001b[31m?\u001b[0m eta \u001b[36m-:--:--\u001b[0m\r\u001b[2K   \u001b[91m━━━━━━━━━━━━━━━━━━━━━━━━━━━━━━━━━━━━━━\u001b[0m\u001b[91m╸\u001b[0m\u001b[90m━\u001b[0m \u001b[32m133.1/138.2 kB\u001b[0m \u001b[31m5.5 MB/s\u001b[0m eta \u001b[36m0:00:01\u001b[0m\r\u001b[2K   \u001b[90m━━━━━━━━━━━━━━━━━━━━━━━━━━━━━━━━━━━━━━━━\u001b[0m \u001b[32m138.2/138.2 kB\u001b[0m \u001b[31m3.3 MB/s\u001b[0m eta \u001b[36m0:00:00\u001b[0m\n",
            "\u001b[?25h\u001b[?25l   \u001b[90m━━━━━━━━━━━━━━━━━━━━━━━━━━━━━━━━━━━━━━━━\u001b[0m \u001b[32m0.0/44.7 kB\u001b[0m \u001b[31m?\u001b[0m eta \u001b[36m-:--:--\u001b[0m\r\u001b[2K   \u001b[90m━━━━━━━━━━━━━━━━━━━━━━━━━━━━━━━━━━━━━━━━\u001b[0m \u001b[32m44.7/44.7 kB\u001b[0m \u001b[31m2.1 MB/s\u001b[0m eta \u001b[36m0:00:00\u001b[0m\n",
            "\u001b[?25h"
          ]
        }
      ],
      "source": [
        "!pip install --quiet -U langgraph"
      ]
    },
    {
      "cell_type": "code",
      "execution_count": null,
      "metadata": {
        "id": "YSgc3fvwFIc1"
      },
      "outputs": [],
      "source": [
        "from typing_extensions import TypedDict\n",
        "\n",
        "class LearningState(TypedDict):\n",
        "  prompt : str"
      ]
    },
    {
      "cell_type": "code",
      "execution_count": null,
      "metadata": {
        "id": "Enz-Sc8bFl95"
      },
      "outputs": [],
      "source": [
        "def Node_1(state:LearningState) -> LearningState :\n",
        "  print(\"-----Node 1-------\", state)\n",
        "  return{\"prompt\":state[\"prompt\"] + \" I am Saim \"}\n",
        "\n",
        "def Node_2(state:LearningState) -> LearningState :\n",
        "  print(\"-----Node 2-----\", state)\n",
        "  return {\"prompt\" : state[\"prompt\"] + \"An AI Engineering Aspirant\"}"
      ]
    },
    {
      "cell_type": "code",
      "execution_count": null,
      "metadata": {
        "id": "HP_BmnxdHHzD"
      },
      "outputs": [],
      "source": [
        "from IPython.display import display , Image"
      ]
    },
    {
      "cell_type": "code",
      "execution_count": null,
      "metadata": {
        "id": "dLPJAHQeHmcw"
      },
      "outputs": [],
      "source": [
        "from langgraph.graph import START, END, StateGraph"
      ]
    },
    {
      "cell_type": "code",
      "execution_count": null,
      "metadata": {
        "id": "SN9adV4hH1k9"
      },
      "outputs": [],
      "source": [
        "from langgraph.graph.state import CompiledStateGraph"
      ]
    },
    {
      "cell_type": "code",
      "execution_count": null,
      "metadata": {
        "id": "jzyMgqPEH7fA"
      },
      "outputs": [],
      "source": [
        "builder : StateGraph = StateGraph(state_schema=LearningState)"
      ]
    },
    {
      "cell_type": "code",
      "execution_count": null,
      "metadata": {
        "colab": {
          "base_uri": "https://localhost:8080/"
        },
        "id": "Fb8VqpcEIQHn",
        "outputId": "a8e5fbcd-9d76-48e6-e9e7-b6165783bd9d"
      },
      "outputs": [
        {
          "data": {
            "text/plain": [
              "<langgraph.graph.state.StateGraph at 0x7f4f6b78c6d0>"
            ]
          },
          "execution_count": 8,
          "metadata": {},
          "output_type": "execute_result"
        }
      ],
      "source": [
        "builder.add_node(\"Node_1\",Node_1)\n",
        "builder.add_node(\"Node_2\",Node_2)"
      ]
    },
    {
      "cell_type": "code",
      "execution_count": null,
      "metadata": {
        "colab": {
          "base_uri": "https://localhost:8080/"
        },
        "id": "JQBAi6AQIagI",
        "outputId": "78eef73d-ffae-4910-ee5e-50412d19a27b"
      },
      "outputs": [
        {
          "data": {
            "text/plain": [
              "<langgraph.graph.state.StateGraph at 0x7f4f6b78c6d0>"
            ]
          },
          "execution_count": 9,
          "metadata": {},
          "output_type": "execute_result"
        }
      ],
      "source": [
        "builder.add_edge(START,\"Node_1\")\n",
        "builder.add_edge(\"Node_1\",\"Node_2\")\n",
        "builder.add_edge(\"Node_2\", END)"
      ]
    },
    {
      "cell_type": "code",
      "execution_count": null,
      "metadata": {
        "id": "uWaNlDVkIqlZ"
      },
      "outputs": [],
      "source": [
        "graph : CompiledStateGraph = builder.compile()"
      ]
    },
    {
      "cell_type": "code",
      "execution_count": null,
      "metadata": {
        "colab": {
          "base_uri": "https://localhost:8080/"
        },
        "id": "Dc1B6QzTI_RI",
        "outputId": "6ac42142-7db4-41cc-f5d0-30ff5284f0bb"
      },
      "outputs": [
        {
          "name": "stdout",
          "output_type": "stream",
          "text": [
            "<langgraph.graph.state.CompiledStateGraph object at 0x7f4f6b78c220>\n"
          ]
        }
      ],
      "source": [
        "print(graph)"
      ]
    },
    {
      "cell_type": "code",
      "execution_count": null,
      "metadata": {
        "colab": {
          "base_uri": "https://localhost:8080/"
        },
        "id": "mIqMGQDyJLjz",
        "outputId": "08b4feec-08f8-4cc6-9aaf-7357dbc2351b"
      },
      "outputs": [
        {
          "name": "stdout",
          "output_type": "stream",
          "text": [
            "Graph(nodes={'__start__': Node(id='__start__', name='__start__', data=<class 'langchain_core.utils.pydantic.LangGraphInput'>, metadata=None), 'Node_1': Node(id='Node_1', name='Node_1', data=Node_1(tags=None, recurse=True, func_accepts_config=False, func_accepts={'writer': False, 'store': False}), metadata=None), 'Node_2': Node(id='Node_2', name='Node_2', data=Node_2(tags=None, recurse=True, func_accepts_config=False, func_accepts={'writer': False, 'store': False}), metadata=None), '__end__': Node(id='__end__', name='__end__', data=<class 'langchain_core.utils.pydantic.LangGraphOutput'>, metadata=None)}, edges=[Edge(source='Node_1', target='Node_2', data=None, conditional=False), Edge(source='Node_2', target='__end__', data=None, conditional=False), Edge(source='__start__', target='Node_1', data=None, conditional=False)])\n"
          ]
        }
      ],
      "source": [
        "print(graph.get_graph())"
      ]
    },
    {
      "cell_type": "code",
      "execution_count": null,
      "metadata": {
        "colab": {
          "base_uri": "https://localhost:8080/",
          "height": 350
        },
        "id": "yQY-blK_JWMA",
        "outputId": "eb7557d7-c25d-4689-ed77-053ab57f4b09"
      },
      "outputs": [
        {
          "data": {
            "image/png": "[encoded data removed]",
            "text/plain": [
              "<IPython.core.display.Image object>"
            ]
          },
          "metadata": {},
          "output_type": "display_data"
        }
      ],
      "source": [
        "display(Image(graph.get_graph().draw_mermaid_png()))"
      ]
    },
    {
      "cell_type": "code",
      "execution_count": null,
      "metadata": {
        "colab": {
          "base_uri": "https://localhost:8080/"
        },
        "id": "vuoAsfBeJdmx",
        "outputId": "2c090d87-b193-4a67-85a7-09ed3904862d"
      },
      "outputs": [
        {
          "name": "stdout",
          "output_type": "stream",
          "text": [
            "-----Node 1------- {'prompt': 'Hi'}\n",
            "-----Node 2----- {'prompt': 'Hi I am Saim '}\n"
          ]
        },
        {
          "data": {
            "text/plain": [
              "{'prompt': 'Hi I am Saim An AI Engineering Aspirant'}"
            ]
          },
          "execution_count": 14,
          "metadata": {},
          "output_type": "execute_result"
        }
      ],
      "source": [
        "graph.invoke({\"prompt\":\"Hi\"})"
      ]
    },
    {
      "cell_type": "code",
      "execution_count": null,
      "metadata": {
        "id": "5MZ-1Hc8KeGc"
      },
      "outputs": [],
      "source": [
        "builder_1 : StateGraph = StateGraph(state_schema=LearningState)"
      ]
    },
    {
      "cell_type": "code",
      "execution_count": null,
      "metadata": {
        "id": "tCkCtML8Ly5O"
      },
      "outputs": [],
      "source": [
        "def Node_A(state:LearningState) -> LearningState :\n",
        "  print(\"-----Node_A-----\",state)\n",
        "  return {\"prompt\":state[\"prompt\"] + \" Myself Saim Hassan Akhar \"}\n",
        "\n",
        "def Node_B(state:LearningState) -> LearningState :\n",
        "  print(\"-----Node_B-----\",state)\n",
        "  return {\"prompt\":state[\"prompt\"] + \"And I Am An Aspirant Of AI Engineering .\"}\n",
        "\n",
        "def Node_C(state:LearningState) -> LearningState :\n",
        "  print(\"-----Node_C-----\", state)\n",
        "  return {\"prompt\":state[\"prompt\"] + \"I Am Looking Forward To Excel In AI Field \"}\n",
        "\n",
        "def Node_D(state:LearningState) -> LearningState  :\n",
        "  print(\"-----Node_D-----\",state)\n",
        "  return{\"prompt\":state[\"prompt\"] + \"And Learn The Cutting Edge Technologies Of Agentic AI And Humanoid Robotics.\"}\n"
      ]
    },
    {
      "cell_type": "code",
      "execution_count": null,
      "metadata": {
        "colab": {
          "base_uri": "https://localhost:8080/"
        },
        "id": "mog_7IUZLgqh",
        "outputId": "b695f9f4-782a-4d83-a4e3-44e8041636eb"
      },
      "outputs": [
        {
          "data": {
            "text/plain": [
              "<langgraph.graph.state.StateGraph at 0x7f4f6b784fd0>"
            ]
          },
          "execution_count": 17,
          "metadata": {},
          "output_type": "execute_result"
        }
      ],
      "source": [
        "builder_1.add_node(\"Node_A\",Node_A)\n",
        "builder_1.add_node(\"Node_B\",Node_B)\n",
        "builder_1.add_node(\"Node_C\",Node_C)\n",
        "builder_1.add_node(\"Node_D\",Node_D)"
      ]
    },
    {
      "cell_type": "code",
      "execution_count": null,
      "metadata": {
        "colab": {
          "base_uri": "https://localhost:8080/"
        },
        "id": "CjQezcsMOKUc",
        "outputId": "ce191e84-2802-4746-fb06-e309bea2ef01"
      },
      "outputs": [
        {
          "data": {
            "text/plain": [
              "<langgraph.graph.state.StateGraph at 0x7f4f6b784fd0>"
            ]
          },
          "execution_count": 18,
          "metadata": {},
          "output_type": "execute_result"
        }
      ],
      "source": [
        "builder_1.add_edge(START,\"Node_A\")\n",
        "builder_1.add_edge(\"Node_A\",\"Node_B\")\n",
        "builder_1.add_edge(\"Node_B\",\"Node_C\")\n",
        "builder_1.add_edge(\"Node_C\",\"Node_D\")\n",
        "builder_1.add_edge(\"Node_D\",END)"
      ]
    },
    {
      "cell_type": "code",
      "execution_count": null,
      "metadata": {
        "id": "JZ8EK7hTOqq1"
      },
      "outputs": [],
      "source": [
        "graph : CompiledStateGraph = builder_1.compile()"
      ]
    },
    {
      "cell_type": "code",
      "execution_count": null,
      "metadata": {
        "colab": {
          "base_uri": "https://localhost:8080/"
        },
        "id": "aHAfLd4oPAlF",
        "outputId": "48d7cc42-a9a1-48ca-956d-b54dca133554"
      },
      "outputs": [
        {
          "name": "stdout",
          "output_type": "stream",
          "text": [
            "-----Node_A----- {'prompt': 'Hello PIAIC'}\n",
            "-----Node_B----- {'prompt': 'Hello PIAIC Myself Saim Hassan Akhar '}\n",
            "-----Node_C----- {'prompt': 'Hello PIAIC Myself Saim Hassan Akhar And I Am An Aspirant Of AI Engineering .'}\n",
            "-----Node_D----- {'prompt': 'Hello PIAIC Myself Saim Hassan Akhar And I Am An Aspirant Of AI Engineering .I Am Looking Forward To Excel In AI Field '}\n"
          ]
        },
        {
          "data": {
            "text/plain": [
              "{'prompt': 'Hello PIAIC Myself Saim Hassan Akhar And I Am An Aspirant Of AI Engineering .I Am Looking Forward To Excel In AI Field And Learn The Cutting Edge Technologies Of Agentic AI And Humanoid Robotics.'}"
            ]
          },
          "execution_count": 20,
          "metadata": {},
          "output_type": "execute_result"
        }
      ],
      "source": [
        "graph.invoke({\"prompt\":\"Hello PIAIC\"})"
      ]
    },
    {
      "cell_type": "code",
      "execution_count": null,
      "metadata": {
        "colab": {
          "base_uri": "https://localhost:8080/"
        },
        "id": "DE0ITdY4PIm7",
        "outputId": "b81f749d-25eb-48d3-d9c5-1ea59d84e5c7"
      },
      "outputs": [
        {
          "output_type": "stream",
          "name": "stdout",
          "text": [
            "\u001b[?25l   \u001b[90m━━━━━━━━━━━━━━━━━━━━━━━━━━━━━━━━━━━━━━━━\u001b[0m \u001b[32m0.0/41.5 kB\u001b[0m \u001b[31m?\u001b[0m eta \u001b[36m-:--:--\u001b[0m\r\u001b[2K   \u001b[90m━━━━━━━━━━━━━━━━━━━━━━━━━━━━━━━━━━━━━━━━\u001b[0m \u001b[32m41.5/41.5 kB\u001b[0m \u001b[31m2.7 MB/s\u001b[0m eta \u001b[36m0:00:00\u001b[0m\n",
            "\u001b[?25h"
          ]
        }
      ],
      "source": [
        "%pip install -q -U langchain\n",
        "%pip install -q -U langchain-google-genai"
      ]
    },
    {
      "cell_type": "code",
      "execution_count": null,
      "metadata": {
        "id": "IokViX3-WAst"
      },
      "outputs": [],
      "source": [
        "from google.colab import userdata\n",
        "GEMINI_API_KEY = userdata.get('GEMINI_API_KEY')"
      ]
    },
    {
      "cell_type": "code",
      "execution_count": null,
      "metadata": {
        "id": "rK4aIXLpWM3u"
      },
      "outputs": [],
      "source": [
        "from langchain_google_genai import ChatGoogleGenerativeAI\n",
        "llm = ChatGoogleGenerativeAI(\n",
        "    model=\"gemini-1.5-flash\",\n",
        "    api_key = GEMINI_API_KEY,\n",
        "    temperature=0\n",
        ")"
      ]
    },
    {
      "cell_type": "code",
      "execution_count": null,
      "metadata": {
        "id": "mM_1ymDrWvSQ"
      },
      "outputs": [],
      "source": [
        "from langchain_core.messages.ai import AIMessage"
      ]
    },
    {
      "cell_type": "code",
      "execution_count": null,
      "metadata": {
        "id": "B1QGT356X3Xr"
      },
      "outputs": [],
      "source": [
        "ai_msg : AIMessage = llm.invoke(\"who is the president of Singapore\")"
      ]
    },
    {
      "cell_type": "code",
      "execution_count": null,
      "metadata": {
        "colab": {
          "base_uri": "https://localhost:8080/"
        },
        "id": "OLRcYfFhYAr1",
        "outputId": "0980186c-f49d-4b65-a5e4-6c106bf93673"
      },
      "outputs": [
        {
          "data": {
            "text/plain": [
              "AIMessage(content='The current president of Singapore is **Halimah Yacob**.\\n', additional_kwargs={}, response_metadata={'prompt_feedback': {'block_reason': 0, 'safety_ratings': []}, 'finish_reason': 'STOP', 'safety_ratings': []}, id='run-d3f0029a-ab25-4263-8b1b-99f360f55f1b-0', usage_metadata={'input_tokens': 7, 'output_tokens': 14, 'total_tokens': 21, 'input_token_details': {'cache_read': 0}})"
            ]
          },
          "execution_count": 26,
          "metadata": {},
          "output_type": "execute_result"
        }
      ],
      "source": [
        "ai_msg"
      ]
    },
    {
      "cell_type": "code",
      "execution_count": null,
      "metadata": {
        "colab": {
          "base_uri": "https://localhost:8080/",
          "height": 35
        },
        "id": "4D7fZRV0YHVR",
        "outputId": "9da2a681-6b81-4db5-bc4e-c8b5685f3062"
      },
      "outputs": [
        {
          "data": {
            "application/vnd.google.colaboratory.intrinsic+json": {
              "type": "string"
            },
            "text/plain": [
              "'The current president of Singapore is **Halimah Yacob**.\\n'"
            ]
          },
          "execution_count": 27,
          "metadata": {},
          "output_type": "execute_result"
        }
      ],
      "source": [
        "ai_msg.content"
      ]
    },
    {
      "cell_type": "code",
      "execution_count": null,
      "metadata": {
        "id": "PiaUMD2WY-jW"
      },
      "outputs": [],
      "source": [
        "class FirstLLMCall(TypedDict) :\n",
        "  prompt : str\n",
        "  output : str"
      ]
    },
    {
      "cell_type": "code",
      "execution_count": null,
      "metadata": {
        "id": "KU3xwZpfbksz"
      },
      "outputs": [],
      "source": [
        "def Node_1(state:FirstLLMCall) -> FirstLLMCall:\n",
        "  print(\"----Node 1------\")\n",
        "  prompt = state[\"prompt\"]\n",
        "  ai_msg : AIMessage = llm.invoke(prompt)\n",
        "  return {\"output\":ai_msg.content}"
      ]
    },
    {
      "cell_type": "code",
      "execution_count": null,
      "metadata": {
        "colab": {
          "base_uri": "https://localhost:8080/"
        },
        "id": "ptBDVmBscMhV",
        "outputId": "8b1da031-442d-42f4-91e7-bc863b8dfc6b"
      },
      "outputs": [
        {
          "name": "stdout",
          "output_type": "stream",
          "text": [
            "----Node 1------\n"
          ]
        }
      ],
      "source": [
        "test_greet = Node_1({\"prompt\":\"who is the president of Mexico\"})"
      ]
    },
    {
      "cell_type": "code",
      "execution_count": null,
      "metadata": {
        "colab": {
          "base_uri": "https://localhost:8080/"
        },
        "id": "e3nKVIY2cW-L",
        "outputId": "95b2e0a0-e8b1-4bb1-8c93-94577a875da3"
      },
      "outputs": [
        {
          "name": "stdout",
          "output_type": "stream",
          "text": [
            "----Node 1------\n"
          ]
        }
      ],
      "source": [
        "test_greet_1 = Node_1(FirstLLMCall(prompt = \"Hi there, How are you\"))"
      ]
    },
    {
      "cell_type": "code",
      "execution_count": null,
      "metadata": {
        "colab": {
          "base_uri": "https://localhost:8080/"
        },
        "id": "24t-bWqscb4g",
        "outputId": "f488b939-6ac9-4350-8cd4-fbd16d1bf445"
      },
      "outputs": [
        {
          "name": "stdout",
          "output_type": "stream",
          "text": [
            "{'output': 'The current president of Mexico is Andrés Manuel López Obrador.\\n'}\n",
            "{'output': \"I'm doing well, thank you for asking!  How are you today?\\n\"}\n"
          ]
        }
      ],
      "source": [
        "print(test_greet)\n",
        "print(test_greet_1)"
      ]
    },
    {
      "cell_type": "code",
      "execution_count": null,
      "metadata": {
        "id": "2dhlDwJ9c2-w"
      },
      "outputs": [],
      "source": [
        "builder_2 : StateGraph = StateGraph(state_schema=FirstLLMCall)"
      ]
    },
    {
      "cell_type": "code",
      "execution_count": null,
      "metadata": {
        "colab": {
          "base_uri": "https://localhost:8080/"
        },
        "id": "4LWV8d64eZsZ",
        "outputId": "0df5c4e5-56d8-45ee-8452-1f351b68cd01"
      },
      "outputs": [
        {
          "data": {
            "text/plain": [
              "<langgraph.graph.state.StateGraph at 0x7f4f67b275e0>"
            ]
          },
          "execution_count": 34,
          "metadata": {},
          "output_type": "execute_result"
        }
      ],
      "source": [
        "builder_2.add_node(\"Node_1\",Node_1)"
      ]
    },
    {
      "cell_type": "code",
      "execution_count": null,
      "metadata": {
        "colab": {
          "base_uri": "https://localhost:8080/"
        },
        "id": "84aA4SQFekwk",
        "outputId": "2f88489d-a122-4ff7-b6f5-bdb70a73604a"
      },
      "outputs": [
        {
          "data": {
            "text/plain": [
              "<langgraph.graph.state.StateGraph at 0x7f4f67b275e0>"
            ]
          },
          "execution_count": 35,
          "metadata": {},
          "output_type": "execute_result"
        }
      ],
      "source": [
        "builder_2.add_edge(START,\"Node_1\")\n",
        "builder_2.add_edge(\"Node_1\",END)"
      ]
    },
    {
      "cell_type": "code",
      "execution_count": null,
      "metadata": {
        "id": "B7SMtTJ0fJvV"
      },
      "outputs": [],
      "source": [
        "graph : CompiledStateGraph = builder_2.compile()"
      ]
    },
    {
      "cell_type": "code",
      "execution_count": null,
      "metadata": {
        "colab": {
          "base_uri": "https://localhost:8080/",
          "height": 251
        },
        "id": "oA1gn7BSfUsy",
        "outputId": "81be9d06-d7f4-47ab-c2fc-e08a76d981cf"
      },
      "outputs": [
        {
          "data": {
            "image/png": "[encoded data removed]",
            "text/plain": [
              "<IPython.core.display.Image object>"
            ]
          },
          "metadata": {},
          "output_type": "display_data"
        }
      ],
      "source": [
        "display(Image(graph.get_graph().draw_mermaid_png()))"
      ]
    },
    {
      "cell_type": "code",
      "execution_count": null,
      "metadata": {
        "colab": {
          "base_uri": "https://localhost:8080/"
        },
        "id": "tXhs2Hbgflan",
        "outputId": "e6fe33b8-318e-4652-f757-c8689fec716d"
      },
      "outputs": [
        {
          "name": "stdout",
          "output_type": "stream",
          "text": [
            "----Node 1------\n"
          ]
        },
        {
          "data": {
            "text/plain": [
              "{'prompt': 'Tell me about the current political conditions in Pakistan And India',\n",
              " 'output': \"Both Pakistan and India are currently facing complex and dynamic political landscapes.  Here's a summary of the current conditions in each country:\\n\\n**Pakistan:**\\n\\n* **Political Instability:** Pakistan has a history of political instability, and this continues to be a defining feature.  The country has seen several changes in government in recent years, often marked by periods of intense political maneuvering and sometimes even violence.  The current government, led by Prime Minister Anwaar-ul-Haq Kakar, is a caretaker government appointed after the dissolution of the previous parliament.  The country is preparing for general elections, the date of which is yet to be finalized, and the political climate is highly charged with various political parties vying for power.  The powerful military also plays a significant, albeit often behind-the-scenes, role in Pakistani politics.\\n\\n* **Economic Crisis:** Pakistan is grappling with a severe economic crisis, characterized by high inflation, a depreciating currency, and a significant debt burden.  This has led to widespread public discontent and social unrest.  The government is engaged in negotiations with international financial institutions for bailout packages, but the path to economic recovery remains uncertain.\\n\\n* **Social and Religious Tensions:**  Pakistan is a diverse country with significant religious and ethnic divisions.  These tensions sometimes manifest in political conflicts and social unrest.  The government faces the challenge of balancing the needs of different groups while maintaining social cohesion.\\n\\n* **Security Concerns:**  Pakistan continues to face security challenges, including terrorism and internal conflicts.  The government is working to address these issues, but the threat remains significant.\\n\\n\\n**India:**\\n\\n* **Dominant Ruling Party:**  India is currently governed by the Bharatiya Janata Party (BJP), led by Prime Minister Narendra Modi. The BJP has held a strong majority in the national parliament for several years.  While this provides a degree of political stability, it also leads to concerns about the concentration of power and the marginalization of opposition voices.\\n\\n* **Rising Religious Polarization:**  Religious polarization is a significant issue in India, particularly between the Hindu majority and the Muslim minority.  This polarization is often reflected in political discourse and social tensions.  The BJP's policies and rhetoric have been criticized by some for exacerbating these divisions.\\n\\n* **Economic Growth and Inequality:**  India has experienced significant economic growth in recent years, but this growth has not been evenly distributed.  High levels of inequality persist, and a large portion of the population still lives in poverty.  The government faces the challenge of balancing economic growth with social justice and inclusive development.\\n\\n* **Geopolitical Ambitions:**  India is increasingly asserting itself on the global stage, playing a more active role in international affairs and strengthening its strategic partnerships.  This includes its relationship with the United States and other countries in the Indo-Pacific region.  India's relationship with its neighbors, particularly Pakistan and China, remains complex and often tense.\\n\\n\\n**In summary:** Both Pakistan and India are facing significant political and economic challenges.  Pakistan is grappling with acute political instability and a severe economic crisis, while India, despite economic growth, faces issues of religious polarization and inequality.  Both countries are navigating complex geopolitical landscapes and internal social divisions.  The future political trajectory of both nations remains uncertain and depends on how effectively their governments address these multifaceted challenges.\\n\"}"
            ]
          },
          "execution_count": 38,
          "metadata": {},
          "output_type": "execute_result"
        }
      ],
      "source": [
        "llm_reply = graph.invoke({\"prompt\" : \"Tell me about the current political conditions in Pakistan And India\"})\n",
        "llm_reply"
      ]
    },
    {
      "cell_type": "code",
      "execution_count": null,
      "metadata": {
        "id": "ln5GPFxagcAx"
      },
      "outputs": [],
      "source": [
        "import textwrap\n",
        "from IPython.display import Markdown\n",
        "\n",
        "def to_markdown(text)-> Markdown:\n",
        "    text : str = text.replace(\"•\", \"  *\")\n",
        "    return Markdown(textwrap.indent(text, \"> \", predicate=lambda _: True))"
      ]
    },
    {
      "cell_type": "code",
      "execution_count": null,
      "metadata": {
        "colab": {
          "base_uri": "https://localhost:8080/",
          "height": 666
        },
        "id": "uw3GySFMvqHE",
        "outputId": "ea082bea-1bbb-4e84-ff48-a1137227472d"
      },
      "outputs": [
        {
          "data": {
            "text/markdown": "> Both Pakistan and India are currently facing complex and dynamic political landscapes.  Here's a summary of the current conditions in each country:\n> \n> **Pakistan:**\n> \n> * **Political Instability:** Pakistan has a history of political instability, and this continues to be a defining feature.  The country has seen several changes in government in recent years, often marked by periods of intense political maneuvering and sometimes even violence.  The current government, led by Prime Minister Anwaar-ul-Haq Kakar, is a caretaker government appointed after the dissolution of the previous parliament.  The country is preparing for general elections, the date of which is yet to be finalized, and the political climate is highly charged with various political parties vying for power.  The powerful military also plays a significant, albeit often behind-the-scenes, role in Pakistani politics.\n> \n> * **Economic Crisis:** Pakistan is grappling with a severe economic crisis, characterized by high inflation, a depreciating currency, and a significant debt burden.  This has led to widespread public discontent and social unrest.  The government is engaged in negotiations with international financial institutions for bailout packages, but the path to economic recovery remains uncertain.\n> \n> * **Social and Religious Tensions:**  Pakistan is a diverse country with significant religious and ethnic divisions.  These tensions sometimes manifest in political conflicts and social unrest.  The government faces the challenge of balancing the needs of different groups while maintaining social cohesion.\n> \n> * **Security Concerns:**  Pakistan continues to face security challenges, including terrorism and internal conflicts.  The government is working to address these issues, but the threat remains significant.\n> \n> \n> **India:**\n> \n> * **Dominant Ruling Party:**  India is currently governed by the Bharatiya Janata Party (BJP), led by Prime Minister Narendra Modi. The BJP has held a strong majority in the national parliament for several years.  While this provides a degree of political stability, it also leads to concerns about the concentration of power and the marginalization of opposition voices.\n> \n> * **Rising Religious Polarization:**  Religious polarization is a significant issue in India, particularly between the Hindu majority and the Muslim minority.  This polarization is often reflected in political discourse and social tensions.  The BJP's policies and rhetoric have been criticized by some for exacerbating these divisions.\n> \n> * **Economic Growth and Inequality:**  India has experienced significant economic growth in recent years, but this growth has not been evenly distributed.  High levels of inequality persist, and a large portion of the population still lives in poverty.  The government faces the challenge of balancing economic growth with social justice and inclusive development.\n> \n> * **Geopolitical Ambitions:**  India is increasingly asserting itself on the global stage, playing a more active role in international affairs and strengthening its strategic partnerships.  This includes its relationship with the United States and other countries in the Indo-Pacific region.  India's relationship with its neighbors, particularly Pakistan and China, remains complex and often tense.\n> \n> \n> **In summary:** Both Pakistan and India are facing significant political and economic challenges.  Pakistan is grappling with acute political instability and a severe economic crisis, while India, despite economic growth, faces issues of religious polarization and inequality.  Both countries are navigating complex geopolitical landscapes and internal social divisions.  The future political trajectory of both nations remains uncertain and depends on how effectively their governments address these multifaceted challenges.\n",
            "text/plain": [
              "<IPython.core.display.Markdown object>"
            ]
          },
          "execution_count": 40,
          "metadata": {},
          "output_type": "execute_result"
        }
      ],
      "source": [
        "to_markdown(llm_reply[\"output\"])"
      ]
    },
    {
      "cell_type": "code",
      "execution_count": null,
      "metadata": {
        "id": "sNo-wsn6wEVB"
      },
      "outputs": [],
      "source": [
        "class ConditionalState(TypedDict):\n",
        "  user_input : str"
      ]
    },
    {
      "cell_type": "code",
      "execution_count": null,
      "metadata": {
        "id": "xIhXATK740te"
      },
      "outputs": [],
      "source": [
        "def Node_1(state:ConditionalState) -> ConditionalState:\n",
        "  print(\"----Node 1------\")\n",
        "  return{\"user_input\":state[\"user_input\"]+\" I am Saim And \"}\n",
        "\n",
        "def Node_2(state:ConditionalState) -> ConditionalState:\n",
        "  print(\"-----Node 2-----\")\n",
        "  return{\"user_input\":state[\"user_input\"]+\"I am happy.\"}\n",
        "\n",
        "def Node_3(state:ConditionalState) -> ConditionalState:\n",
        "  print(\"-----Node 3-----\")\n",
        "  return{\"user_input\":state[\"user_input\"]+\"I am Sad.\"}\n"
      ]
    },
    {
      "cell_type": "code",
      "execution_count": null,
      "metadata": {
        "id": "_55Nm41S6POi"
      },
      "outputs": [],
      "source": [
        "import random\n",
        "from typing import Literal"
      ]
    },
    {
      "cell_type": "code",
      "execution_count": null,
      "metadata": {
        "id": "nYoGNT_B7zf1"
      },
      "outputs": [],
      "source": [
        "def choose_mode(state:ConditionalState)->Literal[\"Node_2\",\"Node_3\"]:\n",
        "  num = random.random()\n",
        "  if num > 0.5:\n",
        "    return \"Node_2\"\n",
        "  else:\n",
        "    return \"Node_3\""
      ]
    },
    {
      "cell_type": "code",
      "execution_count": null,
      "metadata": {
        "id": "3i7g3eIZ80qL"
      },
      "outputs": [],
      "source": [
        "builder_3 : StateGraph = StateGraph(state_schema=ConditionalState)"
      ]
    },
    {
      "cell_type": "code",
      "execution_count": null,
      "metadata": {
        "colab": {
          "base_uri": "https://localhost:8080/"
        },
        "id": "3giLPAgb9HzU",
        "outputId": "aad2de96-ff4d-4b8a-ef5e-b96dd3aafe02"
      },
      "outputs": [
        {
          "data": {
            "text/plain": [
              "<langgraph.graph.state.StateGraph at 0x7f4f67ac5f90>"
            ]
          },
          "execution_count": 46,
          "metadata": {},
          "output_type": "execute_result"
        }
      ],
      "source": [
        "builder_3.add_node(\"Node_1\",Node_1)\n",
        "builder_3.add_node(\"Node_2\",Node_2)\n",
        "builder_3.add_node(\"Node_3\",Node_3)"
      ]
    },
    {
      "cell_type": "code",
      "execution_count": null,
      "metadata": {
        "colab": {
          "base_uri": "https://localhost:8080/"
        },
        "id": "sUkkwnGs9nf_",
        "outputId": "b2778f05-0053-48ef-dec4-c73862a78ae5"
      },
      "outputs": [
        {
          "data": {
            "text/plain": [
              "<langgraph.graph.state.StateGraph at 0x7f4f67ac5f90>"
            ]
          },
          "execution_count": 47,
          "metadata": {},
          "output_type": "execute_result"
        }
      ],
      "source": [
        "builder_3.add_edge(START,\"Node_1\")\n",
        "builder_3.add_conditional_edges(\"Node_1\",choose_mode)\n",
        "builder_3.add_edge(\"Node_2\",END)\n",
        "builder_3.add_edge(\"Node_3\",END)"
      ]
    },
    {
      "cell_type": "code",
      "execution_count": null,
      "metadata": {
        "id": "3RKtR_kc-QdX"
      },
      "outputs": [],
      "source": [
        "graph : CompiledStateGraph = builder_3.compile()"
      ]
    },
    {
      "cell_type": "code",
      "execution_count": null,
      "metadata": {
        "colab": {
          "base_uri": "https://localhost:8080/",
          "height": 350
        },
        "id": "zeQHhKfr-Ule",
        "outputId": "0e45f65d-d2f9-4c51-9f7e-f1d9b990bcf1"
      },
      "outputs": [
        {
          "data": {
            "image/png": "[encoded data removed]",
            "text/plain": [
              "<IPython.core.display.Image object>"
            ]
          },
          "metadata": {},
          "output_type": "display_data"
        }
      ],
      "source": [
        "display(Image(graph.get_graph().draw_mermaid_png()))"
      ]
    },
    {
      "cell_type": "code",
      "execution_count": null,
      "metadata": {
        "colab": {
          "base_uri": "https://localhost:8080/"
        },
        "id": "qwmq1Snm-fKx",
        "outputId": "6f9d73c0-dfb9-4e09-85ee-cf99352bc4ee"
      },
      "outputs": [
        {
          "name": "stdout",
          "output_type": "stream",
          "text": [
            "----Node 1------\n",
            "-----Node 2-----\n"
          ]
        }
      ],
      "source": [
        "msg = graph.invoke({\"user_input\":\"Hi there !\"})"
      ]
    },
    {
      "cell_type": "code",
      "execution_count": null,
      "metadata": {
        "colab": {
          "base_uri": "https://localhost:8080/"
        },
        "id": "35QrOGzX_FS2",
        "outputId": "a12a8134-fd44-4db5-8f4f-c359758da10f"
      },
      "outputs": [
        {
          "data": {
            "text/plain": [
              "{'user_input': 'Hi there ! I am Saim And I am happy.'}"
            ]
          },
          "execution_count": 51,
          "metadata": {},
          "output_type": "execute_result"
        }
      ],
      "source": [
        "msg"
      ]
    },
    {
      "cell_type": "code",
      "execution_count": null,
      "metadata": {
        "id": "4rel-iG__G7W"
      },
      "outputs": [],
      "source": [
        "from pprint import pprint"
      ]
    },
    {
      "cell_type": "code",
      "execution_count": null,
      "metadata": {
        "id": "R0Wd6RBo0yGs"
      },
      "outputs": [],
      "source": [
        "from langchain_core.messages import HumanMessage, AIMessage ,SystemMessage"
      ]
    },
    {
      "cell_type": "code",
      "execution_count": null,
      "metadata": {
        "id": "6jKE0ph_1D0G"
      },
      "outputs": [],
      "source": [
        "from os import name\n",
        "messages = [HumanMessage(content=\"Hi there, I want to explore Ocean Animals\",name = \"Human\")]\n",
        "messages.append(AIMessage(content = \"Hello, So you are interested in Ocean Animals\",name = \"AIModel\"))\n",
        "messages.append(HumanMessage(content=\"Yes thats right\",name = \"Human\"))\n",
        "messages.append(AIMessage(content=\"Thats Wonderful, So what you want to know about the Ocean Animals\",name = \"AIModel\"))\n",
        "messages.append(HumanMessage(content=\"I want to know the best sites in USA And Japan To See Whale And Salmon Fishing As well\"))"
      ]
    },
    {
      "cell_type": "code",
      "execution_count": null,
      "metadata": {
        "colab": {
          "base_uri": "https://localhost:8080/"
        },
        "id": "-Jxf1Oou2ass",
        "outputId": "7bc410d8-4cb6-4f68-faf7-f84f38e8d30f"
      },
      "outputs": [
        {
          "name": "stdout",
          "output_type": "stream",
          "text": [
            "================================\u001b[1m Human Message \u001b[0m=================================\n",
            "Name: Human\n",
            "\n",
            "Hi there, I want to explore Ocean Animals\n",
            "==================================\u001b[1m Ai Message \u001b[0m==================================\n",
            "Name: AIModel\n",
            "\n",
            "Hello, So you are interested in Ocean Animals\n",
            "================================\u001b[1m Human Message \u001b[0m=================================\n",
            "Name: Human\n",
            "\n",
            "Yes thats right\n",
            "==================================\u001b[1m Ai Message \u001b[0m==================================\n",
            "Name: AIModel\n",
            "\n",
            "Thats Wonderful, So what you want to know about the Ocean Animals\n",
            "================================\u001b[1m Human Message \u001b[0m=================================\n",
            "\n",
            "I want to know the best sites in USA And Japan To See Whale And Salmon Fishing As well\n"
          ]
        }
      ],
      "source": [
        "for msg in messages:\n",
        "  msg.pretty_print()"
      ]
    },
    {
      "cell_type": "code",
      "execution_count": null,
      "metadata": {
        "id": "c_KkYx8X2din"
      },
      "outputs": [],
      "source": [
        "reply = llm.invoke(messages)"
      ]
    },
    {
      "cell_type": "code",
      "execution_count": null,
      "metadata": {
        "colab": {
          "base_uri": "https://localhost:8080/",
          "height": 848
        },
        "id": "kYv9_4nv3jiW",
        "outputId": "65ab844e-deb2-4456-c922-961da02e433e"
      },
      "outputs": [
        {
          "data": {
            "text/markdown": "> That's exciting!  Seeing whales and salmon fishing are both incredible experiences.  Let's break down the best sites in the USA and Japan for each:\n> \n> **Whale Watching:**\n> \n> **USA:**\n> \n> * **Alaska:** Arguably the best whale watching in the US.  You can see humpback whales, orcas (killer whales), gray whales, and more, depending on the season and location.  Specific locations include Juneau, Seward, Kenai Fjords National Park, and the Inside Passage.  Cruises are readily available.\n> \n> * **California:**  Monterey Bay is famous for its whale watching, particularly gray whales during their migration.  Channel Islands National Park also offers excellent opportunities to see whales, dolphins, and other marine life.\n> \n> * **Massachusetts (Cape Cod & Stellwagen Bank):**  Humpback whales are common here, especially during the summer months.  Whale watching tours depart from various towns along the Cape.\n> \n> * **Oregon & Washington:** Gray whales migrate along the coast, offering opportunities for sightings.  Orcas are also present in these areas.\n> \n> \n> **Japan:**\n> \n> * **Hokkaido:**  Known for its diverse whale species, including orcas, minke whales, and humpback whales.  Specific locations like Rausu and Kushiro offer excellent opportunities.  Whale watching tours are common.\n> \n> * **Tohoku Region (Pacific Coast):**  This region also offers good chances to see various whale species, depending on the season.\n> \n> * **Pacific Ocean side of Honshu:**  While not as consistently reliable as Hokkaido or Tohoku, certain areas along the Pacific coast can offer whale watching opportunities.\n> \n> \n> **Salmon Fishing (viewing, not necessarily participating in the fishing itself):**\n> \n> **USA:**\n> \n> * **Alaska:**  Alaska is the undisputed king of salmon fishing.  You can witness salmon runs in many rivers and streams across the state.  Katmai National Park and Preserve is particularly famous for its brown bear fishing for salmon.  Many lodges and tours offer opportunities to observe the runs.\n> \n> * **Pacific Northwest (Oregon & Washington):**  The Columbia River and its tributaries are known for their salmon runs.  You can find viewing areas along the riverbanks.\n> \n> * **California:**  While not as prolific as Alaska or the Pacific Northwest, some rivers in California still have salmon runs, though often on a smaller scale.\n> \n> \n> **Japan:**\n> \n> * **Hokkaido:**  Several rivers in Hokkaido have significant salmon runs, particularly the Shiretoko Peninsula.  You can often see salmon spawning in the rivers.\n> \n> * **Tohoku Region:**  Similar to Hokkaido, the Tohoku region also has rivers with salmon runs, though the scale might vary depending on the specific river and season.\n> \n> \n> **Important Considerations:**\n> \n> * **Seasonality:** Whale watching and salmon runs are highly seasonal.  Research the best times to visit for optimal viewing.\n> * **Tour Operators:**  For both whale watching and salmon viewing, reputable tour operators are crucial.  They prioritize responsible wildlife viewing practices.\n> * **Respect for Wildlife:**  Maintain a safe distance from whales and other marine life.  Never approach or disturb them.  For salmon, observe from designated viewing areas.\n> \n> \n> Before you plan your trip, I strongly recommend researching specific locations within these regions and checking the current conditions and regulations for whale watching and salmon viewing.  Websites dedicated to wildlife tourism and local tourism boards will be invaluable resources.\n",
            "text/plain": [
              "<IPython.core.display.Markdown object>"
            ]
          },
          "execution_count": 57,
          "metadata": {},
          "output_type": "execute_result"
        }
      ],
      "source": [
        "to_markdown(reply.content)"
      ]
    },
    {
      "cell_type": "code",
      "execution_count": null,
      "metadata": {
        "colab": {
          "base_uri": "https://localhost:8080/"
        },
        "id": "Pi2cHZxK36HV",
        "outputId": "24bc9fa4-8efa-4fc1-aa00-326132265d0a"
      },
      "outputs": [
        {
          "data": {
            "text/plain": [
              "AIMessage(content='My name is Bob.\\n', additional_kwargs={}, response_metadata={'prompt_feedback': {'block_reason': 0, 'safety_ratings': []}, 'finish_reason': 'STOP', 'safety_ratings': []}, id='run-49d4e562-dcdd-4021-86c6-e7d7fc7c6c97-0', usage_metadata={'input_tokens': 15, 'output_tokens': 6, 'total_tokens': 21, 'input_token_details': {'cache_read': 0}})"
            ]
          },
          "execution_count": 58,
          "metadata": {},
          "output_type": "execute_result"
        }
      ],
      "source": [
        "system = [\n",
        "    SystemMessage(content=\"You are an Helpful Assistant and Your name is Bob\"),\n",
        "    HumanMessage(content=\"What is your name\",name=\"Human\")\n",
        "]\n",
        "\n",
        "llm.invoke(system)"
      ]
    },
    {
      "cell_type": "code",
      "execution_count": null,
      "metadata": {
        "id": "oC8j5E355zdR"
      },
      "outputs": [],
      "source": [
        "def deposit_money(name:str,deposit_amount:int) -> dict :\n",
        "  \"\"\" A function that simulates depositing money ino an account\n",
        "  It contains two arguments\n",
        "  Args:\n",
        "      name:Account Holder Name (It is Of String Data Type)\n",
        "      deposit_amount:Amount the user wants to deposit (It is Of Integer Data Type)\n",
        "  return:\n",
        "      dict\n",
        "  \"\"\"\n",
        "  return {\"Status\":f\"Success, Amount {deposit_amount} is Deposited into {name} Account \"}"
      ]
    },
    {
      "cell_type": "code",
      "execution_count": null,
      "metadata": {
        "id": "OcIRk6PXIeMZ"
      },
      "outputs": [],
      "source": [
        "llm_with_tools = llm.bind_tools([deposit_money])"
      ]
    },
    {
      "cell_type": "code",
      "execution_count": null,
      "metadata": {
        "colab": {
          "base_uri": "https://localhost:8080/"
        },
        "id": "t_T2hlUKImUT",
        "outputId": "5f1ef492-d91c-40a0-b494-751e2c83a995"
      },
      "outputs": [
        {
          "data": {
            "text/plain": [
              "{'Status': 'Success, Amount 2500000 is Deposited into Saim Hassan Account '}"
            ]
          },
          "execution_count": 61,
          "metadata": {},
          "output_type": "execute_result"
        }
      ],
      "source": [
        "deposit_money(\"Saim Hassan\",2500000)"
      ]
    },
    {
      "cell_type": "code",
      "execution_count": null,
      "metadata": {
        "colab": {
          "base_uri": "https://localhost:8080/"
        },
        "id": "rrRqcW9KLqJT",
        "outputId": "2892ede7-f0bb-4125-ec22-7bbba7cfee9c"
      },
      "outputs": [
        {
          "data": {
            "text/plain": [
              "RunnableBinding(bound=ChatGoogleGenerativeAI(model='models/gemini-1.5-flash', google_api_key=SecretStr('**********'), temperature=0.0, client=<google.ai.generativelanguage_v1beta.services.generative_service.client.GenerativeServiceClient object at 0x7f4f68be95d0>, default_metadata=()), kwargs={'tools': [{'type': 'function', 'function': {'name': 'deposit_money', 'description': 'A function that simulates depositing money ino an account\\nIt contains two arguments\\nArgs:\\n    name:Account Holder Name (It is Of String Data Type)\\n    deposit_amount:Amount the user wants to deposit (It is Of Integer Data Type)\\nreturn:\\n    dict', 'parameters': {'properties': {'name': {'type': 'string'}, 'deposit_amount': {'type': 'integer'}}, 'required': ['name', 'deposit_amount'], 'type': 'object'}}}]}, config={}, config_factories=[])"
            ]
          },
          "execution_count": 62,
          "metadata": {},
          "output_type": "execute_result"
        }
      ],
      "source": [
        "llm_with_tools"
      ]
    },
    {
      "cell_type": "code",
      "execution_count": null,
      "metadata": {
        "colab": {
          "base_uri": "https://localhost:8080/"
        },
        "id": "1ONnK_-TMDrS",
        "outputId": "e5c2c6e3-de75-44f7-a6cf-722030372b9a"
      },
      "outputs": [
        {
          "data": {
            "text/plain": [
              "AIMessage(content=\"I cannot directly deposit money into a bank account.  I am a large language model, an AI. I do not have access to real-world financial systems or the ability to make transactions.  To deposit money into Saim Hassan's account, you will need to use a bank, online banking system, or other financial institution.\\n\", additional_kwargs={}, response_metadata={'prompt_feedback': {'block_reason': 0, 'safety_ratings': []}, 'finish_reason': 'STOP', 'safety_ratings': []}, id='run-f8d4e086-2e7a-4fe6-ae2c-e63ace95bd34-0', usage_metadata={'input_tokens': 14, 'output_tokens': 69, 'total_tokens': 83, 'input_token_details': {'cache_read': 0}})"
            ]
          },
          "execution_count": 63,
          "metadata": {},
          "output_type": "execute_result"
        }
      ],
      "source": [
        "llm.invoke([HumanMessage(content = f\"Deposit 200000 in Saim Hassan Account\", name=\"Saim Hassan\")])"
      ]
    },
    {
      "cell_type": "code",
      "execution_count": null,
      "metadata": {
        "colab": {
          "base_uri": "https://localhost:8080/"
        },
        "id": "QrI7XvqmOslz",
        "outputId": "26009b56-eea7-4c60-dcf4-200d86c339b4"
      },
      "outputs": [
        {
          "data": {
            "text/plain": [
              "AIMessage(content='', additional_kwargs={'function_call': {'name': 'deposit_money', 'arguments': '{\"deposit_amount\": 200000.0, \"name\": \"Saim\"}'}}, response_metadata={'prompt_feedback': {'block_reason': 0, 'safety_ratings': []}, 'finish_reason': 'STOP', 'safety_ratings': []}, id='run-920025d2-de5f-4373-afe8-dc60b7d853d8-0', tool_calls=[{'name': 'deposit_money', 'args': {'deposit_amount': 200000.0, 'name': 'Saim'}, 'id': '4aa3b1c0-76ee-4250-81fd-8261c9e4da5f', 'type': 'tool_call'}], usage_metadata={'input_tokens': 118, 'output_tokens': 9, 'total_tokens': 127, 'input_token_details': {'cache_read': 0}})"
            ]
          },
          "execution_count": 64,
          "metadata": {},
          "output_type": "execute_result"
        }
      ],
      "source": [
        "llm_with_tools.invoke([HumanMessage(content=\"Deposit 200000 in Saim Account\",name=\"Saim Hassan\")])"
      ]
    },
    {
      "cell_type": "code",
      "execution_count": null,
      "metadata": {
        "id": "LVwlYOmAOx0U"
      },
      "outputs": [],
      "source": [
        "class StateDeposite(TypedDict):\n",
        "  messages : list\n",
        "\n",
        "def Node_1(state:StateDeposite) -> StateDeposite :\n",
        "  messages = state[\"messages\"]\n",
        "  call_response = llm_with_tools.invoke(messages)\n",
        "  return{\"messages\":call_response}\n",
        "\n",
        "builder : StateGraph = StateGraph(state_schema=StateDeposite)\n",
        "\n",
        "builder.add_node(\"Node_1\",Node_1)\n",
        "\n",
        "builder.add_edge(START,\"Node_1\")\n",
        "builder.add_edge(\"Node_1\",END)\n",
        "\n",
        "graph : CompiledStateGraph = builder.compile()"
      ]
    },
    {
      "cell_type": "code",
      "execution_count": null,
      "metadata": {
        "colab": {
          "base_uri": "https://localhost:8080/"
        },
        "id": "TK7PQGWLZQJk",
        "outputId": "7ad6e73d-c788-4ed7-a921-f4ffe16e96f6"
      },
      "outputs": [
        {
          "data": {
            "text/plain": [
              "{'messages': AIMessage(content='Hello there! How can I help you today?\\n', additional_kwargs={}, response_metadata={'prompt_feedback': {'block_reason': 0, 'safety_ratings': []}, 'finish_reason': 'STOP', 'safety_ratings': []}, id='run-5cdcc364-8e39-4ef9-8c81-fee7ea9f92d7-0', usage_metadata={'input_tokens': 108, 'output_tokens': 11, 'total_tokens': 119, 'input_token_details': {'cache_read': 0}})}"
            ]
          },
          "execution_count": 66,
          "metadata": {},
          "output_type": "execute_result"
        }
      ],
      "source": [
        "graph.invoke({\"messages\":[HumanMessage(content=\"Hi There\",name=\"Saim\")]})"
      ]
    },
    {
      "cell_type": "code",
      "execution_count": null,
      "metadata": {
        "colab": {
          "base_uri": "https://localhost:8080/"
        },
        "id": "P18u6_P-ZnKm",
        "outputId": "76dfdf28-4a57-4561-e3bf-32b92bc07baa"
      },
      "outputs": [
        {
          "data": {
            "text/plain": [
              "{'messages': AIMessage(content='', additional_kwargs={'function_call': {'name': 'deposit_money', 'arguments': '{\"deposit_amount\": 25000.0, \"name\": \"Ali\"}'}}, response_metadata={'prompt_feedback': {'block_reason': 0, 'safety_ratings': []}, 'finish_reason': 'STOP', 'safety_ratings': []}, id='run-64eadc91-5686-4904-850d-781e0fe52163-0', tool_calls=[{'name': 'deposit_money', 'args': {'deposit_amount': 25000.0, 'name': 'Ali'}, 'id': '8e37af91-4279-48e2-9f01-defd5f478c09', 'type': 'tool_call'}], usage_metadata={'input_tokens': 116, 'output_tokens': 8, 'total_tokens': 124, 'input_token_details': {'cache_read': 0}})}"
            ]
          },
          "execution_count": 67,
          "metadata": {},
          "output_type": "execute_result"
        }
      ],
      "source": [
        "graph.invoke({\"messages\":[HumanMessage(content=\"Deposit 25000 in Ali Account\",name=\"Saim\")]})"
      ]
    },
    {
      "cell_type": "code",
      "execution_count": null,
      "metadata": {
        "id": "J7d6GVlmZ5-z"
      },
      "outputs": [],
      "source": [
        "def account_balance(name:str,account_number:int) -> dict :\n",
        "  \"\"\"\"\n",
        "  A function that gives the user his/her account balance\n",
        "  It contains two arguments as follows\n",
        "  Args:\n",
        "      name : Account Holder Name(It is of string data type)\n",
        "      account_number : Account number of the Account Holder(It is of integer data type)\n",
        "  return:\n",
        "      dict\n",
        "  \"\"\"\n",
        "  return {\"Status\":f\"The Total Balance of Your Account Number {account_number} by your {name} is $10000 \"}"
      ]
    },
    {
      "cell_type": "code",
      "execution_count": null,
      "metadata": {
        "id": "iAkjt_0oJ7CB"
      },
      "outputs": [],
      "source": [
        "llm_with_tools = llm.bind_tools([account_balance])"
      ]
    },
    {
      "cell_type": "code",
      "execution_count": null,
      "metadata": {
        "id": "Nx-uCyYRJT8O"
      },
      "outputs": [],
      "source": [
        "class AccountBalanceState(TypedDict):\n",
        "  messages : list\n",
        "\n",
        "def llm_with_tool(state:AccountBalanceState) -> AccountBalanceState :\n",
        "  messages = state[\"messages\"]\n",
        "  response = llm_with_tools.invoke(messages)\n",
        "  return {\"messages\":response}\n",
        "\n",
        "builder : StateGraph = StateGraph(state_schema = AccountBalanceState)\n",
        "\n",
        "builder.add_node(\"llm_with_tool\",llm_with_tool)\n",
        "\n",
        "builder.add_edge(START,\"llm_with_tool\")\n",
        "builder.add_edge(\"llm_with_tool\",END)\n",
        "\n",
        "graph : CompiledStateGraph = builder.compile()"
      ]
    },
    {
      "cell_type": "code",
      "execution_count": null,
      "metadata": {
        "id": "aBigN7BKKr3O"
      },
      "outputs": [],
      "source": [
        "response = graph.invoke({\"messages\":[HumanMessage(content=\"Tell me my account balance , my name is Saim Hassan and my account number is 2345678\",name=\"Ali Hassan\")]})"
      ]
    },
    {
      "cell_type": "code",
      "execution_count": null,
      "metadata": {
        "colab": {
          "base_uri": "https://localhost:8080/"
        },
        "id": "jEkohX8X1N0J",
        "outputId": "d22162bb-bf5d-47bd-937f-0d3a62465e55"
      },
      "outputs": [
        {
          "data": {
            "text/plain": [
              "{'prompt_feedback': {'block_reason': 0, 'safety_ratings': []},\n",
              " 'finish_reason': 'STOP',\n",
              " 'safety_ratings': []}"
            ]
          },
          "execution_count": 72,
          "metadata": {},
          "output_type": "execute_result"
        }
      ],
      "source": [
        "response[\"messages\"].response_metadata"
      ]
    },
    {
      "cell_type": "code",
      "execution_count": null,
      "metadata": {
        "id": "RWxi8TNT1m5a"
      },
      "outputs": [],
      "source": [
        "def multiply(a:int,b:int) -> int :\n",
        "  \"\"\"\n",
        "  This function is used to multiply the inputs given to it, It has two arguments\n",
        "  Args:\n",
        "      a: First Number (It is of integer data type)\n",
        "      b: Second Number (It is of integer data type)\n",
        "  return:\n",
        "      int\n",
        "  \"\"\"\n",
        "  return a*b"
      ]
    },
    {
      "cell_type": "code",
      "execution_count": null,
      "metadata": {
        "id": "IGhGZb-321Ol"
      },
      "outputs": [],
      "source": [
        "llm_with_tools : ChatGoogleGenerativeAI = llm.bind_tools([multiply])"
      ]
    },
    {
      "cell_type": "code",
      "execution_count": null,
      "metadata": {
        "colab": {
          "base_uri": "https://localhost:8080/"
        },
        "id": "y6uZZKDS2_Vr",
        "outputId": "20f033eb-ec69-4b33-d27f-0ab9df3d451f"
      },
      "outputs": [
        {
          "data": {
            "text/plain": [
              "AIMessage(content='', additional_kwargs={'function_call': {'name': 'multiply', 'arguments': '{\"a\": 5.0, \"b\": 5.0}'}}, response_metadata={'prompt_feedback': {'block_reason': 0, 'safety_ratings': []}, 'finish_reason': 'STOP', 'safety_ratings': []}, id='run-eff19849-3d8e-4fa7-9de7-377ecb9fa9c3-0', tool_calls=[{'name': 'multiply', 'args': {'a': 5.0, 'b': 5.0}, 'id': 'ef597da3-a785-44e6-97f8-c9aa7c8724bb', 'type': 'tool_call'}], usage_metadata={'input_tokens': 102, 'output_tokens': 3, 'total_tokens': 105, 'input_token_details': {'cache_read': 0}})"
            ]
          },
          "execution_count": 75,
          "metadata": {},
          "output_type": "execute_result"
        }
      ],
      "source": [
        "function_call = llm_with_tools.invoke([HumanMessage(content=\"What is 5 times 5\",name=\"Saim Hassan\")])\n",
        "function_call"
      ]
    },
    {
      "cell_type": "code",
      "execution_count": null,
      "metadata": {
        "colab": {
          "base_uri": "https://localhost:8080/"
        },
        "id": "wO_Y9znf37dc",
        "outputId": "5ec409a8-1b5a-46c7-e69c-69e45a54e6f9"
      },
      "outputs": [
        {
          "data": {
            "text/plain": [
              "{'prompt_feedback': {'block_reason': 0, 'safety_ratings': []},\n",
              " 'finish_reason': 'STOP',\n",
              " 'safety_ratings': []}"
            ]
          },
          "execution_count": 76,
          "metadata": {},
          "output_type": "execute_result"
        }
      ],
      "source": [
        "function_call.response_metadata"
      ]
    },
    {
      "cell_type": "code",
      "execution_count": null,
      "metadata": {
        "colab": {
          "base_uri": "https://localhost:8080/"
        },
        "id": "rn6NEvMF4J0I",
        "outputId": "0cf6b00c-c38a-4d7f-df74-a532d4d1be22"
      },
      "outputs": [
        {
          "data": {
            "text/plain": [
              "{'name': 'multiply', 'arguments': '{\"a\": 5.0, \"b\": 5.0}'}"
            ]
          },
          "execution_count": 77,
          "metadata": {},
          "output_type": "execute_result"
        }
      ],
      "source": [
        "function_call.additional_kwargs[\"function_call\"]"
      ]
    },
    {
      "cell_type": "code",
      "execution_count": null,
      "metadata": {
        "id": "UsbhPlCN43RW"
      },
      "outputs": [],
      "source": [
        "from langchain_core.messages import AnyMessage\n",
        "from langgraph.graph import add_messages\n",
        "from typing_extensions import Annotated\n",
        "class StateMultiply(TypedDict):\n",
        "  messages : list[AnyMessage]"
      ]
    },
    {
      "cell_type": "code",
      "execution_count": null,
      "metadata": {
        "id": "KSL-4097AtLU"
      },
      "outputs": [],
      "source": [
        "class MultiplyState(TypedDict):\n",
        "  messages : Annotated[list[AnyMessage],add_messages]"
      ]
    },
    {
      "cell_type": "code",
      "execution_count": null,
      "metadata": {
        "id": "UIjv5sZrA7XL"
      },
      "outputs": [],
      "source": [
        "from langgraph.graph import MessagesState"
      ]
    },
    {
      "cell_type": "code",
      "execution_count": null,
      "metadata": {
        "id": "ZLSGzmo3Jn8k"
      },
      "outputs": [],
      "source": [
        "class DefaultState(MessagesState):\n",
        "  pass"
      ]
    },
    {
      "cell_type": "code",
      "execution_count": null,
      "metadata": {
        "colab": {
          "base_uri": "https://localhost:8080/"
        },
        "id": "ZUqGHUVeKNF8",
        "outputId": "8f4e7284-f1ee-4cf9-eaa4-176ff030fa8e"
      },
      "outputs": [
        {
          "data": {
            "text/plain": [
              "[AIMessage(content='Hi there , So you are interested in Ocean Animals', additional_kwargs={}, response_metadata={}, name='AIModel', id='c05530c6-0bb3-4fc7-9d9b-287856a87f15'),\n",
              " HumanMessage(content='Yes thats right', additional_kwargs={}, response_metadata={}, name='Human', id='bf870531-7ca0-48da-b53c-807750b1d264'),\n",
              " AIMessage(content='Thats Wonderful, So what you want to know about the Ocean Animals', additional_kwargs={}, response_metadata={}, name='AIModel', id='0fcd6f1b-1e17-4cb6-b363-8ce4b31d3a74'),\n",
              " HumanMessage(content='I want to know the best sites in Alaska To See Whale And Salmon Fishing As well', additional_kwargs={}, response_metadata={}, name='Human', id='d804add1-7cb7-4330-b5c8-d15be5dbd4d6')]"
            ]
          },
          "execution_count": 82,
          "metadata": {},
          "output_type": "execute_result"
        }
      ],
      "source": [
        "message1 = [AIMessage(content=\"Hi there , So you are interested in Ocean Animals\",name=\"AIModel\"),\n",
        "            HumanMessage(content=\"Yes thats right\",name=\"Human\")]\n",
        "message2= [AIMessage(content=\"Thats Wonderful, So what you want to know about the Ocean Animals\",name=\"AIModel\"),\n",
        "           HumanMessage(content=\"I want to know the best sites in Alaska To See Whale And Salmon Fishing As well\",name=\"Human\")]\n",
        "add_messages(message1,message2)"
      ]
    },
    {
      "cell_type": "code",
      "execution_count": null,
      "metadata": {
        "id": "VQZqZF4RLUjo"
      },
      "outputs": [],
      "source": [
        "def Call_llm_tools(state:DefaultState) -> DefaultState :\n",
        "  messages = state[\"messages\"]\n",
        "  reply = llm_with_tools.invoke(messages)\n",
        "  return {\"messages\":reply}\n",
        "\n",
        "builder : StateGraph = StateGraph(state_schema=DefaultState)\n",
        "\n",
        "builder.add_node(\"Call_llm_tools\",Call_llm_tools)\n",
        "\n",
        "builder.add_edge(START,\"Call_llm_tools\")\n",
        "builder.add_edge(\"Call_llm_tools\",END)\n",
        "\n",
        "graph :CompiledStateGraph = builder.compile()"
      ]
    },
    {
      "cell_type": "code",
      "execution_count": null,
      "metadata": {
        "colab": {
          "base_uri": "https://localhost:8080/",
          "height": 251
        },
        "id": "TD7a2ZKnM8I9",
        "outputId": "da74e162-b34f-4ef7-ee7c-d61fc16fa7c3"
      },
      "outputs": [
        {
          "data": {
            "image/png": "[encoded data removed]",
            "text/plain": [
              "<IPython.core.display.Image object>"
            ]
          },
          "metadata": {},
          "output_type": "display_data"
        }
      ],
      "source": [
        "display(Image(graph.get_graph().draw_mermaid_png()))"
      ]
    },
    {
      "cell_type": "code",
      "execution_count": null,
      "metadata": {
        "id": "jNDQU28WNEBw"
      },
      "outputs": [],
      "source": [
        "msg = graph.invoke({\"messages\":[HumanMessage(content='Hi there! How are you', name= \"Saim\")]})"
      ]
    },
    {
      "cell_type": "code",
      "execution_count": null,
      "metadata": {
        "colab": {
          "base_uri": "https://localhost:8080/"
        },
        "id": "lH3a54eSNjPh",
        "outputId": "c5584e37-7966-40b9-ee0d-d60221e7ea8e"
      },
      "outputs": [
        {
          "name": "stdout",
          "output_type": "stream",
          "text": [
            "================================\u001b[1m Human Message \u001b[0m=================================\n",
            "Name: Saim\n",
            "\n",
            "Hi there! How are you\n",
            "==================================\u001b[1m Ai Message \u001b[0m==================================\n",
            "\n",
            "I'm doing well, thank you for asking! How are you today?\n"
          ]
        }
      ],
      "source": [
        "for m in msg[\"messages\"]:\n",
        "  m.pretty_print()"
      ]
    },
    {
      "cell_type": "code",
      "execution_count": null,
      "metadata": {
        "id": "FTthKWqsN5zT"
      },
      "outputs": [],
      "source": [
        "msg1 = graph.invoke({\"messages\":[HumanMessage(content=\"Multiply 5 by 5\", name= \"Saim\")]})"
      ]
    },
    {
      "cell_type": "code",
      "execution_count": null,
      "metadata": {
        "colab": {
          "base_uri": "https://localhost:8080/"
        },
        "id": "MzveEDRlO8Ks",
        "outputId": "0ec354f9-f6ba-4d9b-d71b-1e1bedc14551"
      },
      "outputs": [
        {
          "name": "stdout",
          "output_type": "stream",
          "text": [
            "================================\u001b[1m Human Message \u001b[0m=================================\n",
            "Name: Saim\n",
            "\n",
            "Multiply 5 by 5\n",
            "==================================\u001b[1m Ai Message \u001b[0m==================================\n",
            "Tool Calls:\n",
            "  multiply (bc1ff006-7770-483d-99f4-46797b8df6f3)\n",
            " Call ID: bc1ff006-7770-483d-99f4-46797b8df6f3\n",
            "  Args:\n",
            "    a: 5.0\n",
            "    b: 5.0\n"
          ]
        }
      ],
      "source": [
        "for m in msg1[\"messages\"]:\n",
        "  m.pretty_print()"
      ]
    },
    {
      "cell_type": "code",
      "execution_count": null,
      "metadata": {
        "colab": {
          "base_uri": "https://localhost:8080/"
        },
        "id": "nipufAVBPAIh",
        "outputId": "beace695-19ad-444c-873b-984d67885920"
      },
      "outputs": [
        {
          "name": "stderr",
          "output_type": "stream",
          "text": [
            "WARNING:langchain_google_genai.chat_models:Retrying langchain_google_genai.chat_models._chat_with_retry.<locals>._chat_with_retry in 2.0 seconds as it raised ResourceExhausted: 429 Resource has been exhausted (e.g. check quota)..\n"
          ]
        }
      ],
      "source": [
        "msg2 = graph.invoke({\"messages\":[HumanMessage(content=\"Hi there! How are you\", name= \"Saim\"),\n",
        "                                 AIMessage(content=\"I am good , thanks for asking, How are you !\", name= \"AIModel\"),\n",
        "                                 HumanMessage(content=\"I am interested in exploring ufc fighters and my name is Saim Hassan\", name= \"Saim\"),\n",
        "                                 AIMessage(content=\"Thats Wonderful, So what you want to know about the ufc fighters\", name= \"AIModel\"),\n",
        "                                 HumanMessage(content=\"How to become a ufc fighter as I am 25 years old\", name= \"Saim\")\n",
        "                                 ]})"
      ]
    },
    {
      "cell_type": "code",
      "execution_count": null,
      "metadata": {
        "colab": {
          "base_uri": "https://localhost:8080/"
        },
        "id": "entVADNkRasT",
        "outputId": "f758a60f-8eea-4c7f-c9bc-a2ac0d7674d2"
      },
      "outputs": [
        {
          "name": "stdout",
          "output_type": "stream",
          "text": [
            "================================\u001b[1m Human Message \u001b[0m=================================\n",
            "Name: Saim\n",
            "\n",
            "Hi there! How are you\n",
            "==================================\u001b[1m Ai Message \u001b[0m==================================\n",
            "Name: AIModel\n",
            "\n",
            "I am good , thanks for asking, How are you !\n",
            "================================\u001b[1m Human Message \u001b[0m=================================\n",
            "Name: Saim\n",
            "\n",
            "I am interested in exploring ufc fighters and my name is Saim Hassan\n",
            "==================================\u001b[1m Ai Message \u001b[0m==================================\n",
            "Name: AIModel\n",
            "\n",
            "Thats Wonderful, So what you want to know about the ufc fighters\n",
            "================================\u001b[1m Human Message \u001b[0m=================================\n",
            "Name: Saim\n",
            "\n",
            "How to become a ufc fighter as I am 25 years old\n",
            "==================================\u001b[1m Ai Message \u001b[0m==================================\n",
            "\n",
            "Becoming a UFC fighter is a challenging but achievable goal, even at 25.  Here's a breakdown of the steps involved:\n",
            "\n",
            "**1. Assess Your Physical Condition and Skills:**\n",
            "\n",
            "* **Martial Arts Training:**  You'll need extensive training in mixed martial arts (MMA). This typically involves a combination of disciplines like:\n",
            "    * **Striking:** Boxing, Muay Thai, Kickboxing (focus on punches, kicks, elbows, knees)\n",
            "    * **Grappling:** Brazilian Jiu-Jitsu (BJJ), Wrestling (focus on takedowns, ground fighting, submissions)\n",
            "* **Physical Fitness:**  UFC fighters are incredibly fit. You'll need to develop:\n",
            "    * **Cardiovascular Endurance:**  The ability to maintain high intensity for extended periods.\n",
            "    * **Strength and Conditioning:**  Develop power, speed, and overall strength.\n",
            "    * **Flexibility and Agility:**  Important for movement and avoiding strikes.\n",
            "\n",
            "**2. Find a Qualified MMA Gym:**\n",
            "\n",
            "* **Research:** Look for reputable gyms with experienced coaches who have a proven track record of developing fighters.\n",
            "* **Trial Classes:** Take trial classes at different gyms to find the best fit for your learning style and goals.\n",
            "* **Commitment:**  Be prepared for a significant time commitment.  Training will likely involve multiple sessions per week.\n",
            "\n",
            "**3. Develop Your Skills and Experience:**\n",
            "\n",
            "* **Consistent Training:**  Dedication and consistency are key.  You need to train regularly and progressively challenge yourself.\n",
            "* **Sparring:**  Sparring is crucial for developing fighting skills and experience.\n",
            "* **Amateur MMA Fights:**  Gain experience by competing in amateur MMA fights. This will help you build your record and prepare for professional competition.\n",
            "\n",
            "**4. Build Your Record:**\n",
            "\n",
            "* **Amateur Fights:**  Winning amateur fights will demonstrate your skills and build your confidence.\n",
            "* **Consistency:**  Aim for consistent wins to improve your chances of attracting the attention of professional promoters.\n",
            "\n",
            "**5. Transition to Professional MMA:**\n",
            "\n",
            "* **Professional License:**  Once you have a strong amateur record, you can apply for a professional MMA license in your state or region.  Requirements vary by location.\n",
            "* **Networking:**  Network with promoters, managers, and other fighters to increase your visibility.\n",
            "* **Professional Fights:**  Start competing in professional MMA fights.\n",
            "\n",
            "**6. Gain Recognition and Attention:**\n",
            "\n",
            "* **Performance:**  Consistent wins and impressive performances in professional fights will attract attention from the UFC.\n",
            "* **Highlight Reels:**  Create highlight reels of your best fights to showcase your skills.\n",
            "* **Social Media:**  Use social media to promote yourself and connect with fans and potential opportunities.\n",
            "\n",
            "**7. The UFC:**\n",
            "\n",
            "* **UFC Scouting:**  The UFC scouts fighters from various promotions.  Excellent performance and a strong record will increase your chances of being noticed.\n",
            "* **Contender Series:**  The UFC's \"Contender Series\" is a pathway for talented fighters to earn a UFC contract.\n",
            "\n",
            "**Important Considerations:**\n",
            "\n",
            "* **Age:** While 25 isn't \"old\" in MMA, it's important to be realistic about the time commitment required.  Many successful fighters started training much younger.\n",
            "* **Injuries:**  MMA is a high-impact sport with a high risk of injury.  Be prepared for potential injuries and the need for recovery time.\n",
            "* **Financial Commitment:**  Training, equipment, travel, and competition fees can be expensive.\n",
            "\n",
            "\n",
            "This is a long and challenging journey.  Dedication, discipline, and a strong support system are essential for success.  Start with finding a good gym and begin your training.  Good luck, Saim Hassan!\n"
          ]
        }
      ],
      "source": [
        "for m in msg2[\"messages\"]:\n",
        "  m.pretty_print()"
      ]
    },
    {
      "cell_type": "code",
      "execution_count": null,
      "metadata": {
        "id": "O2wEUokBRigK"
      },
      "outputs": [],
      "source": [
        "def power_of(num1:int,num2:int) -> int :\n",
        "  \"\"\"\n",
        "  The above is used to calculate the raise to power of an integer, the second integer passed as argument is set as the exponent to\n",
        "  the first integer passed as an argument and the result is returned , it has 2 arguments\n",
        "  Agrs:\n",
        "      num1:First Number (It is of integer data type)\n",
        "      num2:Second Number (It is of integer data type)\n",
        "  return:\n",
        "      int\n",
        "  \"\"\"\n",
        "  return num1**num2"
      ]
    },
    {
      "cell_type": "code",
      "execution_count": null,
      "metadata": {
        "id": "uT6kjUSY5COX"
      },
      "outputs": [],
      "source": [
        "llm_with_tools : ChatGoogleGenerativeAI = llm.bind_tools([power_of])"
      ]
    },
    {
      "cell_type": "code",
      "execution_count": null,
      "metadata": {
        "id": "ZMEFcIEyGEYa"
      },
      "outputs": [],
      "source": [
        "def tool_with_llm(state:MessagesState) -> MessagesState :\n",
        "  return{\"messages\":[llm_with_tools.invoke(state[\"messages\"])]}"
      ]
    },
    {
      "cell_type": "code",
      "execution_count": null,
      "metadata": {
        "id": "-RBnBxNHHgow"
      },
      "outputs": [],
      "source": [
        "builder : StateGraph = StateGraph(state_schema=MessagesState)"
      ]
    },
    {
      "cell_type": "code",
      "execution_count": null,
      "metadata": {
        "id": "ZzHjZir1HqQ3"
      },
      "outputs": [],
      "source": [
        "from langgraph.prebuilt import ToolNode,tools_condition"
      ]
    },
    {
      "cell_type": "code",
      "execution_count": null,
      "metadata": {
        "colab": {
          "base_uri": "https://localhost:8080/"
        },
        "id": "0SpVWcXbPRts",
        "outputId": "137be4fa-17d0-4ba8-fe1f-550545e10a17"
      },
      "outputs": [
        {
          "data": {
            "text/plain": [
              "<langgraph.graph.state.StateGraph at 0x7f4f67b27910>"
            ]
          },
          "execution_count": 96,
          "metadata": {},
          "output_type": "execute_result"
        }
      ],
      "source": [
        "builder.add_node(\"tools_with_llm\",tool_with_llm)\n",
        "builder.add_node(\"tools\",ToolNode([power_of]))\n",
        "builder.add_edge(START,\"tools_with_llm\")\n",
        "builder.add_conditional_edges(\"tools_with_llm\",tools_condition)\n",
        "builder.add_edge(\"tools\",END)"
      ]
    },
    {
      "cell_type": "code",
      "execution_count": null,
      "metadata": {
        "id": "2XMJyGhdY4mb"
      },
      "outputs": [],
      "source": [
        "graph : CompiledStateGraph = builder.compile()"
      ]
    },
    {
      "cell_type": "code",
      "execution_count": null,
      "metadata": {
        "colab": {
          "base_uri": "https://localhost:8080/",
          "height": 350
        },
        "id": "EtFDoQoLY67J",
        "outputId": "b1124502-9d9d-4153-fd12-6c7e18906a38"
      },
      "outputs": [
        {
          "data": {
            "image/png": "[encoded data removed]",
            "text/plain": [
              "<IPython.core.display.Image object>"
            ]
          },
          "metadata": {},
          "output_type": "display_data"
        }
      ],
      "source": [
        "display(Image(graph.get_graph().draw_mermaid_png()))"
      ]
    },
    {
      "cell_type": "code",
      "execution_count": null,
      "metadata": {
        "id": "X_MaEdRVnLO_"
      },
      "outputs": [],
      "source": [
        "def multiply(a:int,b:int) -> int :\n",
        "  \"\"\"\n",
        "  This function is used to multiply the inputs given to it, It has two arguments\n",
        "  Args:\n",
        "      a: First Number (It is of integer data type)\n",
        "      b: Second Number (It is of integer data)\n",
        "  return:\n",
        "      a*b (integer data type)\"\"\"\n",
        "  return  a*b"
      ]
    },
    {
      "cell_type": "code",
      "execution_count": null,
      "metadata": {
        "id": "4eeNxDsspyOh"
      },
      "outputs": [],
      "source": [
        "llm_with_all_tools = llm.bind_tools([multiply])"
      ]
    },
    {
      "cell_type": "code",
      "execution_count": null,
      "metadata": {
        "id": "IQkcsIHop48B"
      },
      "outputs": [],
      "source": [
        "builder2 = StateGraph(state_schema=MessagesState)"
      ]
    },
    {
      "cell_type": "code",
      "execution_count": null,
      "metadata": {
        "id": "YSZQn8ccqOd0"
      },
      "outputs": [],
      "source": [
        "def Node_multi(state:MessagesState):\n",
        "  return{\"messages\":[llm_with_all_tools.invoke(state[\"messages\"])]}"
      ]
    },
    {
      "cell_type": "code",
      "execution_count": null,
      "metadata": {
        "colab": {
          "base_uri": "https://localhost:8080/"
        },
        "id": "J4D7bZjkqVuw",
        "outputId": "cdca9a9b-d227-4b14-c1ce-7dcd525f9c50"
      },
      "outputs": [
        {
          "data": {
            "text/plain": [
              "<langgraph.graph.state.StateGraph at 0x7f4f68c3dc00>"
            ]
          },
          "execution_count": 104,
          "metadata": {},
          "output_type": "execute_result"
        }
      ],
      "source": [
        "builder2.add_node(\"Node_multi\",Node_multi)\n",
        "builder2.add_node(\"tools\",ToolNode([multiply]))\n",
        "builder2.add_edge(START,\"Node_multi\")\n",
        "builder2.add_conditional_edges(\"Node_multi\",tools_condition)\n",
        "builder2.add_edge(\"tools\",END)"
      ]
    },
    {
      "cell_type": "code",
      "execution_count": null,
      "metadata": {
        "id": "YOuQ3C7Sqoj-"
      },
      "outputs": [],
      "source": [
        "graph : CompiledStateGraph = builder2.compile()"
      ]
    },
    {
      "cell_type": "code",
      "execution_count": null,
      "metadata": {
        "colab": {
          "base_uri": "https://localhost:8080/"
        },
        "id": "MzAzA-7VqsO-",
        "outputId": "2162e906-5b6c-425f-9c31-bb15398fb0cd"
      },
      "outputs": [
        {
          "data": {
            "text/plain": [
              "{'messages': [HumanMessage(content='What is 5 times 5', additional_kwargs={}, response_metadata={}, name='Saim', id='45c7acb9-a0dc-4c6e-bad0-dbfb3b6cf3bc'),\n",
              "  AIMessage(content='', additional_kwargs={'function_call': {'name': 'multiply', 'arguments': '{\"a\": 5.0, \"b\": 5.0}'}}, response_metadata={'prompt_feedback': {'block_reason': 0, 'safety_ratings': []}, 'finish_reason': 'STOP', 'safety_ratings': []}, id='run-204468b5-ada9-47a8-848b-8b02ac24ec30-0', tool_calls=[{'name': 'multiply', 'args': {'a': 5.0, 'b': 5.0}, 'id': '0232cbd3-1a96-4140-b03b-7ac2edf8278d', 'type': 'tool_call'}], usage_metadata={'input_tokens': 108, 'output_tokens': 3, 'total_tokens': 111, 'input_token_details': {'cache_read': 0}}),\n",
              "  ToolMessage(content='25', name='multiply', id='86d84448-29f4-4bb5-b1c3-85f330bbc35e', tool_call_id='0232cbd3-1a96-4140-b03b-7ac2edf8278d')]}"
            ]
          },
          "execution_count": 106,
          "metadata": {},
          "output_type": "execute_result"
        }
      ],
      "source": [
        "graph.invoke({\"messages\":[HumanMessage(content=\"What is 5 times 5\", name=\"Saim\")]})"
      ]
    },
    {
      "cell_type": "markdown",
      "source": [
        "# Calculator Function Calling"
      ],
      "metadata": {
        "id": "uZii1AOCv48j"
      }
    },
    {
      "cell_type": "code",
      "execution_count": null,
      "metadata": {
        "id": "EMrlgApV6XIh"
      },
      "outputs": [],
      "source": [
        "def Multiple(a:int,b:int) -> int :\n",
        "  \"\"\"\n",
        "  The above function is used to multiply the the two inputs given to it, it has two arguments\n",
        "  Args:\n",
        "      a: First Number (It is of integer data type)\n",
        "      b: Second Number (It is of integer data type)\n",
        "  return:\n",
        "      a*b (integer data type)\n",
        "  \"\"\"\n",
        "  return a*b\n",
        "\n",
        "\n",
        "def Division(a:int,b:int) -> int :\n",
        "  \"\"\"\n",
        "  The above function is used to divide the two inputs given to it, it has two arguments\n",
        "  Args:\n",
        "      a: First Number (It is of integer data type)\n",
        "      b: Second Number (It is of integer data type)\n",
        "  return:\n",
        "      a/b (integer data type)\n",
        "  \"\"\"\n",
        "  return a/b\n",
        "\n",
        "def Addition(a:int,b:int) -> int :\n",
        "  \"\"\"\n",
        "  The above function is used to add the two inputs given to it, it has two arguments\n",
        "  Args:\n",
        "      a: First Number (It is of integer data type)\n",
        "      b: Second Number (It is of integer data type)\n",
        "  return:\n",
        "      a+b (integer data type)\n",
        "  \"\"\"\n",
        "  return a+b\n",
        "\n",
        "def Subtraction(a:int,b:int) -> int :\n",
        "  \"\"\"\n",
        "  The above function is used to subtract the two inputs given to it, it has two arguments\n",
        "  Args:\n",
        "      a: First Number (It is of integer data type)\n",
        "      b: Second Number (It is of integer data type)\n",
        "  return:\n",
        "      a-b (integer data type)\n",
        "  \"\"\"\n",
        "  return a-b\n",
        "\n",
        "tools = [Multiple,Division,Addition,Subtraction]"
      ]
    },
    {
      "cell_type": "code",
      "execution_count": null,
      "metadata": {
        "id": "FRe-JnO9BQZl"
      },
      "outputs": [],
      "source": [
        "sys_msg = SystemMessage(content=\"You are an assistant that helps in assisting arthmetic operations\",name=\"System\")"
      ]
    },
    {
      "cell_type": "code",
      "execution_count": null,
      "metadata": {
        "id": "oeILhWsnAiQ-"
      },
      "outputs": [],
      "source": [
        "tools_of_llm : ChatGoogleGenerativeAI = llm.bind_tools(tools)"
      ]
    },
    {
      "cell_type": "code",
      "execution_count": null,
      "metadata": {
        "id": "ike3vzM9A4Ks"
      },
      "outputs": [],
      "source": [
        "def Node_Arth(state:MessagesState) -> MessagesState :\n",
        "  return{\"messages\":[tools_of_llm.invoke([sys_msg] + state[\"messages\"])]}"
      ]
    },
    {
      "cell_type": "code",
      "execution_count": null,
      "metadata": {
        "id": "pbzX-wzMBqHc"
      },
      "outputs": [],
      "source": [
        "builder333 : StateGraph = StateGraph(state_schema=MessagesState)"
      ]
    },
    {
      "cell_type": "code",
      "execution_count": null,
      "metadata": {
        "colab": {
          "base_uri": "https://localhost:8080/"
        },
        "id": "ZVxEbSuGBxgQ",
        "outputId": "63ba0701-d05c-446f-b591-37b09bebe799"
      },
      "outputs": [
        {
          "output_type": "execute_result",
          "data": {
            "text/plain": [
              "<langgraph.graph.state.StateGraph at 0x7e0ed9192d40>"
            ]
          },
          "metadata": {},
          "execution_count": 18
        }
      ],
      "source": [
        "builder333.add_node(\"Node_Arth\",Node_Arth)\n",
        "builder333.add_node(\"tools\",ToolNode(tools))"
      ]
    },
    {
      "cell_type": "code",
      "execution_count": null,
      "metadata": {
        "colab": {
          "base_uri": "https://localhost:8080/"
        },
        "id": "Wlwf153MCLKD",
        "outputId": "a53547c5-e49a-4499-8da2-198e23c6723a"
      },
      "outputs": [
        {
          "output_type": "execute_result",
          "data": {
            "text/plain": [
              "<langgraph.graph.state.StateGraph at 0x7e0ed9192d40>"
            ]
          },
          "metadata": {},
          "execution_count": 19
        }
      ],
      "source": [
        "builder333.add_edge(START,\"Node_Arth\")\n",
        "builder333.add_conditional_edges(\"Node_Arth\",tools_condition)\n",
        "builder333.add_edge(\"tools\",\"Node_Arth\")"
      ]
    },
    {
      "cell_type": "code",
      "execution_count": null,
      "metadata": {
        "id": "6c_UEsnhCnTS"
      },
      "outputs": [],
      "source": [
        "graph :CompiledStateGraph = builder333.compile()"
      ]
    },
    {
      "cell_type": "code",
      "execution_count": null,
      "metadata": {
        "colab": {
          "base_uri": "https://localhost:8080/",
          "height": 266
        },
        "id": "D8LMhh2WCqtG",
        "outputId": "0fe67394-d390-4752-fb8a-f3c4bfa274f8"
      },
      "outputs": [
        {
          "output_type": "display_data",
          "data": {
            "image/png": "[encoded data removed]",
            "text/plain": [
              "<IPython.core.display.Image object>"
            ]
          },
          "metadata": {}
        }
      ],
      "source": [
        "display(Image(graph.get_graph().draw_mermaid_png()))"
      ]
    },
    {
      "cell_type": "code",
      "execution_count": null,
      "metadata": {
        "id": "obOBrNCSC3kO"
      },
      "outputs": [],
      "source": [
        "r1 = graph.invoke({\"messages\":[HumanMessage(content=\"Calculate 10 times 10\",name=\"Saim\")]})"
      ]
    },
    {
      "cell_type": "code",
      "execution_count": null,
      "metadata": {
        "colab": {
          "base_uri": "https://localhost:8080/"
        },
        "id": "eqioZfYRDSt7",
        "outputId": "34fac885-1fff-47c3-dd69-c2761101fcd1"
      },
      "outputs": [
        {
          "output_type": "stream",
          "name": "stdout",
          "text": [
            "================================\u001b[1m Human Message \u001b[0m=================================\n",
            "Name: Saim\n",
            "\n",
            "Calculate 10 times 10\n",
            "==================================\u001b[1m Ai Message \u001b[0m==================================\n",
            "Tool Calls:\n",
            "  Multiple (47d36da7-a8ca-48a0-818e-01b75c4134c5)\n",
            " Call ID: 47d36da7-a8ca-48a0-818e-01b75c4134c5\n",
            "  Args:\n",
            "    a: 10.0\n",
            "    b: 10.0\n",
            "=================================\u001b[1m Tool Message \u001b[0m=================================\n",
            "Name: Multiple\n",
            "\n",
            "100\n",
            "==================================\u001b[1m Ai Message \u001b[0m==================================\n",
            "\n",
            "The answer is 100.\n"
          ]
        }
      ],
      "source": [
        "for m in r1[\"messages\"]:\n",
        "  m.pretty_print()"
      ]
    },
    {
      "cell_type": "code",
      "execution_count": null,
      "metadata": {
        "id": "gdLLMeP8D8ex"
      },
      "outputs": [],
      "source": [
        "r2 = graph.invoke({\"messages\":[HumanMessage(content=\"Tell me about Bears\",name=\"Saim\")]})"
      ]
    },
    {
      "cell_type": "code",
      "execution_count": null,
      "metadata": {
        "colab": {
          "base_uri": "https://localhost:8080/"
        },
        "id": "AdZ6oKiHERn6",
        "outputId": "ad0ac82e-7651-4b83-abc7-61179c25baf6"
      },
      "outputs": [
        {
          "output_type": "stream",
          "name": "stdout",
          "text": [
            "================================\u001b[1m Human Message \u001b[0m=================================\n",
            "Name: Saim\n",
            "\n",
            "Tell me about Bears\n",
            "==================================\u001b[1m Ai Message \u001b[0m==================================\n",
            "\n",
            "I don't have information about bears. I am a large language model that can perform arithmetic operations using the provided Python libraries.  I cannot access external websites or specific files to retrieve information about bears or any other topic beyond my programming.\n"
          ]
        }
      ],
      "source": [
        "for m in r2[\"messages\"]:\n",
        "  m.pretty_print()"
      ]
    },
    {
      "cell_type": "code",
      "execution_count": null,
      "metadata": {
        "id": "dDnxwy0lEUKP"
      },
      "outputs": [],
      "source": [
        "r3 = graph.invoke({\"messages\":[HumanMessage(content=\"Calculate 100 divided by 10 , then subtract the result of division by 5 at last divide the output by 5 in the final result \",name=\"Saim\")]})"
      ]
    },
    {
      "cell_type": "code",
      "execution_count": null,
      "metadata": {
        "colab": {
          "base_uri": "https://localhost:8080/"
        },
        "id": "UgnNjP1zEvYs",
        "outputId": "a829e4f1-ade6-433f-8180-dc9b3f4aac93"
      },
      "outputs": [
        {
          "output_type": "stream",
          "name": "stdout",
          "text": [
            "================================\u001b[1m Human Message \u001b[0m=================================\n",
            "Name: Saim\n",
            "\n",
            "Calculate 100 divided by 10 , then subtract the result of division by 5 at last divide the output by 5 in the final result \n",
            "==================================\u001b[1m Ai Message \u001b[0m==================================\n",
            "Tool Calls:\n",
            "  Division (dcbab560-bd1d-4f10-9818-74e6bcdebe29)\n",
            " Call ID: dcbab560-bd1d-4f10-9818-74e6bcdebe29\n",
            "  Args:\n",
            "    a: 100.0\n",
            "    b: 10.0\n",
            "  Subtraction (960f513f-651a-4c43-86e0-09a44648b159)\n",
            " Call ID: 960f513f-651a-4c43-86e0-09a44648b159\n",
            "  Args:\n",
            "    a: 10.0\n",
            "    b: 5.0\n",
            "  Division (77e57a5e-c108-4e95-a456-4d0d821ab178)\n",
            " Call ID: 77e57a5e-c108-4e95-a456-4d0d821ab178\n",
            "  Args:\n",
            "    a: 5.0\n",
            "    b: 5.0\n",
            "=================================\u001b[1m Tool Message \u001b[0m=================================\n",
            "Name: Division\n",
            "\n",
            "10.0\n",
            "=================================\u001b[1m Tool Message \u001b[0m=================================\n",
            "Name: Subtraction\n",
            "\n",
            "5\n",
            "=================================\u001b[1m Tool Message \u001b[0m=================================\n",
            "Name: Division\n",
            "\n",
            "1.0\n",
            "==================================\u001b[1m Ai Message \u001b[0m==================================\n",
            "\n",
            "Here's how to solve this step by step:\n",
            "\n",
            "1. **Division:** 100 divided by 10 is 10.\n",
            "2. **Subtraction:** 10 minus 5 is 5.\n",
            "3. **Division:** 5 divided by 5 is 1.\n",
            "\n",
            "Therefore, the final answer is $\\boxed{1}$\n"
          ]
        }
      ],
      "source": [
        "for m in r3[\"messages\"]:\n",
        "  m.pretty_print()"
      ]
    },
    {
      "cell_type": "code",
      "execution_count": null,
      "metadata": {
        "id": "ka2ho8RgEzKz"
      },
      "outputs": [],
      "source": [
        "r7 = graph.invoke({\"messages\":[HumanMessage(content=\"Calculate 100 divided by 10 , and add 10 and 20 \",name=\"Saim\")]})"
      ]
    },
    {
      "cell_type": "code",
      "execution_count": null,
      "metadata": {
        "colab": {
          "base_uri": "https://localhost:8080/"
        },
        "id": "VvUwsbOkJW3n",
        "outputId": "1808dc5d-42f2-4571-e155-c638eb528e3f"
      },
      "outputs": [
        {
          "name": "stdout",
          "output_type": "stream",
          "text": [
            "================================\u001b[1m Human Message \u001b[0m=================================\n",
            "Name: Saim\n",
            "\n",
            "Calculate 100 divided by 10 , and add 10 and 20 \n",
            "==================================\u001b[1m Ai Message \u001b[0m==================================\n",
            "Tool Calls:\n",
            "  Division (e110ba40-06a7-4f29-a871-14db0d49a1f6)\n",
            " Call ID: e110ba40-06a7-4f29-a871-14db0d49a1f6\n",
            "  Args:\n",
            "    a: 100.0\n",
            "    b: 10.0\n",
            "  Addition (84ffa49b-0e5b-4b0b-a183-94128f5b9e57)\n",
            " Call ID: 84ffa49b-0e5b-4b0b-a183-94128f5b9e57\n",
            "  Args:\n",
            "    a: 10.0\n",
            "    b: 20.0\n",
            "=================================\u001b[1m Tool Message \u001b[0m=================================\n",
            "Name: Division\n",
            "\n",
            "10.0\n",
            "=================================\u001b[1m Tool Message \u001b[0m=================================\n",
            "Name: Addition\n",
            "\n",
            "30\n",
            "==================================\u001b[1m Ai Message \u001b[0m==================================\n",
            "\n",
            "The result of 100 divided by 10 is 10. The result of adding 10 and 20 is 30.\n"
          ]
        }
      ],
      "source": [
        "for m in r7[\"messages\"]:\n",
        "  m.pretty_print()"
      ]
    },
    {
      "cell_type": "code",
      "execution_count": null,
      "metadata": {
        "id": "frNOiqCIJY4J"
      },
      "outputs": [],
      "source": [
        "r9 = graph.invoke({\"messages\":[HumanMessage(content=\"First Calculate 100 divided by 10 ,then secondly add 100 into the output of the division \",name=\"Saim\")]})"
      ]
    },
    {
      "cell_type": "code",
      "execution_count": null,
      "metadata": {
        "colab": {
          "base_uri": "https://localhost:8080/"
        },
        "id": "fPTH0W8ec0bQ",
        "outputId": "92f42602-c08b-41df-c4bb-a23b238ed760"
      },
      "outputs": [
        {
          "name": "stdout",
          "output_type": "stream",
          "text": [
            "================================\u001b[1m Human Message \u001b[0m=================================\n",
            "Name: Saim\n",
            "\n",
            "First Calculate 100 divided by 10 ,then secondly add 100 into the output of the division \n",
            "==================================\u001b[1m Ai Message \u001b[0m==================================\n",
            "Tool Calls:\n",
            "  Division (25f87fd4-499c-4c98-9d1a-df148c76bd40)\n",
            " Call ID: 25f87fd4-499c-4c98-9d1a-df148c76bd40\n",
            "  Args:\n",
            "    a: 100.0\n",
            "    b: 10.0\n",
            "  Addition (84920eca-2333-4cab-a438-c2e8679874d3)\n",
            " Call ID: 84920eca-2333-4cab-a438-c2e8679874d3\n",
            "  Args:\n",
            "    a: 100.0\n",
            "    b: 10.0\n",
            "=================================\u001b[1m Tool Message \u001b[0m=================================\n",
            "Name: Division\n",
            "\n",
            "10.0\n",
            "=================================\u001b[1m Tool Message \u001b[0m=================================\n",
            "Name: Addition\n",
            "\n",
            "110\n",
            "==================================\u001b[1m Ai Message \u001b[0m==================================\n",
            "\n",
            "First, 100 divided by 10 is 10.  Secondly, adding 100 to the result (10) gives 110.\n"
          ]
        }
      ],
      "source": [
        "for m in r9[\"messages\"]:\n",
        "  m.pretty_print()"
      ]
    },
    {
      "cell_type": "code",
      "execution_count": null,
      "metadata": {
        "id": "r4atvrbpc4dy"
      },
      "outputs": [],
      "source": [
        "r10 = graph.invoke({\"messages\":[HumanMessage(content=\"First Calculate 100 divided by 10 ,then secondly add 100 into the output of the division , and at the end multiply the given output from addition by 5 and give the end result\",name=\"Saim\")]})"
      ]
    },
    {
      "cell_type": "code",
      "execution_count": null,
      "metadata": {
        "colab": {
          "base_uri": "https://localhost:8080/"
        },
        "id": "PrFOEePOhPMv",
        "outputId": "529146ea-473c-4758-ad73-662de90baa3a"
      },
      "outputs": [
        {
          "name": "stdout",
          "output_type": "stream",
          "text": [
            "================================\u001b[1m Human Message \u001b[0m=================================\n",
            "Name: Saim\n",
            "\n",
            "First Calculate 100 divided by 10 ,then secondly add 100 into the output of the division , and at the end multiply the given output from addition by 5 and give the end result\n",
            "==================================\u001b[1m Ai Message \u001b[0m==================================\n",
            "Tool Calls:\n",
            "  Division (40095a22-70f8-4db8-889a-ae64842e3e56)\n",
            " Call ID: 40095a22-70f8-4db8-889a-ae64842e3e56\n",
            "  Args:\n",
            "    a: 100.0\n",
            "    b: 10.0\n",
            "  Addition (44f757b9-6d17-44e9-8680-b5965adada44)\n",
            " Call ID: 44f757b9-6d17-44e9-8680-b5965adada44\n",
            "  Args:\n",
            "    a: 100.0\n",
            "    b: 10.0\n",
            "  Multiple (374cd5bb-ec5c-4722-b1dd-df9cba8daef0)\n",
            " Call ID: 374cd5bb-ec5c-4722-b1dd-df9cba8daef0\n",
            "  Args:\n",
            "    a: 110.0\n",
            "    b: 5.0\n",
            "=================================\u001b[1m Tool Message \u001b[0m=================================\n",
            "Name: Division\n",
            "\n",
            "10.0\n",
            "=================================\u001b[1m Tool Message \u001b[0m=================================\n",
            "Name: Addition\n",
            "\n",
            "110\n",
            "=================================\u001b[1m Tool Message \u001b[0m=================================\n",
            "Name: Multiple\n",
            "\n",
            "550\n",
            "==================================\u001b[1m Ai Message \u001b[0m==================================\n",
            "\n",
            "First, 100 divided by 10 is 10. Then, adding 100 to the result (10) gives 110. Finally, multiplying 110 by 5 results in 550.  Therefore, the final answer is 550.\n"
          ]
        }
      ],
      "source": [
        "for r10 in r10[\"messages\"]:\n",
        "  r10.pretty_print()"
      ]
    },
    {
      "cell_type": "code",
      "execution_count": null,
      "metadata": {
        "id": "WkBouIV9DA2A"
      },
      "outputs": [],
      "source": [
        "def addition(a:int,b:int) -> int:\n",
        "  \"\"\"\n",
        "  This function is used to add the two inputs given to it, it has 2 arguments\n",
        "  Args:\n",
        "      a:First Number (It is of integer data type)\n",
        "      b:Second Number (It is of integer data type)\n",
        "  return:\n",
        "      a+b (integer data type)\n",
        "  \"\"\"\n",
        "  return a+b\n",
        "\n",
        "def muliplication(a:int,b:int)->int:\n",
        "  \"\"\"\n",
        "  This function is used to multiply the two inputs given to it, it has 2 arguments\n",
        "  Args:\n",
        "      a:First Number (It is of integer data type)\n",
        "      b:Second Number (It is of integer data type)\n",
        "  return:\n",
        "      a*b (integer data type)\n",
        "  \"\"\"\n",
        "  return a*b\n",
        "\n",
        "def division(a:int,b:int)->int:\n",
        "  \"\"\"\n",
        "  This function is used to divide the two inputs given to it, it has 2 arguments\n",
        "  Args:\n",
        "      a:First Number (It is of integer data type)\n",
        "      b:Second Number (It is of integer data type)\n",
        "  return:\n",
        "      a/b (integer data type)\n",
        "  \"\"\"\n",
        "  return a/b\n",
        "\n",
        "def subtraction(a:int,b:int)->int:\n",
        "  \"\"\"\n",
        "  This function is used to subtract the two inputs given to it, it has 2 arguments\n",
        "  Args:\n",
        "      a:First Number (It is of integer data type)\n",
        "      b:Second Number (It is of integer data type)\n",
        "  return:\n",
        "      a-b (integer data type)\n",
        "  \"\"\"\n",
        "  return a-b\n",
        "\n",
        "tools = [addition,muliplication,division,subtraction]\n",
        "\n",
        "sos = SystemMessage(content=\"You are an helpful assistant that performs arithmatic operations on the guven inputs\")"
      ]
    },
    {
      "cell_type": "code",
      "execution_count": null,
      "metadata": {
        "id": "AK8sgxHEEF57"
      },
      "outputs": [],
      "source": [
        "llm_at_tools : ChatGoogleGenerativeAI = llm.bind_tools(tools)"
      ]
    },
    {
      "cell_type": "code",
      "execution_count": null,
      "metadata": {
        "id": "yerv0-hMEaWq"
      },
      "outputs": [],
      "source": [
        "def Node_all(state:MessagesState)->MessagesState:\n",
        "  return {\"messages\":llm_at_tools.invoke([sos]+state[\"messages\"])}"
      ]
    },
    {
      "cell_type": "code",
      "execution_count": null,
      "metadata": {
        "id": "lqXvbbBLE-wn"
      },
      "outputs": [],
      "source": [
        "builder21 : StateGraph = StateGraph(state_schema=MessagesState)"
      ]
    },
    {
      "cell_type": "code",
      "execution_count": null,
      "metadata": {
        "colab": {
          "base_uri": "https://localhost:8080/"
        },
        "id": "z0J_uMmiFITn",
        "outputId": "869cfee4-ff99-4860-c64e-cf216b7ec32a"
      },
      "outputs": [
        {
          "data": {
            "text/plain": [
              "<langgraph.graph.state.StateGraph at 0x7f4f4c6df7f0>"
            ]
          },
          "execution_count": 145,
          "metadata": {},
          "output_type": "execute_result"
        }
      ],
      "source": [
        "builder21.add_node(\"Node_all\",Node_all)\n",
        "builder21.add_node(\"tools\",ToolNode(tools))"
      ]
    },
    {
      "cell_type": "code",
      "execution_count": null,
      "metadata": {
        "colab": {
          "base_uri": "https://localhost:8080/"
        },
        "id": "IO0HFctgGKAT",
        "outputId": "d3e9e923-1392-4b58-9bb4-26deb7dd3a8c"
      },
      "outputs": [
        {
          "data": {
            "text/plain": [
              "<langgraph.graph.state.StateGraph at 0x7f4f4c6df7f0>"
            ]
          },
          "execution_count": 147,
          "metadata": {},
          "output_type": "execute_result"
        }
      ],
      "source": [
        "builder21.add_edge(START,\"Node_all\")\n",
        "builder21.add_conditional_edges(\"Node_all\",tools_condition)\n",
        "builder21.add_edge(\"tools\",\"Node_all\")"
      ]
    },
    {
      "cell_type": "code",
      "execution_count": null,
      "metadata": {
        "id": "epYvsDTNGb6D"
      },
      "outputs": [],
      "source": [
        "graph1 : CompiledStateGraph = builder21.compile()"
      ]
    },
    {
      "cell_type": "code",
      "execution_count": null,
      "metadata": {
        "id": "koFFUgBFHMl2"
      },
      "outputs": [],
      "source": [
        "ios = graph1.invoke({\"messages\":[HumanMessage(content=\"At First only Calculate 10 times 10 and don't use addition first , then at last in the output of multiplication add 100 \",name=\"Saim\")]})"
      ]
    },
    {
      "cell_type": "code",
      "execution_count": null,
      "metadata": {
        "colab": {
          "base_uri": "https://localhost:8080/"
        },
        "id": "3xvakHqWLYb0",
        "outputId": "c41916cc-6043-478b-a08c-0d4f4d7731bb"
      },
      "outputs": [
        {
          "name": "stdout",
          "output_type": "stream",
          "text": [
            "================================\u001b[1m Human Message \u001b[0m=================================\n",
            "Name: Saim\n",
            "\n",
            "At First only Calculate 10 times 10 and don't use addition first , then at last in the output of multiplication add 100 \n",
            "==================================\u001b[1m Ai Message \u001b[0m==================================\n",
            "Tool Calls:\n",
            "  muliplication (27b5a52d-16c3-498b-8bfa-4b8f1bdd203d)\n",
            " Call ID: 27b5a52d-16c3-498b-8bfa-4b8f1bdd203d\n",
            "  Args:\n",
            "    a: 10.0\n",
            "    b: 10.0\n",
            "  addition (7d608942-d648-4fdb-bc20-c091d1d9f4bd)\n",
            " Call ID: 7d608942-d648-4fdb-bc20-c091d1d9f4bd\n",
            "  Args:\n",
            "    a: 100.0\n",
            "    b: 100.0\n",
            "=================================\u001b[1m Tool Message \u001b[0m=================================\n",
            "Name: muliplication\n",
            "\n",
            "100\n",
            "=================================\u001b[1m Tool Message \u001b[0m=================================\n",
            "Name: addition\n",
            "\n",
            "200\n",
            "==================================\u001b[1m Ai Message \u001b[0m==================================\n",
            "\n",
            "At first, 10 multiplied by 10 is 100. Then, adding 100 to the result of the multiplication gives 200.\n"
          ]
        }
      ],
      "source": [
        "for m in ios[\"messages\"]:\n",
        "  m.pretty_print()"
      ]
    },
    {
      "cell_type": "code",
      "execution_count": null,
      "metadata": {
        "id": "5HpcOrv-MJdc"
      },
      "outputs": [],
      "source": [
        "i2 = graph1.invoke({\"messages\":[HumanMessage(content=\"Multiply that by 10\",name=\"Saim\")]})"
      ]
    },
    {
      "cell_type": "code",
      "execution_count": null,
      "metadata": {
        "colab": {
          "base_uri": "https://localhost:8080/"
        },
        "id": "R2N2IyPFMqny",
        "outputId": "08aca619-4bfa-45e5-f1ce-bc50b023b471"
      },
      "outputs": [
        {
          "name": "stdout",
          "output_type": "stream",
          "text": [
            "================================\u001b[1m Human Message \u001b[0m=================================\n",
            "Name: Saim\n",
            "\n",
            "Multiply that by 10\n",
            "==================================\u001b[1m Ai Message \u001b[0m==================================\n",
            "\n",
            "What values would you like me to multiply by 10?  Please provide the numbers.\n"
          ]
        }
      ],
      "source": [
        "for m in i2[\"messages\"]:\n",
        "  m.pretty_print()"
      ]
    },
    {
      "cell_type": "code",
      "execution_count": null,
      "metadata": {
        "id": "vKmoWUCXRXPH"
      },
      "outputs": [],
      "source": [
        "from langgraph.checkpoint.memory import MemorySaver\n",
        "memory : MemorySaver = MemorySaver()"
      ]
    },
    {
      "cell_type": "code",
      "execution_count": null,
      "metadata": {
        "id": "POZKCpQpbMxf"
      },
      "outputs": [],
      "source": [
        "graph1:CompiledStateGraph = builder21.compile(checkpointer=memory)\n",
        "config1={\"configurable\":{\"thread_id\":\"1\"}}"
      ]
    },
    {
      "cell_type": "code",
      "execution_count": null,
      "metadata": {
        "id": "-qXMbUe5uSxY"
      },
      "outputs": [],
      "source": [
        "ros = graph1.invoke({\"messages\":[HumanMessage(content=\"Add 10 into 20\",name= \"Saim\")]},config1)"
      ]
    },
    {
      "cell_type": "code",
      "execution_count": null,
      "metadata": {
        "colab": {
          "base_uri": "https://localhost:8080/"
        },
        "id": "84Q2rv-Vum89",
        "outputId": "f8a2d5f9-c550-41fc-bbbb-16bbf9d29018"
      },
      "outputs": [
        {
          "name": "stdout",
          "output_type": "stream",
          "text": [
            "================================\u001b[1m Human Message \u001b[0m=================================\n",
            "Name: Saim\n",
            "\n",
            "Add 10 into 20\n",
            "==================================\u001b[1m Ai Message \u001b[0m==================================\n",
            "Tool Calls:\n",
            "  addition (a2c0914f-0257-4f12-9ddf-d640654e7e1d)\n",
            " Call ID: a2c0914f-0257-4f12-9ddf-d640654e7e1d\n",
            "  Args:\n",
            "    a: 10.0\n",
            "    b: 20.0\n",
            "=================================\u001b[1m Tool Message \u001b[0m=================================\n",
            "Name: addition\n",
            "\n",
            "30\n",
            "==================================\u001b[1m Ai Message \u001b[0m==================================\n",
            "\n",
            "The sum of 10 and 20 is 30.\n"
          ]
        }
      ],
      "source": [
        "for m in ros[\"messages\"]:\n",
        "  m.pretty_print()"
      ]
    },
    {
      "cell_type": "code",
      "execution_count": null,
      "metadata": {
        "id": "91d77gm0u1lO"
      },
      "outputs": [],
      "source": [
        "ros2 = graph1.invoke({\"messages\":[HumanMessage(content=\"Multiply that by 20\",name= \"Saim\")]},config1)"
      ]
    },
    {
      "cell_type": "code",
      "execution_count": null,
      "metadata": {
        "colab": {
          "base_uri": "https://localhost:8080/"
        },
        "id": "N6vnnDpYvAQR",
        "outputId": "800c2a8b-ad51-4ce4-dad6-5340105f9634"
      },
      "outputs": [
        {
          "name": "stdout",
          "output_type": "stream",
          "text": [
            "================================\u001b[1m Human Message \u001b[0m=================================\n",
            "Name: Saim\n",
            "\n",
            "Add 10 into 20\n",
            "==================================\u001b[1m Ai Message \u001b[0m==================================\n",
            "Tool Calls:\n",
            "  addition (a2c0914f-0257-4f12-9ddf-d640654e7e1d)\n",
            " Call ID: a2c0914f-0257-4f12-9ddf-d640654e7e1d\n",
            "  Args:\n",
            "    a: 10.0\n",
            "    b: 20.0\n",
            "=================================\u001b[1m Tool Message \u001b[0m=================================\n",
            "Name: addition\n",
            "\n",
            "30\n",
            "==================================\u001b[1m Ai Message \u001b[0m==================================\n",
            "\n",
            "The sum of 10 and 20 is 30.\n",
            "================================\u001b[1m Human Message \u001b[0m=================================\n",
            "Name: Saim\n",
            "\n",
            "Multiply that by 20\n",
            "==================================\u001b[1m Ai Message \u001b[0m==================================\n",
            "Tool Calls:\n",
            "  muliplication (041ee301-b9ca-4f70-9a9f-cfd19d47038b)\n",
            " Call ID: 041ee301-b9ca-4f70-9a9f-cfd19d47038b\n",
            "  Args:\n",
            "    a: 30.0\n",
            "    b: 20.0\n",
            "=================================\u001b[1m Tool Message \u001b[0m=================================\n",
            "Name: muliplication\n",
            "\n",
            "600\n",
            "==================================\u001b[1m Ai Message \u001b[0m==================================\n",
            "\n",
            "The result of multiplying 30 by 20 is 600.\n"
          ]
        }
      ],
      "source": [
        "for m in ros2[\"messages\"]:\n",
        "  m.pretty_print()"
      ]
    },
    {
      "cell_type": "code",
      "execution_count": null,
      "metadata": {
        "id": "szHeXHcRvBwo"
      },
      "outputs": [],
      "source": [
        "ros2 = graph1.invoke({\"messages\":[HumanMessage(content=\"Divide that by 60\",name= \"Saim\")]},config1)"
      ]
    },
    {
      "cell_type": "code",
      "execution_count": null,
      "metadata": {
        "colab": {
          "base_uri": "https://localhost:8080/"
        },
        "id": "3pgaJgOsvMzn",
        "outputId": "d3273620-55b6-4ae1-a062-e3225954edcb"
      },
      "outputs": [
        {
          "name": "stdout",
          "output_type": "stream",
          "text": [
            "================================\u001b[1m Human Message \u001b[0m=================================\n",
            "Name: Saim\n",
            "\n",
            "Add 10 into 20\n",
            "==================================\u001b[1m Ai Message \u001b[0m==================================\n",
            "Tool Calls:\n",
            "  addition (a2c0914f-0257-4f12-9ddf-d640654e7e1d)\n",
            " Call ID: a2c0914f-0257-4f12-9ddf-d640654e7e1d\n",
            "  Args:\n",
            "    a: 10.0\n",
            "    b: 20.0\n",
            "=================================\u001b[1m Tool Message \u001b[0m=================================\n",
            "Name: addition\n",
            "\n",
            "30\n",
            "==================================\u001b[1m Ai Message \u001b[0m==================================\n",
            "\n",
            "The sum of 10 and 20 is 30.\n",
            "================================\u001b[1m Human Message \u001b[0m=================================\n",
            "Name: Saim\n",
            "\n",
            "Multiply that by 20\n",
            "==================================\u001b[1m Ai Message \u001b[0m==================================\n",
            "Tool Calls:\n",
            "  muliplication (041ee301-b9ca-4f70-9a9f-cfd19d47038b)\n",
            " Call ID: 041ee301-b9ca-4f70-9a9f-cfd19d47038b\n",
            "  Args:\n",
            "    a: 30.0\n",
            "    b: 20.0\n",
            "=================================\u001b[1m Tool Message \u001b[0m=================================\n",
            "Name: muliplication\n",
            "\n",
            "600\n",
            "==================================\u001b[1m Ai Message \u001b[0m==================================\n",
            "\n",
            "The result of multiplying 30 by 20 is 600.\n",
            "================================\u001b[1m Human Message \u001b[0m=================================\n",
            "Name: Saim\n",
            "\n",
            "Divide that by 60\n",
            "==================================\u001b[1m Ai Message \u001b[0m==================================\n",
            "Tool Calls:\n",
            "  division (a3dcd061-6b0d-40d9-8ea5-38d43ce2903e)\n",
            " Call ID: a3dcd061-6b0d-40d9-8ea5-38d43ce2903e\n",
            "  Args:\n",
            "    a: 600.0\n",
            "    b: 60.0\n",
            "=================================\u001b[1m Tool Message \u001b[0m=================================\n",
            "Name: division\n",
            "\n",
            "10.0\n",
            "==================================\u001b[1m Ai Message \u001b[0m==================================\n",
            "\n",
            "The result of dividing 600 by 60 is 10.\n"
          ]
        }
      ],
      "source": [
        "for m in ros2[\"messages\"]:\n",
        "  m.pretty_print()"
      ]
    },
    {
      "cell_type": "code",
      "execution_count": null,
      "metadata": {
        "id": "9sOmrA1XvPau"
      },
      "outputs": [],
      "source": [
        "ros4= graph1.invoke({\"messages\":[HumanMessage(content=\"Tell me about something about that number\",name= \"Saim\")]},config1)"
      ]
    },
    {
      "cell_type": "code",
      "execution_count": null,
      "metadata": {
        "colab": {
          "base_uri": "https://localhost:8080/"
        },
        "id": "_uuD134uv1iG",
        "outputId": "0efc957e-4403-484d-f238-497d507683eb"
      },
      "outputs": [
        {
          "name": "stdout",
          "output_type": "stream",
          "text": [
            "================================\u001b[1m Human Message \u001b[0m=================================\n",
            "Name: Saim\n",
            "\n",
            "Add 10 into 20\n",
            "==================================\u001b[1m Ai Message \u001b[0m==================================\n",
            "Tool Calls:\n",
            "  addition (a2c0914f-0257-4f12-9ddf-d640654e7e1d)\n",
            " Call ID: a2c0914f-0257-4f12-9ddf-d640654e7e1d\n",
            "  Args:\n",
            "    a: 10.0\n",
            "    b: 20.0\n",
            "=================================\u001b[1m Tool Message \u001b[0m=================================\n",
            "Name: addition\n",
            "\n",
            "30\n",
            "==================================\u001b[1m Ai Message \u001b[0m==================================\n",
            "\n",
            "The sum of 10 and 20 is 30.\n",
            "================================\u001b[1m Human Message \u001b[0m=================================\n",
            "Name: Saim\n",
            "\n",
            "Multiply that by 20\n",
            "==================================\u001b[1m Ai Message \u001b[0m==================================\n",
            "Tool Calls:\n",
            "  muliplication (041ee301-b9ca-4f70-9a9f-cfd19d47038b)\n",
            " Call ID: 041ee301-b9ca-4f70-9a9f-cfd19d47038b\n",
            "  Args:\n",
            "    a: 30.0\n",
            "    b: 20.0\n",
            "=================================\u001b[1m Tool Message \u001b[0m=================================\n",
            "Name: muliplication\n",
            "\n",
            "600\n",
            "==================================\u001b[1m Ai Message \u001b[0m==================================\n",
            "\n",
            "The result of multiplying 30 by 20 is 600.\n",
            "================================\u001b[1m Human Message \u001b[0m=================================\n",
            "Name: Saim\n",
            "\n",
            "Divide that by 60\n",
            "==================================\u001b[1m Ai Message \u001b[0m==================================\n",
            "Tool Calls:\n",
            "  division (a3dcd061-6b0d-40d9-8ea5-38d43ce2903e)\n",
            " Call ID: a3dcd061-6b0d-40d9-8ea5-38d43ce2903e\n",
            "  Args:\n",
            "    a: 600.0\n",
            "    b: 60.0\n",
            "=================================\u001b[1m Tool Message \u001b[0m=================================\n",
            "Name: division\n",
            "\n",
            "10.0\n",
            "==================================\u001b[1m Ai Message \u001b[0m==================================\n",
            "\n",
            "The result of dividing 600 by 60 is 10.\n",
            "================================\u001b[1m Human Message \u001b[0m=================================\n",
            "Name: Saim\n",
            "\n",
            "Tell me about something about that number\n",
            "==================================\u001b[1m Ai Message \u001b[0m==================================\n",
            "\n",
            "10 is a positive integer, an even number, and a composite number (meaning it has factors other than 1 and itself).  It's also a very commonly used number in many systems of measurement and counting.\n"
          ]
        }
      ],
      "source": [
        "for m in ros4[\"messages\"]:\n",
        "  m.pretty_print()"
      ]
    },
    {
      "cell_type": "code",
      "execution_count": null,
      "metadata": {
        "id": "8GFmTsHFv3N-"
      },
      "outputs": [],
      "source": [
        "!pip install langgraph_sdk"
      ]
    },
    {
      "cell_type": "code",
      "execution_count": null,
      "metadata": {
        "id": "WJl8UaQm-FPd"
      },
      "outputs": [],
      "source": [
        "from langgraph_sdk import get_client"
      ]
    },
    {
      "cell_type": "code",
      "execution_count": null,
      "metadata": {
        "id": "TRe-5033A9hh"
      },
      "outputs": [],
      "source": [
        "URL = \"https://380a-103-151-43-15.ngrok-free.app\"\n",
        "client = get_client(url=URL)"
      ]
    },
    {
      "cell_type": "code",
      "execution_count": null,
      "metadata": {
        "id": "xq3R84ikBmDB"
      },
      "outputs": [],
      "source": [
        "assistants =   client.assistants.search()"
      ]
    },
    {
      "cell_type": "code",
      "execution_count": null,
      "metadata": {
        "colab": {
          "base_uri": "https://localhost:8080/"
        },
        "id": "CsZERro9B4YJ",
        "outputId": "270b84f2-0912-48e1-d133-ec3e16be34dd"
      },
      "outputs": [
        {
          "data": {
            "text/plain": [
              "[{'assistant_id': 'fe096781-5601-53d2-b2f6-0d3403f7e9ca',\n",
              "  'graph_id': 'agent',\n",
              "  'created_at': '2024-12-02T09:25:45.833162+00:00',\n",
              "  'updated_at': '2024-12-02T09:25:45.833162+00:00',\n",
              "  'config': {},\n",
              "  'metadata': {'created_by': 'system'},\n",
              "  'version': 1,\n",
              "  'name': 'agent'},\n",
              " {'assistant_id': '228f9934-0cdd-5383-92c8-ee8422522cc2',\n",
              "  'graph_id': 'router',\n",
              "  'created_at': '2024-12-02T09:25:45.493192+00:00',\n",
              "  'updated_at': '2024-12-02T09:25:45.493192+00:00',\n",
              "  'config': {},\n",
              "  'metadata': {'created_by': 'system'},\n",
              "  'version': 1,\n",
              "  'name': 'router'},\n",
              " {'assistant_id': '28d99cab-ad6c-5342-aee5-400bd8dc9b8b',\n",
              "  'graph_id': 'simple_graph',\n",
              "  'created_at': '2024-12-02T09:25:38.437791+00:00',\n",
              "  'updated_at': '2024-12-02T09:25:38.437791+00:00',\n",
              "  'config': {},\n",
              "  'metadata': {'created_by': 'system'},\n",
              "  'version': 1,\n",
              "  'name': 'simple_graph'}]"
            ]
          },
          "execution_count": 30,
          "metadata": {},
          "output_type": "execute_result"
        }
      ],
      "source": [
        "await assistants"
      ]
    },
    {
      "cell_type": "code",
      "execution_count": null,
      "metadata": {
        "id": "C0S5TcZ_B6Aw"
      },
      "outputs": [],
      "source": [
        "thread = await client.threads.create()"
      ]
    },
    {
      "cell_type": "code",
      "execution_count": null,
      "metadata": {
        "colab": {
          "base_uri": "https://localhost:8080/"
        },
        "id": "Yozr7dNqE8ph",
        "outputId": "3a820720-da5e-480c-9196-19b338e516e8"
      },
      "outputs": [
        {
          "data": {
            "text/plain": [
              "{'thread_id': 'b7d3c35a-4d43-4a76-adf9-72a98d2148e1',\n",
              " 'created_at': '2024-12-02T11:14:02.394676+00:00',\n",
              " 'updated_at': '2024-12-02T11:14:02.394676+00:00',\n",
              " 'metadata': {},\n",
              " 'status': 'idle',\n",
              " 'config': {},\n",
              " 'values': None,\n",
              " 'interrupts': {}}"
            ]
          },
          "execution_count": 32,
          "metadata": {},
          "output_type": "execute_result"
        }
      ],
      "source": [
        "thread"
      ]
    },
    {
      "cell_type": "code",
      "execution_count": null,
      "metadata": {
        "id": "PJqxE2Z2E9_J"
      },
      "outputs": [],
      "source": [
        "from langchain_core.messages import HumanMessage\n",
        "input = {\"messages\":[HumanMessage(content=\"Hi, How you doing\",name = \"Saim\")]}"
      ]
    },
    {
      "cell_type": "code",
      "execution_count": null,
      "metadata": {
        "colab": {
          "base_uri": "https://localhost:8080/"
        },
        "id": "1oTj_KPnFsqw",
        "outputId": "f708dac6-b573-4c58-8b8d-643d4b0bd7cf"
      },
      "outputs": [
        {
          "name": "stdout",
          "output_type": "stream",
          "text": [
            "StreamPart(event='events', data={'event': 'on_chain_start', 'data': {'input': {'messages': [{'id': None, 'name': 'Saim', 'type': 'human', 'content': 'Hi, How you doing', 'example': False, 'additional_kwargs': {}, 'response_metadata': {}}]}}, 'name': 'agent', 'tags': [], 'run_id': '1efb0a02-e426-6cc5-9199-0311c3bd7b1b', 'metadata': {'created_by': 'system', 'run_attempt': 1, 'langgraph_version': '0.2.53', 'langgraph_plan': 'developer', 'langgraph_host': 'self-hosted', 'run_id': '1efb0a02-e426-6cc5-9199-0311c3bd7b1b', 'user_id': '', 'graph_id': 'agent', 'thread_id': 'b7d3c35a-4d43-4a76-adf9-72a98d2148e1', 'assistant_id': 'fe096781-5601-53d2-b2f6-0d3403f7e9ca', 'x-forwarded-for': '34.16.196.97', 'x-forwarded-host': '380a-103-151-43-15.ngrok-free.app', 'x-forwarded-proto': 'https'}, 'parent_ids': []})\n",
            "StreamPart(event='events', data={'event': 'on_chain_start', 'data': {'input': {'messages': [{'content': 'Hi, How you doing', 'additional_kwargs': {'example': False, 'additional_kwargs': {}, 'response_metadata': {}}, 'response_metadata': {}, 'type': 'human', 'name': 'Saim', 'id': '9ffa89ee-4927-4ff5-b2ec-6cc6d7575e61', 'example': False}]}}, 'name': 'assistant', 'tags': ['graph:step:1'], 'run_id': '5bfd9fb1-30af-45bb-b732-029c8059e493', 'metadata': {'created_by': 'system', 'run_attempt': 1, 'langgraph_version': '0.2.53', 'langgraph_plan': 'developer', 'langgraph_host': 'self-hosted', 'run_id': '1efb0a02-e426-6cc5-9199-0311c3bd7b1b', 'user_id': '', 'graph_id': 'agent', 'thread_id': 'b7d3c35a-4d43-4a76-adf9-72a98d2148e1', 'assistant_id': 'fe096781-5601-53d2-b2f6-0d3403f7e9ca', 'x-forwarded-for': '34.16.196.97', 'x-forwarded-host': '380a-103-151-43-15.ngrok-free.app', 'x-forwarded-proto': 'https', 'langgraph_step': 1, 'langgraph_node': 'assistant', 'langgraph_triggers': ['start:assistant'], 'langgraph_path': ['__pregel_pull', 'assistant'], 'langgraph_checkpoint_ns': 'assistant:41fe7f60-2ce3-51bb-4da8-5051f06ebc53'}, 'parent_ids': ['1efb0a02-e426-6cc5-9199-0311c3bd7b1b']})\n",
            "StreamPart(event='events', data={'event': 'on_chat_model_start', 'data': {'input': {'messages': [[{'content': 'You are a helpful assistant tasked with writing performing arithmetic on a set of inputs.', 'additional_kwargs': {}, 'response_metadata': {}, 'type': 'system', 'name': None, 'id': None}, {'content': 'Hi, How you doing', 'additional_kwargs': {'example': False, 'additional_kwargs': {}, 'response_metadata': {}}, 'response_metadata': {}, 'type': 'human', 'name': 'Saim', 'id': '9ffa89ee-4927-4ff5-b2ec-6cc6d7575e61', 'example': False}]]}}, 'name': 'ChatGoogleGenerativeAI', 'tags': ['seq:step:1'], 'run_id': '2c56851f-a7b0-4162-a0d0-9c1107c57fe1', 'metadata': {'created_by': 'system', 'run_attempt': 1, 'langgraph_version': '0.2.53', 'langgraph_plan': 'developer', 'langgraph_host': 'self-hosted', 'run_id': '1efb0a02-e426-6cc5-9199-0311c3bd7b1b', 'user_id': '', 'graph_id': 'agent', 'thread_id': 'b7d3c35a-4d43-4a76-adf9-72a98d2148e1', 'assistant_id': 'fe096781-5601-53d2-b2f6-0d3403f7e9ca', 'x-forwarded-for': '34.16.196.97', 'x-forwarded-host': '380a-103-151-43-15.ngrok-free.app', 'x-forwarded-proto': 'https', 'langgraph_step': 1, 'langgraph_node': 'assistant', 'langgraph_triggers': ['start:assistant'], 'langgraph_path': ['__pregel_pull', 'assistant'], 'langgraph_checkpoint_ns': 'assistant:41fe7f60-2ce3-51bb-4da8-5051f06ebc53', 'checkpoint_ns': 'assistant:41fe7f60-2ce3-51bb-4da8-5051f06ebc53', 'ls_provider': 'google_genai', 'ls_model_name': 'models/gemini-1.5-flash', 'ls_model_type': 'chat', 'ls_temperature': 0.7}, 'parent_ids': ['1efb0a02-e426-6cc5-9199-0311c3bd7b1b', '5bfd9fb1-30af-45bb-b732-029c8059e493']})\n",
            "StreamPart(event='events', data={'event': 'on_chat_model_stream', 'data': {'chunk': {'content': 'I', 'additional_kwargs': {}, 'response_metadata': {'safety_ratings': []}, 'type': 'AIMessageChunk', 'name': None, 'id': 'run-2c56851f-a7b0-4162-a0d0-9c1107c57fe1', 'example': False, 'tool_calls': [], 'invalid_tool_calls': [], 'usage_metadata': {'input_tokens': 167, 'output_tokens': 0, 'total_tokens': 167, 'input_token_details': {'cache_read': 0}}, 'tool_call_chunks': []}}, 'run_id': '2c56851f-a7b0-4162-a0d0-9c1107c57fe1', 'name': 'ChatGoogleGenerativeAI', 'tags': ['seq:step:1'], 'metadata': {'created_by': 'system', 'run_attempt': 1, 'langgraph_version': '0.2.53', 'langgraph_plan': 'developer', 'langgraph_host': 'self-hosted', 'run_id': '1efb0a02-e426-6cc5-9199-0311c3bd7b1b', 'user_id': '', 'graph_id': 'agent', 'thread_id': 'b7d3c35a-4d43-4a76-adf9-72a98d2148e1', 'assistant_id': 'fe096781-5601-53d2-b2f6-0d3403f7e9ca', 'x-forwarded-for': '34.16.196.97', 'x-forwarded-host': '380a-103-151-43-15.ngrok-free.app', 'x-forwarded-proto': 'https', 'langgraph_step': 1, 'langgraph_node': 'assistant', 'langgraph_triggers': ['start:assistant'], 'langgraph_path': ['__pregel_pull', 'assistant'], 'langgraph_checkpoint_ns': 'assistant:41fe7f60-2ce3-51bb-4da8-5051f06ebc53', 'checkpoint_ns': 'assistant:41fe7f60-2ce3-51bb-4da8-5051f06ebc53', 'ls_provider': 'google_genai', 'ls_model_name': 'models/gemini-1.5-flash', 'ls_model_type': 'chat', 'ls_temperature': 0.7}, 'parent_ids': ['1efb0a02-e426-6cc5-9199-0311c3bd7b1b', '5bfd9fb1-30af-45bb-b732-029c8059e493']})\n",
            "StreamPart(event='events', data={'event': 'on_chat_model_stream', 'data': {'chunk': {'content': \"'m doing well, thank you for asking. How can I help you today\", 'additional_kwargs': {}, 'response_metadata': {'safety_ratings': []}, 'type': 'AIMessageChunk', 'name': None, 'id': 'run-2c56851f-a7b0-4162-a0d0-9c1107c57fe1', 'example': False, 'tool_calls': [], 'invalid_tool_calls': [], 'usage_metadata': {'input_tokens': 0, 'output_tokens': 0, 'total_tokens': 0, 'input_token_details': {'cache_read': 0}}, 'tool_call_chunks': []}}, 'run_id': '2c56851f-a7b0-4162-a0d0-9c1107c57fe1', 'name': 'ChatGoogleGenerativeAI', 'tags': ['seq:step:1'], 'metadata': {'created_by': 'system', 'run_attempt': 1, 'langgraph_version': '0.2.53', 'langgraph_plan': 'developer', 'langgraph_host': 'self-hosted', 'run_id': '1efb0a02-e426-6cc5-9199-0311c3bd7b1b', 'user_id': '', 'graph_id': 'agent', 'thread_id': 'b7d3c35a-4d43-4a76-adf9-72a98d2148e1', 'assistant_id': 'fe096781-5601-53d2-b2f6-0d3403f7e9ca', 'x-forwarded-for': '34.16.196.97', 'x-forwarded-host': '380a-103-151-43-15.ngrok-free.app', 'x-forwarded-proto': 'https', 'langgraph_step': 1, 'langgraph_node': 'assistant', 'langgraph_triggers': ['start:assistant'], 'langgraph_path': ['__pregel_pull', 'assistant'], 'langgraph_checkpoint_ns': 'assistant:41fe7f60-2ce3-51bb-4da8-5051f06ebc53', 'checkpoint_ns': 'assistant:41fe7f60-2ce3-51bb-4da8-5051f06ebc53', 'ls_provider': 'google_genai', 'ls_model_name': 'models/gemini-1.5-flash', 'ls_model_type': 'chat', 'ls_temperature': 0.7}, 'parent_ids': ['1efb0a02-e426-6cc5-9199-0311c3bd7b1b', '5bfd9fb1-30af-45bb-b732-029c8059e493']})\n",
            "StreamPart(event='events', data={'event': 'on_chat_model_stream', 'data': {'chunk': {'content': '?\\n', 'additional_kwargs': {}, 'response_metadata': {'finish_reason': 'STOP', 'safety_ratings': []}, 'type': 'AIMessageChunk', 'name': None, 'id': 'run-2c56851f-a7b0-4162-a0d0-9c1107c57fe1', 'example': False, 'tool_calls': [], 'invalid_tool_calls': [], 'usage_metadata': {'input_tokens': 0, 'output_tokens': 19, 'total_tokens': 19, 'input_token_details': {'cache_read': 0}}, 'tool_call_chunks': []}}, 'run_id': '2c56851f-a7b0-4162-a0d0-9c1107c57fe1', 'name': 'ChatGoogleGenerativeAI', 'tags': ['seq:step:1'], 'metadata': {'created_by': 'system', 'run_attempt': 1, 'langgraph_version': '0.2.53', 'langgraph_plan': 'developer', 'langgraph_host': 'self-hosted', 'run_id': '1efb0a02-e426-6cc5-9199-0311c3bd7b1b', 'user_id': '', 'graph_id': 'agent', 'thread_id': 'b7d3c35a-4d43-4a76-adf9-72a98d2148e1', 'assistant_id': 'fe096781-5601-53d2-b2f6-0d3403f7e9ca', 'x-forwarded-for': '34.16.196.97', 'x-forwarded-host': '380a-103-151-43-15.ngrok-free.app', 'x-forwarded-proto': 'https', 'langgraph_step': 1, 'langgraph_node': 'assistant', 'langgraph_triggers': ['start:assistant'], 'langgraph_path': ['__pregel_pull', 'assistant'], 'langgraph_checkpoint_ns': 'assistant:41fe7f60-2ce3-51bb-4da8-5051f06ebc53', 'checkpoint_ns': 'assistant:41fe7f60-2ce3-51bb-4da8-5051f06ebc53', 'ls_provider': 'google_genai', 'ls_model_name': 'models/gemini-1.5-flash', 'ls_model_type': 'chat', 'ls_temperature': 0.7}, 'parent_ids': ['1efb0a02-e426-6cc5-9199-0311c3bd7b1b', '5bfd9fb1-30af-45bb-b732-029c8059e493']})\n",
            "StreamPart(event='events', data={'event': 'on_chat_model_end', 'data': {'output': {'content': \"I'm doing well, thank you for asking. How can I help you today?\\n\", 'additional_kwargs': {}, 'response_metadata': {'safety_ratings': [], 'finish_reason': 'STOP'}, 'type': 'ai', 'name': None, 'id': 'run-2c56851f-a7b0-4162-a0d0-9c1107c57fe1', 'example': False, 'tool_calls': [], 'invalid_tool_calls': [], 'usage_metadata': {'input_tokens': 167, 'output_tokens': 19, 'total_tokens': 186, 'input_token_details': {'cache_read': 0}}}, 'input': {'messages': [[{'content': 'You are a helpful assistant tasked with writing performing arithmetic on a set of inputs.', 'additional_kwargs': {}, 'response_metadata': {}, 'type': 'system', 'name': None, 'id': None}, {'content': 'Hi, How you doing', 'additional_kwargs': {'example': False, 'additional_kwargs': {}, 'response_metadata': {}}, 'response_metadata': {}, 'type': 'human', 'name': 'Saim', 'id': '9ffa89ee-4927-4ff5-b2ec-6cc6d7575e61', 'example': False}]]}}, 'run_id': '2c56851f-a7b0-4162-a0d0-9c1107c57fe1', 'name': 'ChatGoogleGenerativeAI', 'tags': ['seq:step:1'], 'metadata': {'created_by': 'system', 'run_attempt': 1, 'langgraph_version': '0.2.53', 'langgraph_plan': 'developer', 'langgraph_host': 'self-hosted', 'run_id': '1efb0a02-e426-6cc5-9199-0311c3bd7b1b', 'user_id': '', 'graph_id': 'agent', 'thread_id': 'b7d3c35a-4d43-4a76-adf9-72a98d2148e1', 'assistant_id': 'fe096781-5601-53d2-b2f6-0d3403f7e9ca', 'x-forwarded-for': '34.16.196.97', 'x-forwarded-host': '380a-103-151-43-15.ngrok-free.app', 'x-forwarded-proto': 'https', 'langgraph_step': 1, 'langgraph_node': 'assistant', 'langgraph_triggers': ['start:assistant'], 'langgraph_path': ['__pregel_pull', 'assistant'], 'langgraph_checkpoint_ns': 'assistant:41fe7f60-2ce3-51bb-4da8-5051f06ebc53', 'checkpoint_ns': 'assistant:41fe7f60-2ce3-51bb-4da8-5051f06ebc53', 'ls_provider': 'google_genai', 'ls_model_name': 'models/gemini-1.5-flash', 'ls_model_type': 'chat', 'ls_temperature': 0.7}, 'parent_ids': ['1efb0a02-e426-6cc5-9199-0311c3bd7b1b', '5bfd9fb1-30af-45bb-b732-029c8059e493']})\n",
            "StreamPart(event='events', data={'event': 'on_chain_start', 'data': {'input': {'messages': [{'content': 'Hi, How you doing', 'additional_kwargs': {'example': False, 'additional_kwargs': {}, 'response_metadata': {}}, 'response_metadata': {}, 'type': 'human', 'name': 'Saim', 'id': '9ffa89ee-4927-4ff5-b2ec-6cc6d7575e61', 'example': False}, {'content': \"I'm doing well, thank you for asking. How can I help you today?\\n\", 'additional_kwargs': {}, 'response_metadata': {'safety_ratings': [], 'finish_reason': 'STOP'}, 'type': 'ai', 'name': None, 'id': 'run-2c56851f-a7b0-4162-a0d0-9c1107c57fe1', 'example': False, 'tool_calls': [], 'invalid_tool_calls': [], 'usage_metadata': {'input_tokens': 167, 'output_tokens': 19, 'total_tokens': 186, 'input_token_details': {'cache_read': 0}}}]}}, 'name': 'tools_condition', 'tags': ['seq:step:4'], 'run_id': '861c9f98-0ade-4c13-9494-bdf51aea7472', 'metadata': {'created_by': 'system', 'run_attempt': 1, 'langgraph_version': '0.2.53', 'langgraph_plan': 'developer', 'langgraph_host': 'self-hosted', 'run_id': '1efb0a02-e426-6cc5-9199-0311c3bd7b1b', 'user_id': '', 'graph_id': 'agent', 'thread_id': 'b7d3c35a-4d43-4a76-adf9-72a98d2148e1', 'assistant_id': 'fe096781-5601-53d2-b2f6-0d3403f7e9ca', 'x-forwarded-for': '34.16.196.97', 'x-forwarded-host': '380a-103-151-43-15.ngrok-free.app', 'x-forwarded-proto': 'https', 'langgraph_step': 1, 'langgraph_node': 'assistant', 'langgraph_triggers': ['start:assistant'], 'langgraph_path': ['__pregel_pull', 'assistant'], 'langgraph_checkpoint_ns': 'assistant:41fe7f60-2ce3-51bb-4da8-5051f06ebc53'}, 'parent_ids': ['1efb0a02-e426-6cc5-9199-0311c3bd7b1b', '5bfd9fb1-30af-45bb-b732-029c8059e493']})\n",
            "StreamPart(event='events', data={'event': 'on_chain_end', 'data': {'output': '__end__', 'input': {'messages': [{'content': 'Hi, How you doing', 'additional_kwargs': {'example': False, 'additional_kwargs': {}, 'response_metadata': {}}, 'response_metadata': {}, 'type': 'human', 'name': 'Saim', 'id': '9ffa89ee-4927-4ff5-b2ec-6cc6d7575e61', 'example': False}, {'content': \"I'm doing well, thank you for asking. How can I help you today?\\n\", 'additional_kwargs': {}, 'response_metadata': {'safety_ratings': [], 'finish_reason': 'STOP'}, 'type': 'ai', 'name': None, 'id': 'run-2c56851f-a7b0-4162-a0d0-9c1107c57fe1', 'example': False, 'tool_calls': [], 'invalid_tool_calls': [], 'usage_metadata': {'input_tokens': 167, 'output_tokens': 19, 'total_tokens': 186, 'input_token_details': {'cache_read': 0}}}]}}, 'run_id': '861c9f98-0ade-4c13-9494-bdf51aea7472', 'name': 'tools_condition', 'tags': ['seq:step:4'], 'metadata': {'created_by': 'system', 'run_attempt': 1, 'langgraph_version': '0.2.53', 'langgraph_plan': 'developer', 'langgraph_host': 'self-hosted', 'run_id': '1efb0a02-e426-6cc5-9199-0311c3bd7b1b', 'user_id': '', 'graph_id': 'agent', 'thread_id': 'b7d3c35a-4d43-4a76-adf9-72a98d2148e1', 'assistant_id': 'fe096781-5601-53d2-b2f6-0d3403f7e9ca', 'x-forwarded-for': '34.16.196.97', 'x-forwarded-host': '380a-103-151-43-15.ngrok-free.app', 'x-forwarded-proto': 'https', 'langgraph_step': 1, 'langgraph_node': 'assistant', 'langgraph_triggers': ['start:assistant'], 'langgraph_path': ['__pregel_pull', 'assistant'], 'langgraph_checkpoint_ns': 'assistant:41fe7f60-2ce3-51bb-4da8-5051f06ebc53'}, 'parent_ids': ['1efb0a02-e426-6cc5-9199-0311c3bd7b1b', '5bfd9fb1-30af-45bb-b732-029c8059e493']})\n",
            "StreamPart(event='events', data={'event': 'on_chain_stream', 'run_id': '5bfd9fb1-30af-45bb-b732-029c8059e493', 'name': 'assistant', 'tags': ['graph:step:1'], 'metadata': {'created_by': 'system', 'run_attempt': 1, 'langgraph_version': '0.2.53', 'langgraph_plan': 'developer', 'langgraph_host': 'self-hosted', 'run_id': '1efb0a02-e426-6cc5-9199-0311c3bd7b1b', 'user_id': '', 'graph_id': 'agent', 'thread_id': 'b7d3c35a-4d43-4a76-adf9-72a98d2148e1', 'assistant_id': 'fe096781-5601-53d2-b2f6-0d3403f7e9ca', 'x-forwarded-for': '34.16.196.97', 'x-forwarded-host': '380a-103-151-43-15.ngrok-free.app', 'x-forwarded-proto': 'https', 'langgraph_step': 1, 'langgraph_node': 'assistant', 'langgraph_triggers': ['start:assistant'], 'langgraph_path': ['__pregel_pull', 'assistant'], 'langgraph_checkpoint_ns': 'assistant:41fe7f60-2ce3-51bb-4da8-5051f06ebc53'}, 'data': {'chunk': {'messages': [{'content': \"I'm doing well, thank you for asking. How can I help you today?\\n\", 'additional_kwargs': {}, 'response_metadata': {'safety_ratings': [], 'finish_reason': 'STOP'}, 'type': 'ai', 'name': None, 'id': 'run-2c56851f-a7b0-4162-a0d0-9c1107c57fe1', 'example': False, 'tool_calls': [], 'invalid_tool_calls': [], 'usage_metadata': {'input_tokens': 167, 'output_tokens': 19, 'total_tokens': 186, 'input_token_details': {'cache_read': 0}}}]}}, 'parent_ids': ['1efb0a02-e426-6cc5-9199-0311c3bd7b1b']})\n",
            "StreamPart(event='events', data={'event': 'on_chain_end', 'data': {'output': {'messages': [{'content': \"I'm doing well, thank you for asking. How can I help you today?\\n\", 'additional_kwargs': {}, 'response_metadata': {'safety_ratings': [], 'finish_reason': 'STOP'}, 'type': 'ai', 'name': None, 'id': 'run-2c56851f-a7b0-4162-a0d0-9c1107c57fe1', 'example': False, 'tool_calls': [], 'invalid_tool_calls': [], 'usage_metadata': {'input_tokens': 167, 'output_tokens': 19, 'total_tokens': 186, 'input_token_details': {'cache_read': 0}}}]}, 'input': {'messages': [{'content': 'Hi, How you doing', 'additional_kwargs': {'example': False, 'additional_kwargs': {}, 'response_metadata': {}}, 'response_metadata': {}, 'type': 'human', 'name': 'Saim', 'id': '9ffa89ee-4927-4ff5-b2ec-6cc6d7575e61', 'example': False}]}}, 'run_id': '5bfd9fb1-30af-45bb-b732-029c8059e493', 'name': 'assistant', 'tags': ['graph:step:1'], 'metadata': {'created_by': 'system', 'run_attempt': 1, 'langgraph_version': '0.2.53', 'langgraph_plan': 'developer', 'langgraph_host': 'self-hosted', 'run_id': '1efb0a02-e426-6cc5-9199-0311c3bd7b1b', 'user_id': '', 'graph_id': 'agent', 'thread_id': 'b7d3c35a-4d43-4a76-adf9-72a98d2148e1', 'assistant_id': 'fe096781-5601-53d2-b2f6-0d3403f7e9ca', 'x-forwarded-for': '34.16.196.97', 'x-forwarded-host': '380a-103-151-43-15.ngrok-free.app', 'x-forwarded-proto': 'https', 'langgraph_step': 1, 'langgraph_node': 'assistant', 'langgraph_triggers': ['start:assistant'], 'langgraph_path': ['__pregel_pull', 'assistant'], 'langgraph_checkpoint_ns': 'assistant:41fe7f60-2ce3-51bb-4da8-5051f06ebc53'}, 'parent_ids': ['1efb0a02-e426-6cc5-9199-0311c3bd7b1b']})\n",
            "StreamPart(event='events', data={'event': 'on_chain_end', 'data': {'output': {'messages': [{'content': 'Hi, How you doing', 'additional_kwargs': {'example': False, 'additional_kwargs': {}, 'response_metadata': {}}, 'response_metadata': {}, 'type': 'human', 'name': 'Saim', 'id': '9ffa89ee-4927-4ff5-b2ec-6cc6d7575e61', 'example': False}, {'content': \"I'm doing well, thank you for asking. How can I help you today?\\n\", 'additional_kwargs': {}, 'response_metadata': {'safety_ratings': [], 'finish_reason': 'STOP'}, 'type': 'ai', 'name': None, 'id': 'run-2c56851f-a7b0-4162-a0d0-9c1107c57fe1', 'example': False, 'tool_calls': [], 'invalid_tool_calls': [], 'usage_metadata': {'input_tokens': 167, 'output_tokens': 19, 'total_tokens': 186, 'input_token_details': {'cache_read': 0}}}]}}, 'run_id': '1efb0a02-e426-6cc5-9199-0311c3bd7b1b', 'name': 'agent', 'tags': [], 'metadata': {'created_by': 'system', 'run_attempt': 1, 'langgraph_version': '0.2.53', 'langgraph_plan': 'developer', 'langgraph_host': 'self-hosted', 'run_id': '1efb0a02-e426-6cc5-9199-0311c3bd7b1b', 'user_id': '', 'graph_id': 'agent', 'thread_id': 'b7d3c35a-4d43-4a76-adf9-72a98d2148e1', 'assistant_id': 'fe096781-5601-53d2-b2f6-0d3403f7e9ca', 'x-forwarded-for': '34.16.196.97', 'x-forwarded-host': '380a-103-151-43-15.ngrok-free.app', 'x-forwarded-proto': 'https'}, 'parent_ids': []})\n"
          ]
        }
      ],
      "source": [
        "async for chunks in client.runs.stream(\n",
        "    thread[\"thread_id\"],\n",
        "    \"agent\",\n",
        "    input = input,\n",
        "    stream_mode = \"events\"\n",
        "   ):\n",
        "   if chunks.data and chunks.event != \"metadata\":\n",
        "    print(chunks)\n"
      ]
    },
    {
      "cell_type": "code",
      "execution_count": null,
      "metadata": {
        "colab": {
          "base_uri": "https://localhost:8080/"
        },
        "id": "mf-trhKpHXCB",
        "outputId": "8c5f8901-07a9-4de0-ce3e-0805e0039dea"
      },
      "outputs": [
        {
          "name": "stdout",
          "output_type": "stream",
          "text": [
            "{'content': 'What is 10 times 10', 'additional_kwargs': {'example': False, 'additional_kwargs': {}, 'response_metadata': {}}, 'response_metadata': {}, 'type': 'human', 'name': 'Saim', 'id': '69b6d39a-df8d-49e7-bf78-87170763cfe2', 'example': False}\n",
            "{'content': '', 'additional_kwargs': {'function_call': {'name': 'multiply', 'arguments': '{\"a\": 10.0, \"b\": 10.0}'}}, 'response_metadata': {'prompt_feedback': {'block_reason': 0, 'safety_ratings': []}, 'finish_reason': 'STOP', 'safety_ratings': []}, 'type': 'ai', 'name': None, 'id': 'run-b51ae71d-57df-424b-a3e6-44442309b241-0', 'example': False, 'tool_calls': [{'name': 'multiply', 'args': {'a': 10.0, 'b': 10.0}, 'id': '55a9d65d-2783-4c8f-81a3-bbc03af83ba1', 'type': 'tool_call'}], 'invalid_tool_calls': [], 'usage_metadata': {'input_tokens': 249, 'output_tokens': 3, 'total_tokens': 252, 'input_token_details': {'cache_read': 0}}}\n",
            "{'content': '100', 'additional_kwargs': {}, 'response_metadata': {}, 'type': 'tool', 'name': 'multiply', 'id': 'a2db5425-ae6b-4765-a067-6ff6fee4f8fa', 'tool_call_id': '55a9d65d-2783-4c8f-81a3-bbc03af83ba1', 'artifact': None, 'status': 'success'}\n",
            "{'content': '10 times 10 is 100.\\n', 'additional_kwargs': {}, 'response_metadata': {'prompt_feedback': {'block_reason': 0, 'safety_ratings': []}, 'finish_reason': 'STOP', 'safety_ratings': []}, 'type': 'ai', 'name': None, 'id': 'run-ef814399-99d6-4dd2-bcf3-7cabf22fcf2c-0', 'example': False, 'tool_calls': [], 'invalid_tool_calls': [], 'usage_metadata': {'input_tokens': 286, 'output_tokens': 13, 'total_tokens': 299, 'input_token_details': {'cache_read': 0}}}\n"
          ]
        }
      ],
      "source": [
        "async for chunks in client.runs.stream(\n",
        "    thread[\"thread_id\"],\n",
        "    \"agent\",\n",
        "    input=input1,\n",
        "    stream_mode=\"values\"\n",
        "  ):\n",
        "  if chunks.data and chunks.event != \"metadata\":\n",
        "    print(chunks.data[\"messages\"][-1])"
      ]
    },
    {
      "cell_type": "code",
      "execution_count": null,
      "metadata": {
        "id": "VsyZZL63Khps"
      },
      "outputs": [],
      "source": [
        "input1 = {\"messages\":[HumanMessage(content=\"What is 10 times 10\",name=\"Saim\")]}"
      ]
    },
    {
      "cell_type": "code",
      "execution_count": null,
      "metadata": {
        "id": "JCZZUVIILUzA"
      },
      "outputs": [],
      "source": [
        "from pydantic import BaseModel, field_validator, ValidationError"
      ]
    },
    {
      "cell_type": "code",
      "execution_count": null,
      "metadata": {
        "id": "BEhQ769cu6Td"
      },
      "outputs": [],
      "source": [
        "class PydanticState(BaseModel):\n",
        "  name:str\n",
        "  mood:Literal[\"Happy\",\"Sad\"]\n",
        "\n",
        "  @field_validator(\"mood\")\n",
        "  @classmethod\n",
        "  def validation(cls,value):\n",
        "    if value not in [\"Happy\",\"Sad\"]:\n",
        "      raise ValueError(\"Mood must be either Happy or Sad\")\n",
        "    return value"
      ]
    },
    {
      "cell_type": "code",
      "execution_count": null,
      "metadata": {
        "colab": {
          "base_uri": "https://localhost:8080/"
        },
        "id": "-e8lbeZtxOWz",
        "outputId": "8e5a51af-936d-4633-8301-fdd263368520"
      },
      "outputs": [
        {
          "name": "stdout",
          "output_type": "stream",
          "text": [
            "ValidationError :  1 validation error for PydanticState\n",
            "mood\n",
            "  Input should be 'Happy' or 'Sad' [type=literal_error, input_value='MAd', input_type=str]\n",
            "    For further information visit https://errors.pydantic.dev/2.9/v/literal_error\n"
          ]
        }
      ],
      "source": [
        "try:\n",
        "  state : PydanticState = PydanticState(name=\"Saim Hassan\",mood=\"MAd\")\n",
        "  print(state)\n",
        "except ValidationError as e:\n",
        "  print(\"ValidationError : \",e)"
      ]
    },
    {
      "cell_type": "code",
      "execution_count": null,
      "metadata": {
        "colab": {
          "base_uri": "https://localhost:8080/"
        },
        "id": "qP-tM7B9x86i",
        "outputId": "0035882f-3106-4bf1-c239-46e1f45aae3a"
      },
      "outputs": [
        {
          "name": "stdout",
          "output_type": "stream",
          "text": [
            "name='Saim Hassan' mood='Happy'\n"
          ]
        }
      ],
      "source": [
        "try:\n",
        "  state : PydanticState = PydanticState(name=\"Saim Hassan\",mood=\"Happy\")\n",
        "  print(state)\n",
        "except ValidationError as e:\n",
        "  print(ValidationError,e)"
      ]
    },
    {
      "cell_type": "code",
      "execution_count": null,
      "metadata": {
        "id": "iEAiEs_Xy1Hl"
      },
      "outputs": [],
      "source": [
        "def Node_1(state:PydanticState) -> PydanticState :\n",
        "  print(\"......Node 1.......\",state)\n",
        "  return {\"name\":state.name + \" is\"}\n",
        "\n",
        "def Node_2(state:PydanticState)->PydanticState:\n",
        "  print(\"......Node 2.......\",state)\n",
        "  return {\"mood\": \" Happy\"}\n",
        "\n",
        "def Node_3(state:PydanticState) -> PydanticState:\n",
        "  print(\"......Node 3.......\",state)\n",
        "  return{\"mood\": \"Sad\"}\n",
        "\n",
        "def decide(state:PydanticState)->Literal[\"Node_2\",\"Node_3\"] :\n",
        "  import random\n",
        "  if random.random() > 0.5:\n",
        "    return \"Node_2\"\n",
        "  else:\n",
        "    return \"Node_3\"\n",
        "\n",
        "builder : StateGraph = StateGraph(state_schema=PydanticState)\n",
        "\n",
        "builder.add_node(\"Node_1\",Node_1)\n",
        "builder.add_node(\"Node_2\",Node_2)\n",
        "builder.add_node(\"Node_3\",Node_3)\n",
        "\n",
        "builder.add_edge(START,\"Node_1\")\n",
        "builder.add_conditional_edges(\"Node_1\",decide)\n",
        "builder.add_edge(\"Node_2\",END)\n",
        "builder.add_edge(\"Node_3\",END)\n",
        "\n",
        "graph : CompiledStateGraph = builder.compile()"
      ]
    },
    {
      "cell_type": "code",
      "execution_count": null,
      "metadata": {
        "colab": {
          "base_uri": "https://localhost:8080/",
          "height": 350
        },
        "id": "Fy7zzOcK20kL",
        "outputId": "c7cbfdc1-b11a-4635-c29d-983d4d537680"
      },
      "outputs": [
        {
          "data": {
            "image/png": "[encoded data removed]",
            "text/plain": [
              "<IPython.core.display.Image object>"
            ]
          },
          "metadata": {},
          "output_type": "display_data"
        }
      ],
      "source": [
        "display(Image(graph.get_graph().draw_mermaid_png()))"
      ]
    },
    {
      "cell_type": "code",
      "execution_count": null,
      "metadata": {
        "colab": {
          "base_uri": "https://localhost:8080/"
        },
        "id": "PNRSrZna34hp",
        "outputId": "c42c139d-846c-46b0-e95a-be4bd87889b0"
      },
      "outputs": [
        {
          "name": "stdout",
          "output_type": "stream",
          "text": [
            "......Node 1....... name='Saim' mood='Sad'\n",
            "......Node 2....... name='Saim is' mood='Sad'\n"
          ]
        },
        {
          "data": {
            "text/plain": [
              "{'name': 'Saim is', 'mood': ' Happy'}"
            ]
          },
          "execution_count": 57,
          "metadata": {},
          "output_type": "execute_result"
        }
      ],
      "source": [
        "graph.invoke({\"name\":\"Saim\",\"mood\":\"Sad\"})"
      ]
    },
    {
      "cell_type": "code",
      "execution_count": null,
      "metadata": {
        "id": "6DLacpaJBJE8",
        "colab": {
          "base_uri": "https://localhost:8080/"
        },
        "outputId": "b7b4d19e-b3d0-4e01-8e9f-fb4a8fbdab07"
      },
      "outputs": [
        {
          "output_type": "stream",
          "name": "stdout",
          "text": [
            "Collecting langchain_community\n",
            "  Downloading langchain_community-0.3.11-py3-none-any.whl.metadata (2.9 kB)\n",
            "Collecting tavily_python\n",
            "  Downloading tavily_python-0.5.0-py3-none-any.whl.metadata (11 kB)\n",
            "Requirement already satisfied: PyYAML>=5.3 in /usr/local/lib/python3.10/dist-packages (from langchain_community) (6.0.2)\n",
            "Requirement already satisfied: SQLAlchemy<3,>=1.4 in /usr/local/lib/python3.10/dist-packages (from langchain_community) (2.0.36)\n",
            "Requirement already satisfied: aiohttp<4.0.0,>=3.8.3 in /usr/local/lib/python3.10/dist-packages (from langchain_community) (3.11.9)\n",
            "Collecting dataclasses-json<0.7,>=0.5.7 (from langchain_community)\n",
            "  Downloading dataclasses_json-0.6.7-py3-none-any.whl.metadata (25 kB)\n",
            "Collecting httpx-sse<0.5.0,>=0.4.0 (from langchain_community)\n",
            "  Downloading httpx_sse-0.4.0-py3-none-any.whl.metadata (9.0 kB)\n",
            "Requirement already satisfied: langchain<0.4.0,>=0.3.11 in /usr/local/lib/python3.10/dist-packages (from langchain_community) (0.3.11)\n",
            "Requirement already satisfied: langchain-core<0.4.0,>=0.3.24 in /usr/local/lib/python3.10/dist-packages (from langchain_community) (0.3.24)\n",
            "Requirement already satisfied: langsmith<0.3,>=0.1.125 in /usr/local/lib/python3.10/dist-packages (from langchain_community) (0.1.147)\n",
            "Requirement already satisfied: numpy<2,>=1.22.4 in /usr/local/lib/python3.10/dist-packages (from langchain_community) (1.26.4)\n",
            "Collecting pydantic-settings<3.0.0,>=2.4.0 (from langchain_community)\n",
            "  Downloading pydantic_settings-2.6.1-py3-none-any.whl.metadata (3.5 kB)\n",
            "Requirement already satisfied: requests<3,>=2 in /usr/local/lib/python3.10/dist-packages (from langchain_community) (2.32.3)\n",
            "Requirement already satisfied: tenacity!=8.4.0,<10,>=8.1.0 in /usr/local/lib/python3.10/dist-packages (from langchain_community) (9.0.0)\n",
            "Collecting tiktoken>=0.5.1 (from tavily_python)\n",
            "  Downloading tiktoken-0.8.0-cp310-cp310-manylinux_2_17_x86_64.manylinux2014_x86_64.whl.metadata (6.6 kB)\n",
            "Requirement already satisfied: httpx in /usr/local/lib/python3.10/dist-packages (from tavily_python) (0.28.0)\n",
            "Requirement already satisfied: aiohappyeyeballs>=2.3.0 in /usr/local/lib/python3.10/dist-packages (from aiohttp<4.0.0,>=3.8.3->langchain_community) (2.4.4)\n",
            "Requirement already satisfied: aiosignal>=1.1.2 in /usr/local/lib/python3.10/dist-packages (from aiohttp<4.0.0,>=3.8.3->langchain_community) (1.3.1)\n",
            "Requirement already satisfied: async-timeout<6.0,>=4.0 in /usr/local/lib/python3.10/dist-packages (from aiohttp<4.0.0,>=3.8.3->langchain_community) (4.0.3)\n",
            "Requirement already satisfied: attrs>=17.3.0 in /usr/local/lib/python3.10/dist-packages (from aiohttp<4.0.0,>=3.8.3->langchain_community) (24.2.0)\n",
            "Requirement already satisfied: frozenlist>=1.1.1 in /usr/local/lib/python3.10/dist-packages (from aiohttp<4.0.0,>=3.8.3->langchain_community) (1.5.0)\n",
            "Requirement already satisfied: multidict<7.0,>=4.5 in /usr/local/lib/python3.10/dist-packages (from aiohttp<4.0.0,>=3.8.3->langchain_community) (6.1.0)\n",
            "Requirement already satisfied: propcache>=0.2.0 in /usr/local/lib/python3.10/dist-packages (from aiohttp<4.0.0,>=3.8.3->langchain_community) (0.2.1)\n",
            "Requirement already satisfied: yarl<2.0,>=1.17.0 in /usr/local/lib/python3.10/dist-packages (from aiohttp<4.0.0,>=3.8.3->langchain_community) (1.18.3)\n",
            "Collecting marshmallow<4.0.0,>=3.18.0 (from dataclasses-json<0.7,>=0.5.7->langchain_community)\n",
            "  Downloading marshmallow-3.23.1-py3-none-any.whl.metadata (7.5 kB)\n",
            "Collecting typing-inspect<1,>=0.4.0 (from dataclasses-json<0.7,>=0.5.7->langchain_community)\n",
            "  Downloading typing_inspect-0.9.0-py3-none-any.whl.metadata (1.5 kB)\n",
            "Requirement already satisfied: langchain-text-splitters<0.4.0,>=0.3.0 in /usr/local/lib/python3.10/dist-packages (from langchain<0.4.0,>=0.3.11->langchain_community) (0.3.2)\n",
            "Requirement already satisfied: pydantic<3.0.0,>=2.7.4 in /usr/local/lib/python3.10/dist-packages (from langchain<0.4.0,>=0.3.11->langchain_community) (2.10.3)\n",
            "Requirement already satisfied: jsonpatch<2.0,>=1.33 in /usr/local/lib/python3.10/dist-packages (from langchain-core<0.4.0,>=0.3.24->langchain_community) (1.33)\n",
            "Requirement already satisfied: packaging<25,>=23.2 in /usr/local/lib/python3.10/dist-packages (from langchain-core<0.4.0,>=0.3.24->langchain_community) (24.2)\n",
            "Requirement already satisfied: typing-extensions>=4.7 in /usr/local/lib/python3.10/dist-packages (from langchain-core<0.4.0,>=0.3.24->langchain_community) (4.12.2)\n",
            "Requirement already satisfied: orjson<4.0.0,>=3.9.14 in /usr/local/lib/python3.10/dist-packages (from langsmith<0.3,>=0.1.125->langchain_community) (3.10.12)\n",
            "Requirement already satisfied: requests-toolbelt<2.0.0,>=1.0.0 in /usr/local/lib/python3.10/dist-packages (from langsmith<0.3,>=0.1.125->langchain_community) (1.0.0)\n",
            "Requirement already satisfied: anyio in /usr/local/lib/python3.10/dist-packages (from httpx->tavily_python) (3.7.1)\n",
            "Requirement already satisfied: certifi in /usr/local/lib/python3.10/dist-packages (from httpx->tavily_python) (2024.8.30)\n",
            "Requirement already satisfied: httpcore==1.* in /usr/local/lib/python3.10/dist-packages (from httpx->tavily_python) (1.0.7)\n",
            "Requirement already satisfied: idna in /usr/local/lib/python3.10/dist-packages (from httpx->tavily_python) (3.10)\n",
            "Requirement already satisfied: h11<0.15,>=0.13 in /usr/local/lib/python3.10/dist-packages (from httpcore==1.*->httpx->tavily_python) (0.14.0)\n",
            "Collecting python-dotenv>=0.21.0 (from pydantic-settings<3.0.0,>=2.4.0->langchain_community)\n",
            "  Downloading python_dotenv-1.0.1-py3-none-any.whl.metadata (23 kB)\n",
            "Requirement already satisfied: charset-normalizer<4,>=2 in /usr/local/lib/python3.10/dist-packages (from requests<3,>=2->langchain_community) (3.4.0)\n",
            "Requirement already satisfied: urllib3<3,>=1.21.1 in /usr/local/lib/python3.10/dist-packages (from requests<3,>=2->langchain_community) (2.2.3)\n",
            "Requirement already satisfied: greenlet!=0.4.17 in /usr/local/lib/python3.10/dist-packages (from SQLAlchemy<3,>=1.4->langchain_community) (3.1.1)\n",
            "Requirement already satisfied: regex>=2022.1.18 in /usr/local/lib/python3.10/dist-packages (from tiktoken>=0.5.1->tavily_python) (2024.9.11)\n",
            "Requirement already satisfied: jsonpointer>=1.9 in /usr/local/lib/python3.10/dist-packages (from jsonpatch<2.0,>=1.33->langchain-core<0.4.0,>=0.3.24->langchain_community) (3.0.0)\n",
            "Requirement already satisfied: annotated-types>=0.6.0 in /usr/local/lib/python3.10/dist-packages (from pydantic<3.0.0,>=2.7.4->langchain<0.4.0,>=0.3.11->langchain_community) (0.7.0)\n",
            "Requirement already satisfied: pydantic-core==2.27.1 in /usr/local/lib/python3.10/dist-packages (from pydantic<3.0.0,>=2.7.4->langchain<0.4.0,>=0.3.11->langchain_community) (2.27.1)\n",
            "Collecting mypy-extensions>=0.3.0 (from typing-inspect<1,>=0.4.0->dataclasses-json<0.7,>=0.5.7->langchain_community)\n",
            "  Downloading mypy_extensions-1.0.0-py3-none-any.whl.metadata (1.1 kB)\n",
            "Requirement already satisfied: sniffio>=1.1 in /usr/local/lib/python3.10/dist-packages (from anyio->httpx->tavily_python) (1.3.1)\n",
            "Requirement already satisfied: exceptiongroup in /usr/local/lib/python3.10/dist-packages (from anyio->httpx->tavily_python) (1.2.2)\n",
            "Downloading langchain_community-0.3.11-py3-none-any.whl (2.5 MB)\n",
            "\u001b[2K   \u001b[90m━━━━━━━━━━━━━━━━━━━━━━━━━━━━━━━━━━━━━━━━\u001b[0m \u001b[32m2.5/2.5 MB\u001b[0m \u001b[31m31.8 MB/s\u001b[0m eta \u001b[36m0:00:00\u001b[0m\n",
            "\u001b[?25hDownloading tavily_python-0.5.0-py3-none-any.whl (14 kB)\n",
            "Downloading dataclasses_json-0.6.7-py3-none-any.whl (28 kB)\n",
            "Downloading httpx_sse-0.4.0-py3-none-any.whl (7.8 kB)\n",
            "Downloading pydantic_settings-2.6.1-py3-none-any.whl (28 kB)\n",
            "Downloading tiktoken-0.8.0-cp310-cp310-manylinux_2_17_x86_64.manylinux2014_x86_64.whl (1.2 MB)\n",
            "\u001b[2K   \u001b[90m━━━━━━━━━━━━━━━━━━━━━━━━━━━━━━━━━━━━━━━━\u001b[0m \u001b[32m1.2/1.2 MB\u001b[0m \u001b[31m54.5 MB/s\u001b[0m eta \u001b[36m0:00:00\u001b[0m\n",
            "\u001b[?25hDownloading marshmallow-3.23.1-py3-none-any.whl (49 kB)\n",
            "\u001b[2K   \u001b[90m━━━━━━━━━━━━━━━━━━━━━━━━━━━━━━━━━━━━━━━━\u001b[0m \u001b[32m49.5/49.5 kB\u001b[0m \u001b[31m3.4 MB/s\u001b[0m eta \u001b[36m0:00:00\u001b[0m\n",
            "\u001b[?25hDownloading python_dotenv-1.0.1-py3-none-any.whl (19 kB)\n",
            "Downloading typing_inspect-0.9.0-py3-none-any.whl (8.8 kB)\n",
            "Downloading mypy_extensions-1.0.0-py3-none-any.whl (4.7 kB)\n",
            "Installing collected packages: python-dotenv, mypy-extensions, marshmallow, httpx-sse, typing-inspect, tiktoken, tavily_python, pydantic-settings, dataclasses-json, langchain_community\n",
            "Successfully installed dataclasses-json-0.6.7 httpx-sse-0.4.0 langchain_community-0.3.11 marshmallow-3.23.1 mypy-extensions-1.0.0 pydantic-settings-2.6.1 python-dotenv-1.0.1 tavily_python-0.5.0 tiktoken-0.8.0 typing-inspect-0.9.0\n"
          ]
        }
      ],
      "source": [
        "!pip install langchain_community tavily_python"
      ]
    },
    {
      "cell_type": "code",
      "execution_count": null,
      "metadata": {
        "id": "BEE_Gl9K5BNm"
      },
      "outputs": [],
      "source": [
        "import os\n",
        "from google.colab import userdata\n",
        "TAVILY_API_KEY = userdata.get(\"TAVILY_API_KEY\")\n",
        "os.environ[\"TAVILY_API_KEY\"] = TAVILY_API_KEY\n",
        "\n",
        "from langchain_community.tools.tavily_search import TavilySearchResults\n",
        "tavily_search = TavilySearchResults(max_results=3)"
      ]
    },
    {
      "cell_type": "code",
      "execution_count": null,
      "metadata": {
        "id": "8Kb00sjmVErZ"
      },
      "outputs": [],
      "source": [
        "from langchain_core.tools import tool\n",
        "@tool\n",
        "def multi(a:int,b:int)->int:\n",
        "  \"\"\"\n",
        "  The function is used to multiply the two inputs given to it, it has two arguments\n",
        "  Args:\n",
        "      a: First Number (It is of integer data type)\n",
        "      b: Second Number (It is of integer data type)\n",
        "  return:\n",
        "      a*b (integer data type)\n",
        "  \"\"\"\n",
        "  return a*b"
      ]
    },
    {
      "cell_type": "code",
      "execution_count": null,
      "metadata": {
        "id": "EVp4slInYqY8"
      },
      "outputs": [],
      "source": [
        "tools = [multi]\n",
        "from langgraph.prebuilt import ToolNode\n",
        "tool_node : ToolNode = ToolNode(tools)"
      ]
    },
    {
      "cell_type": "code",
      "execution_count": null,
      "metadata": {
        "id": "Ecce2CbxZhs6"
      },
      "outputs": [],
      "source": [
        "llm_with_tools = llm.bind_tools(tools)"
      ]
    },
    {
      "cell_type": "code",
      "execution_count": null,
      "metadata": {
        "id": "LnlsCs0-ZunD"
      },
      "outputs": [],
      "source": [
        "import operator\n",
        "from langchain_core.messages import BaseMessage\n",
        "from pydantic import BaseModel\n",
        "from typing import Annotated,Sequence"
      ]
    },
    {
      "cell_type": "code",
      "execution_count": null,
      "metadata": {
        "id": "SVmHciM6aIjh"
      },
      "outputs": [],
      "source": [
        "class Pydantic(BaseModel):\n",
        "  messages : Annotated[Sequence[BaseMessage],operator.add]"
      ]
    },
    {
      "cell_type": "code",
      "execution_count": null,
      "metadata": {
        "id": "1cZ-fnTWajSe"
      },
      "outputs": [],
      "source": [
        "def should(state:Pydantic)->Literal[\"go\",\"stop\"]:\n",
        "  messages = state.messages\n",
        "  last_mg = messages[-1]\n",
        "  if not last_mg.tool_calls:\n",
        "    return \"end\"\n",
        "  else:\n",
        "    return \"go\""
      ]
    },
    {
      "cell_type": "code",
      "execution_count": null,
      "metadata": {
        "id": "NWRe8S76bEku"
      },
      "outputs": [],
      "source": [
        "def Node_111(state:Pydantic)->Pydantic:\n",
        "  messages = state.messages\n",
        "  reply = llm_with_tools.invoke(messages)\n",
        "  return {\"messages\":[reply]}"
      ]
    },
    {
      "cell_type": "code",
      "execution_count": null,
      "metadata": {
        "id": "mQGnMyqIbLFd"
      },
      "outputs": [],
      "source": [
        "flow : StateGraph = StateGraph(state_schema=Pydantic)"
      ]
    },
    {
      "cell_type": "code",
      "execution_count": null,
      "metadata": {
        "colab": {
          "base_uri": "https://localhost:8080/"
        },
        "id": "SNTH_O9rbNTF",
        "outputId": "66be6cbd-0657-4e25-eecd-1e84e693ec8b"
      },
      "outputs": [
        {
          "data": {
            "text/plain": [
              "<langgraph.graph.state.StateGraph at 0x7d889617c100>"
            ]
          },
          "execution_count": 48,
          "metadata": {},
          "output_type": "execute_result"
        }
      ],
      "source": [
        "flow.add_node(\"agent\",Node_111)\n",
        "flow.add_node(\"tools\",tool_node)"
      ]
    },
    {
      "cell_type": "code",
      "execution_count": null,
      "metadata": {
        "colab": {
          "base_uri": "https://localhost:8080/"
        },
        "id": "IwcDYEO1bcwb",
        "outputId": "f437afdf-6e7f-414f-88a1-9c3d9e0b1e07"
      },
      "outputs": [
        {
          "data": {
            "text/plain": [
              "<langgraph.graph.state.StateGraph at 0x7d889617c100>"
            ]
          },
          "execution_count": 49,
          "metadata": {},
          "output_type": "execute_result"
        }
      ],
      "source": [
        "flow.add_edge(START,\"agent\")\n",
        "flow.add_conditional_edges(\"agent\",should,{\"go\":\"tools\",\"end\":END})\n",
        "flow.add_edge(\"tools\",\"agent\")"
      ]
    },
    {
      "cell_type": "code",
      "execution_count": null,
      "metadata": {
        "id": "QDmiXERAbjCz"
      },
      "outputs": [],
      "source": [
        "graphy = flow.compile()"
      ]
    },
    {
      "cell_type": "code",
      "execution_count": null,
      "metadata": {
        "id": "PUeOvopwblqk"
      },
      "outputs": [],
      "source": [
        "rip = graphy.invoke({\"messages\":[HumanMessage(content=\"Calculate 10 times 10\",name=\"Saim\")]})"
      ]
    },
    {
      "cell_type": "code",
      "execution_count": null,
      "metadata": {
        "colab": {
          "base_uri": "https://localhost:8080/"
        },
        "id": "C0b9lmpLbo-d",
        "outputId": "9a9747ea-c446-4cf4-88d8-67d6cd0f3373"
      },
      "outputs": [
        {
          "name": "stdout",
          "output_type": "stream",
          "text": [
            "================================\u001b[1m Human Message \u001b[0m=================================\n",
            "Name: Saim\n",
            "\n",
            "Calculate 10 times 10\n",
            "==================================\u001b[1m Ai Message \u001b[0m==================================\n",
            "Tool Calls:\n",
            "  multi (9ae18229-729b-4759-af07-6140e0856ccc)\n",
            " Call ID: 9ae18229-729b-4759-af07-6140e0856ccc\n",
            "  Args:\n",
            "    a: 10.0\n",
            "    b: 10.0\n",
            "=================================\u001b[1m Tool Message \u001b[0m=================================\n",
            "Name: multi\n",
            "\n",
            "100\n",
            "==================================\u001b[1m Ai Message \u001b[0m==================================\n",
            "\n",
            "The result is 100.\n"
          ]
        }
      ],
      "source": [
        "for m in rip[\"messages\"]:\n",
        "  m.pretty_print()"
      ]
    },
    {
      "cell_type": "code",
      "execution_count": null,
      "metadata": {
        "colab": {
          "base_uri": "https://localhost:8080/",
          "height": 290
        },
        "id": "HGnZroG7bvG7",
        "outputId": "09548528-6745-4889-f104-0efde008086d"
      },
      "outputs": [
        {
          "data": {
            "image/png": "[encoded data removed]",
            "text/plain": [
              "<IPython.core.display.Image object>"
            ]
          },
          "metadata": {},
          "output_type": "display_data"
        }
      ],
      "source": [
        "display(Image(graphy.get_graph().draw_mermaid_png()))"
      ]
    },
    {
      "cell_type": "code",
      "execution_count": null,
      "metadata": {
        "id": "pQsKrnImb3zD"
      },
      "outputs": [],
      "source": [
        "rip2 = graphy.invoke({\"messages\":[HumanMessage(content=\"Diff btw summer and winter\",name=\"Saim\")]})"
      ]
    },
    {
      "cell_type": "code",
      "execution_count": null,
      "metadata": {
        "colab": {
          "base_uri": "https://localhost:8080/"
        },
        "id": "juPMpSG0cAwf",
        "outputId": "674edeaa-b414-4713-a7e7-7f1a16494dc5"
      },
      "outputs": [
        {
          "name": "stdout",
          "output_type": "stream",
          "text": [
            "================================\u001b[1m Human Message \u001b[0m=================================\n",
            "Name: Saim\n",
            "\n",
            "Diff btw summer and winter\n",
            "==================================\u001b[1m Ai Message \u001b[0m==================================\n",
            "\n",
            "Summer and winter are characterized by opposite weather conditions. Summer is typically warmer with longer days and shorter nights, while winter is colder with shorter days and longer nights.  These differences are due to the tilt of the Earth's axis relative to its orbit around the sun.\n"
          ]
        }
      ],
      "source": [
        "for m in rip2[\"messages\"]:\n",
        "  m.pretty_print()"
      ]
    },
    {
      "cell_type": "code",
      "execution_count": null,
      "metadata": {
        "id": "CdOGVT9OcEzw"
      },
      "outputs": [],
      "source": [
        "class SimpleState(BaseModel):\n",
        "  foo : int\n",
        "\n",
        "def Node_1(state:SimpleState)->SimpleState:\n",
        "  print(\"......Node 1.....\")\n",
        "  return {\"foo\":state.foo + 1 }\n",
        "\n",
        "def Node_2(state:SimpleState)->SimpleState:\n",
        "  print(\".....Node 2.....\")\n",
        "  return {\"foo\":state.foo + 1}\n",
        "\n",
        "def Node_3(state:SimpleState)->SimpleState:\n",
        "  print(\"......Node 3.....\")\n",
        "  return {\"foo\":state.foo + 1}\n",
        "\n",
        "builder = StateGraph(state_schema=SimpleState)\n",
        "\n",
        "builder.add_node(\"Node_1\",Node_1)\n",
        "builder.add_node(\"Node_2\",Node_2)\n",
        "builder.add_node(\"Node_3\",Node_3)\n",
        "\n",
        "builder.add_edge(START,\"Node_1\")\n",
        "builder.add_edge(\"Node_1\",\"Node_2\")\n",
        "builder.add_edge(\"Node_1\",\"Node_3\")\n",
        "builder.add_edge(\"Node_2\",END)\n",
        "builder.add_edge(\"Node_3\",END)\n",
        "\n",
        "graph : CompiledStateGraph = builder.compile()"
      ]
    },
    {
      "cell_type": "code",
      "execution_count": null,
      "metadata": {
        "colab": {
          "base_uri": "https://localhost:8080/",
          "height": 350
        },
        "id": "0lRrB5fdaw6f",
        "outputId": "ba93adc5-deef-4129-cccf-4ed9208aaf41"
      },
      "outputs": [
        {
          "data": {
            "image/png": "[encoded data removed]",
            "text/plain": [
              "<IPython.core.display.Image object>"
            ]
          },
          "metadata": {},
          "output_type": "display_data"
        }
      ],
      "source": [
        "display(Image(graph.get_graph().draw_mermaid_png()))"
      ]
    },
    {
      "cell_type": "code",
      "execution_count": null,
      "metadata": {
        "colab": {
          "base_uri": "https://localhost:8080/"
        },
        "id": "rd-mM-rVa4E7",
        "outputId": "c053bd59-cc07-468a-d973-d4c8013c4cb8"
      },
      "outputs": [
        {
          "name": "stdout",
          "output_type": "stream",
          "text": [
            "......Node 1.....\n",
            ".....Node 2.....\n",
            "......Node 3.....\n",
            "<class 'langgraph.errors.InvalidUpdateError'> At key 'foo': Can receive only one value per step. Use an Annotated key to handle multiple values.\n",
            "For troubleshooting, visit: https://python.langchain.com/docs/troubleshooting/errors/INVALID_CONCURRENT_GRAPH_UPDATE\n"
          ]
        }
      ],
      "source": [
        "from langgraph.errors import InvalidUpdateError\n",
        "try:\n",
        "  graph.invoke({\"foo\":1})\n",
        "except InvalidUpdateError as e:\n",
        "  print(InvalidUpdateError,e)\n"
      ]
    },
    {
      "cell_type": "code",
      "execution_count": null,
      "metadata": {
        "id": "IRc0izgghWi2"
      },
      "outputs": [],
      "source": [
        "import operator\n",
        "from operator import add\n",
        "from typing import Annotated\n",
        "\n",
        "class SamState(BaseModel):\n",
        "  foo : Annotated[list[int],operator.add]\n",
        "\n",
        "def Node_1(state:SamState)->SamState:\n",
        "  print(\"......Node 1.....\")\n",
        "  return {\"foo\":[state.foo[-1]+1]}\n",
        "\n",
        "def Node_2(state:SamState)->SamState:\n",
        "  print(\".....Node 2.....\")\n",
        "  return {\"foo\":[state.foo[-1]+1]}\n",
        "\n",
        "def Node_3(state:SamState)->SamState:\n",
        "  print(\"......Node 3.....\")\n",
        "  return {\"foo\":[state.foo[-1]+1]}\n",
        "\n",
        "builder1 = StateGraph(state_schema=SamState)\n",
        "\n",
        "builder1.add_node(\"Node_1\",Node_1)\n",
        "builder1.add_node(\"Node_2\",Node_2)\n",
        "builder1.add_node(\"Node_3\",Node_3)\n",
        "\n",
        "builder1.add_edge(START,\"Node_1\")\n",
        "builder1.add_edge(\"Node_1\",\"Node_2\")\n",
        "builder1.add_edge(\"Node_1\",\"Node_3\")\n",
        "builder1.add_edge(\"Node_2\",END)\n",
        "builder1.add_edge(\"Node_3\",END)\n",
        "\n",
        "graph1 : CompiledStateGraph = builder1.compile()"
      ]
    },
    {
      "cell_type": "code",
      "execution_count": null,
      "metadata": {
        "colab": {
          "base_uri": "https://localhost:8080/"
        },
        "id": "UnakUvYWi048",
        "outputId": "e1a942c7-1a6f-42ed-972d-b10db3497c79"
      },
      "outputs": [
        {
          "name": "stdout",
          "output_type": "stream",
          "text": [
            "......Node 1.....\n",
            ".....Node 2.....\n",
            "......Node 3.....\n"
          ]
        }
      ],
      "source": [
        "try:\n",
        "  graph1.invoke({\"foo\":[1]})\n",
        "except InvalidUpdateError as e:\n",
        "  print(InvalidUpdateError,e)"
      ]
    },
    {
      "cell_type": "code",
      "execution_count": null,
      "metadata": {
        "colab": {
          "base_uri": "https://localhost:8080/"
        },
        "id": "Sj5gyBBzjqjg",
        "outputId": "4680deb7-f58a-4510-d4d7-bd79703d6ce9"
      },
      "outputs": [
        {
          "name": "stdout",
          "output_type": "stream",
          "text": [
            "......Node 1.....\n",
            ".....Node 2.....\n",
            "......Node 3.....\n"
          ]
        },
        {
          "data": {
            "text/plain": [
              "{'foo': [1, 2, 3, 3]}"
            ]
          },
          "execution_count": 38,
          "metadata": {},
          "output_type": "execute_result"
        }
      ],
      "source": [
        "graph1.invoke({\"foo\":[1]})"
      ]
    },
    {
      "cell_type": "code",
      "execution_count": null,
      "metadata": {
        "id": "rIJ6fj4kkijb"
      },
      "outputs": [],
      "source": [
        "def reducer(left: list | None , right : list | None)->list:\n",
        "  if not left :\n",
        "    left = []\n",
        "  if not right :\n",
        "    right = []\n",
        "  return left + right\n",
        "\n",
        "class staty(BaseModel):\n",
        "  foo:Annotated[list[int],reducer]\n",
        "\n",
        "class old(BaseModel):\n",
        "  foo:Annotated[list[int],add]"
      ]
    },
    {
      "cell_type": "code",
      "execution_count": null,
      "metadata": {
        "id": "Qptl8V3PrNPA"
      },
      "outputs": [],
      "source": [
        "def Node_1(state:staty)->staty:\n",
        "  print(\"......Node 1.....\")\n",
        "  return {\"foo\":[2]}\n",
        "\n",
        "build = StateGraph(state_schema=staty)\n",
        "\n",
        "build.add_node(\"Node_1\",Node_1)\n",
        "\n",
        "build.add_edge(START,\"Node_1\")\n",
        "build.add_edge(\"Node_1\",END)\n",
        "\n",
        "graph2 : CompiledStateGraph = build.compile()"
      ]
    },
    {
      "cell_type": "code",
      "execution_count": null,
      "metadata": {
        "id": "jgbyjc81u-oe"
      },
      "outputs": [],
      "source": [
        "def Node_2(state:old)->old:\n",
        "  print(\"......Node 2.....\")\n",
        "  return {\"foo\":[2]}\n",
        "\n",
        "build1 = StateGraph(state_schema=old)\n",
        "\n",
        "build1.add_node(\"Node_2\",Node_2)\n",
        "\n",
        "build1.add_edge(START,\"Node_2\")\n",
        "build1.add_edge(\"Node_2\",END)\n",
        "\n",
        "graph3 : CompiledStateGraph = build1.compile()"
      ]
    },
    {
      "cell_type": "code",
      "execution_count": null,
      "metadata": {
        "colab": {
          "base_uri": "https://localhost:8080/"
        },
        "id": "AY9LhxHKvEw4",
        "outputId": "3a18881b-ed33-4ac3-c2ed-e27e3322b310"
      },
      "outputs": [
        {
          "name": "stdout",
          "output_type": "stream",
          "text": [
            "......Node 1.....\n"
          ]
        },
        {
          "data": {
            "text/plain": [
              "{'foo': [2]}"
            ]
          },
          "execution_count": 55,
          "metadata": {},
          "output_type": "execute_result"
        }
      ],
      "source": [
        "graph2.invoke({\"foo\":None})"
      ]
    },
    {
      "cell_type": "code",
      "execution_count": null,
      "metadata": {
        "colab": {
          "base_uri": "https://localhost:8080/"
        },
        "id": "NfvQqU58vLjP",
        "outputId": "62cd65e6-a92b-44b8-8277-33e97c9d36c3"
      },
      "outputs": [
        {
          "name": "stdout",
          "output_type": "stream",
          "text": [
            "TypeError Ocurred :  can only concatenate list (not \"NoneType\") to list\n"
          ]
        }
      ],
      "source": [
        "try:\n",
        "   graph3.invoke({\"foo\":None})\n",
        "except TypeError as e:\n",
        "  print(\"TypeError Ocurred : \" ,e)"
      ]
    },
    {
      "cell_type": "code",
      "execution_count": null,
      "metadata": {
        "id": "CRW5cKgyva3-"
      },
      "outputs": [],
      "source": [
        "from langgraph.graph import MessagesState\n",
        "from langgraph.graph.message import add_messages\n",
        "from langchain_core.messages import AnyMessage, HumanMessage, AIMessage"
      ]
    },
    {
      "cell_type": "code",
      "execution_count": null,
      "metadata": {
        "id": "oNR93iSC192y"
      },
      "outputs": [],
      "source": [
        "class new(MessagesState):\n",
        "  id_1 : str\n",
        "  id_2 : str\n",
        "\n",
        "class new1(BaseModel):\n",
        "  messages : Annotated[list[AnyMessage],add_messages]\n",
        "  id_1 : str\n",
        "  id_2 : str"
      ]
    },
    {
      "cell_type": "code",
      "execution_count": null,
      "metadata": {
        "colab": {
          "base_uri": "https://localhost:8080/"
        },
        "id": "1LMbYEco2cRb",
        "outputId": "22cbe1f4-25a5-4fb6-88ae-e4d4b734b894"
      },
      "outputs": [
        {
          "data": {
            "text/plain": [
              "[HumanMessage(content='Hi , How are you !', additional_kwargs={}, response_metadata={}, name='Saim', id='9209dcd7-3da7-4794-aead-06bd178efd99'),\n",
              " AIMessage(content='I am Good, How can I help you ?', additional_kwargs={}, response_metadata={}, name='AI', id='23f6452b-51bf-4627-ab2b-54f4fa0ef554'),\n",
              " HumanMessage(content='I want to study about Marine Biology', additional_kwargs={}, response_metadata={}, name='Saim', id='f2353011-e974-4eec-b1b7-b82ff9109190')]"
            ]
          },
          "execution_count": 66,
          "metadata": {},
          "output_type": "execute_result"
        }
      ],
      "source": [
        "initial_msg = [HumanMessage(content=\"Hi , How are you !\",name=\"Saim\"),\n",
        "               AIMessage(content=\"I am Good, How can I help you ?\",name=\"AI\")]\n",
        "\n",
        "new_msg = [HumanMessage(content=\"I want to study about Marine Biology\",name= \"Saim\")]\n",
        "\n",
        "add_messages(initial_msg,new_msg)"
      ]
    },
    {
      "cell_type": "code",
      "execution_count": null,
      "metadata": {
        "colab": {
          "base_uri": "https://localhost:8080/"
        },
        "id": "DRM6FGGm3zDJ",
        "outputId": "d46fce8b-5f1b-4d34-8ff9-bb963101bf43"
      },
      "outputs": [
        {
          "data": {
            "text/plain": [
              "[HumanMessage(content='Hi , How are you !', additional_kwargs={}, response_metadata={}, name='Saim', id='1'),\n",
              " AIMessage(content='I am Good, How can I help you ?', additional_kwargs={}, response_metadata={}, name='AI', id='2'),\n",
              " HumanMessage(content='I wan to know about UFC', additional_kwargs={}, response_metadata={}, name='Saim', id='2')]"
            ]
          },
          "execution_count": 67,
          "metadata": {},
          "output_type": "execute_result"
        }
      ],
      "source": [
        "msg_1 = [HumanMessage(content=\"Hi , How are you !\",name=\"Saim\",id=1),\n",
        "        AIMessage(content=\"I am Good, How can I help you ?\",name=\"AI\",id=2),\n",
        "        HumanMessage(content=\"I want to know about marine animals\", name =\"Saim\",id=2)]\n",
        "\n",
        "msg_2 = [HumanMessage(content=\"I want to know about UFC\",name=\"Saim\",id=2)]\n",
        "\n",
        "add_messages(msg_1,msg_2)"
      ]
    },
    {
      "cell_type": "code",
      "execution_count": null,
      "metadata": {
        "id": "C-kI7iSR4YDk"
      },
      "outputs": [],
      "source": [
        "from langchain_core.messages import RemoveMessage"
      ]
    },
    {
      "cell_type": "code",
      "execution_count": null,
      "metadata": {
        "id": "i9my-ikI5mLR"
      },
      "outputs": [],
      "source": [
        "sms = [HumanMessage(content=\"Hi , How are you !\",name=\"Saim\",id=1),\n",
        "        AIMessage(content=\"I am Good, How can I help you ?\",name=\"AI\",id=2),\n",
        "        HumanMessage(content=\"I want to know about marine animals\", name =\"Saim\",id=3),\n",
        "        AIMessage(content=\"What you want to know about that\",name=\"Saim\",id=4)]\n",
        "\n",
        "del_sms = [RemoveMessage(id=m.id)for m in sms[:-2]]"
      ]
    },
    {
      "cell_type": "code",
      "execution_count": null,
      "metadata": {
        "colab": {
          "base_uri": "https://localhost:8080/"
        },
        "id": "Oom6os4L6PJ8",
        "outputId": "ed73cbad-0a9f-4705-9cd9-7af7fa9c8f2c"
      },
      "outputs": [
        {
          "data": {
            "text/plain": [
              "[HumanMessage(content='I want to know about marine animals', additional_kwargs={}, response_metadata={}, name='Saim', id='3'),\n",
              " AIMessage(content='What you want to know about that', additional_kwargs={}, response_metadata={}, name='Saim', id='4')]"
            ]
          },
          "execution_count": 71,
          "metadata": {},
          "output_type": "execute_result"
        }
      ],
      "source": [
        "add_messages(sms,del_sms)"
      ]
    },
    {
      "cell_type": "code",
      "execution_count": null,
      "metadata": {
        "colab": {
          "base_uri": "https://localhost:8080/",
          "height": 350
        },
        "id": "G5BBmObg6Qyb",
        "outputId": "31a77b91-9c6d-440c-80e0-efc7b6e6e0fa"
      },
      "outputs": [
        {
          "data": {
            "image/png": "[encoded data removed]",
            "text/plain": [
              "<IPython.core.display.Image object>"
            ]
          },
          "metadata": {},
          "output_type": "display_data"
        }
      ],
      "source": [
        "class new(TypedDict):\n",
        "  foo : int\n",
        "  boo: int\n",
        "\n",
        "def Node_1(state:new)->new:\n",
        "  print(\"......Node 1.....\")\n",
        "  return{\"boo\":state[\"foo\"]+1}\n",
        "\n",
        "def Node_2(state:new)->new:\n",
        "  print(\"......Node 2.....\")\n",
        "  return {\"foo\":state[\"boo\"]+1}\n",
        "\n",
        "builder :StateGraph = StateGraph(state_schema=new)\n",
        "\n",
        "builder.add_node(\"Node_1\",Node_1)\n",
        "builder.add_node(\"Node_2\",Node_2)\n",
        "\n",
        "builder.add_edge(START,\"Node_1\")\n",
        "builder.add_edge(\"Node_1\",\"Node_2\")\n",
        "builder.add_edge(\"Node_2\",END)\n",
        "\n",
        "graph : CompiledStateGraph = builder.compile()\n",
        "\n",
        "display(Image(graph.get_graph().draw_mermaid_png()))"
      ]
    },
    {
      "cell_type": "code",
      "execution_count": null,
      "metadata": {
        "colab": {
          "base_uri": "https://localhost:8080/"
        },
        "id": "zVWJj0_rHbDu",
        "outputId": "5ba45e88-abdc-4ed7-e219-fbf5d6acdd77"
      },
      "outputs": [
        {
          "name": "stdout",
          "output_type": "stream",
          "text": [
            "......Node 1.....\n",
            "......Node 2.....\n"
          ]
        },
        {
          "data": {
            "text/plain": [
              "{'foo': 3, 'boo': 2}"
            ]
          },
          "execution_count": 27,
          "metadata": {},
          "output_type": "execute_result"
        }
      ],
      "source": [
        "graph.invoke({\"foo\":1})"
      ]
    },
    {
      "cell_type": "code",
      "execution_count": null,
      "metadata": {
        "id": "n6CWyI-OLuNJ"
      },
      "outputs": [],
      "source": [
        "class new1(BaseModel):\n",
        "  foo:int\n",
        "class Private(BaseModel):\n",
        "  boo : int\n",
        "\n",
        "def node_1(state:new1)->Private:\n",
        "  print(\"......Node 1.....\")\n",
        "  return {\"boo\":state.foo + 1}\n",
        "\n",
        "def node_2(state:Private)->new1:\n",
        "  print(\".....Node 2......\")\n",
        "  return{\"foo\":state.boo + 1}\n",
        "\n",
        "builder1 = StateGraph(state_schema=new1)\n",
        "\n",
        "builder1.add_node(\"node_1\",node_1)\n",
        "builder1.add_node(\"node_2\",node_2)\n",
        "\n",
        "builder1.add_edge(START,\"node_1\")\n",
        "builder1.add_edge(\"node_1\",\"node_2\")\n",
        "builder1.add_edge(\"node_2\",END)\n",
        "\n",
        "graph1 = builder1.compile()"
      ]
    },
    {
      "cell_type": "code",
      "execution_count": null,
      "metadata": {
        "colab": {
          "base_uri": "https://localhost:8080/"
        },
        "id": "ieMSW6JCOmnJ",
        "outputId": "17aaa1c0-5aee-4e3a-a8bb-57d05fd875a0"
      },
      "outputs": [
        {
          "name": "stdout",
          "output_type": "stream",
          "text": [
            "......Node 1.....\n",
            ".....Node 2......\n"
          ]
        },
        {
          "data": {
            "text/plain": [
              "{'foo': 3}"
            ]
          },
          "execution_count": 32,
          "metadata": {},
          "output_type": "execute_result"
        }
      ],
      "source": [
        "graph1.invoke({\"foo\":1})"
      ]
    },
    {
      "cell_type": "code",
      "execution_count": null,
      "metadata": {
        "id": "ujqzebTOOo4Q"
      },
      "outputs": [],
      "source": [
        "class overall(TypedDict):\n",
        "  question:str\n",
        "  nodes:str\n",
        "  answer:str\n",
        "\n",
        "def thinking(state:overall):\n",
        "  return{\"answer\":\"bye\",\"nodes\":\"His name is Saim\"}\n",
        "def answering(state:overall):\n",
        "  return{\"answer\":\"bye Saim\"}\n",
        "\n",
        "build = StateGraph(overall)\n",
        "\n",
        "build.add_node(\"thinking\",thinking)\n",
        "build.add_node(\"answering\",answering)\n",
        "\n",
        "build.add_edge(START,\"thinking\")\n",
        "build.add_edge(\"thinking\",\"answering\")\n",
        "build.add_edge(\"answering\",END)\n",
        "\n",
        "graphy = build.compile()"
      ]
    },
    {
      "cell_type": "code",
      "execution_count": null,
      "metadata": {
        "colab": {
          "base_uri": "https://localhost:8080/"
        },
        "id": "yPhTsqDaesVO",
        "outputId": "f90b1fdb-163b-46c8-bd80-b4391e3188c0"
      },
      "outputs": [
        {
          "data": {
            "text/plain": [
              "{'question': 'What is your name',\n",
              " 'nodes': 'His name is Saim',\n",
              " 'answer': 'bye Saim'}"
            ]
          },
          "execution_count": 36,
          "metadata": {},
          "output_type": "execute_result"
        }
      ],
      "source": [
        "graphy.invoke({\"question\":\"What is your name\"})"
      ]
    },
    {
      "cell_type": "code",
      "execution_count": null,
      "metadata": {
        "id": "7qI16PR1fIc-"
      },
      "outputs": [],
      "source": [
        "class overall1(BaseModel):\n",
        "  question:str\n",
        "  answer:str\n",
        "  nodes:str\n",
        "\n",
        "class InputState(BaseModel):\n",
        "  question:str\n",
        "\n",
        "class OutputState(BaseModel):\n",
        "  answer:str\n",
        "\n",
        "def thinking_node(state:InputState):\n",
        "  return{\"answer\":\"Bye Bye\",\"nodes\":\"His name is Saim Hassan\"}\n",
        "\n",
        "def answering_node(state:overall1):\n",
        "  return{\"answer\": \"Bye Bye \"+state.question}\n",
        "\n",
        "built = StateGraph(overall1,input = InputState, output = OutputState)\n",
        "\n",
        "built.add_node(\"thinking_node\",thinking_node)\n",
        "built.add_node(\"answering_node\",answering_node)\n",
        "\n",
        "built.add_edge(START,\"thinking_node\")\n",
        "built.add_edge(\"thinking_node\",\"answering_node\")\n",
        "built.add_edge(\"answering_node\",END)\n",
        "\n",
        "graph111 = built.compile()"
      ]
    },
    {
      "cell_type": "code",
      "execution_count": null,
      "metadata": {
        "colab": {
          "base_uri": "https://localhost:8080/"
        },
        "id": "CujYwE0SmMMI",
        "outputId": "36eb93d6-46b6-42da-8a6b-b2a93b12cc83"
      },
      "outputs": [
        {
          "data": {
            "text/plain": [
              "{'answer': 'Bye Bye Saim Akhtar'}"
            ]
          },
          "execution_count": 40,
          "metadata": {},
          "output_type": "execute_result"
        }
      ],
      "source": [
        "graph111.invoke({\"question\":\"Saim Akhtar\"})"
      ]
    },
    {
      "cell_type": "code",
      "execution_count": null,
      "metadata": {
        "colab": {
          "base_uri": "https://localhost:8080/"
        },
        "id": "cVdr9n_3mSF4",
        "outputId": "ead340de-36ea-424e-8239-e7f97a93eec3"
      },
      "outputs": [
        {
          "data": {
            "text/plain": [
              "[HumanMessage(content='I want to know about Galaxy', additional_kwargs={}, response_metadata={}, name='Saim'),\n",
              " AIMessage(content='What you want to know about that', additional_kwargs={}, response_metadata={}, name='AI'),\n",
              " HumanMessage(content='I want to know about the most wierd planet of our galaxy and its facts in 2 lines', additional_kwargs={}, response_metadata={}, name='Saim')]"
            ]
          },
          "execution_count": 59,
          "metadata": {},
          "output_type": "execute_result"
        }
      ],
      "source": [
        "def trim(state:MessagesState):\n",
        "  return{\"messages\":llm.invoke(state[\"messages\"])}\n",
        "\n",
        "msg = [HumanMessage(content=\"I want to know about Galaxy\",name= \"Saim\"),\n",
        "       AIMessage(content=\"What you want to know about that\",name=\"AI\")]\n",
        "msg.append(HumanMessage(content=\"I want to know about the most wierd planet of our galaxy and its facts in 2 lines\",name=\"Saim\"))\n",
        "msg"
      ]
    },
    {
      "cell_type": "code",
      "execution_count": null,
      "metadata": {
        "id": "UhRpI1OPwIz5"
      },
      "outputs": [],
      "source": [
        "building = StateGraph(MessagesState)\n",
        "building.add_node(\"trim\",trim)\n",
        "building.add_edge(START,\"trim\")\n",
        "building.add_edge(\"trim\",END)\n",
        "graphical = building.compile()"
      ]
    },
    {
      "cell_type": "code",
      "execution_count": null,
      "metadata": {
        "id": "0jBCVHtiwiEk"
      },
      "outputs": [],
      "source": [
        "g = graphical.invoke({\"messages\":msg})"
      ]
    },
    {
      "cell_type": "code",
      "execution_count": null,
      "metadata": {
        "colab": {
          "base_uri": "https://localhost:8080/"
        },
        "id": "bTrldeHcwvT8",
        "outputId": "73333a8e-c61b-41d2-84ec-f3d0c8765251"
      },
      "outputs": [
        {
          "name": "stdout",
          "output_type": "stream",
          "text": [
            "================================\u001b[1m Human Message \u001b[0m=================================\n",
            "Name: Saim\n",
            "\n",
            "I want to know about Galaxy\n",
            "==================================\u001b[1m Ai Message \u001b[0m==================================\n",
            "Name: AI\n",
            "\n",
            "What you want to know about that\n",
            "================================\u001b[1m Human Message \u001b[0m=================================\n",
            "Name: Saim\n",
            "\n",
            "I want to know about the most wierd planet of our galaxy and its facts in 2 lines\n",
            "==================================\u001b[1m Ai Message \u001b[0m==================================\n",
            "\n",
            "Defining \"weirdest\" is subjective, but WASP-12b is a strong contender.  This planet is tidally locked to its star, resulting in one side perpetually scorching hot and the other extremely cold, and it's also being slowly consumed by its star.\n"
          ]
        }
      ],
      "source": [
        "import pprint\n",
        "for m in g[\"messages\"]:\n",
        "  m.pretty_print()"
      ]
    },
    {
      "cell_type": "code",
      "execution_count": null,
      "metadata": {
        "colab": {
          "base_uri": "https://localhost:8080/"
        },
        "id": "OqnZPnWVyr57",
        "outputId": "3ff60a2d-5429-48d9-b28d-366029e66ee8"
      },
      "outputs": [
        {
          "name": "stdout",
          "output_type": "stream",
          "text": [
            "{'event': 'on_chain_start', 'data': {'input': {'messages': [HumanMessage(content='I want to know about Galaxy', additional_kwargs={}, response_metadata={}, name='Saim', id='af721c50-07cf-4e3a-81e2-bfe11e4b9391'), AIMessage(content='What you want to know about that', additional_kwargs={}, response_metadata={}, name='AI', id='fa244982-624d-4079-ab9c-67dd04493302'), HumanMessage(content='I want to know about the most wierd planet of our galaxy and its facts in 2 lines', additional_kwargs={}, response_metadata={}, name='Saim', id='4347d263-e16d-4a23-80f0-37fab0e5099a')]}}, 'name': 'LangGraph', 'tags': [], 'run_id': '568b1e42-04d9-49a9-912b-b3eba94e9663', 'metadata': {}, 'parent_ids': []}\n",
            "/n........../n\n",
            "{'event': 'on_chain_start', 'data': {'input': {'messages': [HumanMessage(content='I want to know about Galaxy', additional_kwargs={}, response_metadata={}, name='Saim', id='af721c50-07cf-4e3a-81e2-bfe11e4b9391'), AIMessage(content='What you want to know about that', additional_kwargs={}, response_metadata={}, name='AI', id='fa244982-624d-4079-ab9c-67dd04493302'), HumanMessage(content='I want to know about the most wierd planet of our galaxy and its facts in 2 lines', additional_kwargs={}, response_metadata={}, name='Saim', id='4347d263-e16d-4a23-80f0-37fab0e5099a')]}}, 'name': '__start__', 'tags': ['graph:step:0', 'langsmith:hidden', 'langsmith:hidden'], 'run_id': '11660af4-7576-4080-9ba8-9dd97d199c99', 'metadata': {'langgraph_step': 0, 'langgraph_node': '__start__', 'langgraph_triggers': ['__start__'], 'langgraph_path': ('__pregel_pull', '__start__'), 'langgraph_checkpoint_ns': '__start__:cb92b8a0-3f28-4b44-f286-de412ca592ce'}, 'parent_ids': ['568b1e42-04d9-49a9-912b-b3eba94e9663']}\n",
            "/n........../n\n",
            "{'event': 'on_chain_end', 'data': {'output': {'messages': [HumanMessage(content='I want to know about Galaxy', additional_kwargs={}, response_metadata={}, name='Saim', id='af721c50-07cf-4e3a-81e2-bfe11e4b9391'), AIMessage(content='What you want to know about that', additional_kwargs={}, response_metadata={}, name='AI', id='fa244982-624d-4079-ab9c-67dd04493302'), HumanMessage(content='I want to know about the most wierd planet of our galaxy and its facts in 2 lines', additional_kwargs={}, response_metadata={}, name='Saim', id='4347d263-e16d-4a23-80f0-37fab0e5099a')]}, 'input': {'messages': [HumanMessage(content='I want to know about Galaxy', additional_kwargs={}, response_metadata={}, name='Saim', id='af721c50-07cf-4e3a-81e2-bfe11e4b9391'), AIMessage(content='What you want to know about that', additional_kwargs={}, response_metadata={}, name='AI', id='fa244982-624d-4079-ab9c-67dd04493302'), HumanMessage(content='I want to know about the most wierd planet of our galaxy and its facts in 2 lines', additional_kwargs={}, response_metadata={}, name='Saim', id='4347d263-e16d-4a23-80f0-37fab0e5099a')]}}, 'run_id': '11660af4-7576-4080-9ba8-9dd97d199c99', 'name': '__start__', 'tags': ['graph:step:0', 'langsmith:hidden', 'langsmith:hidden'], 'metadata': {'langgraph_step': 0, 'langgraph_node': '__start__', 'langgraph_triggers': ['__start__'], 'langgraph_path': ('__pregel_pull', '__start__'), 'langgraph_checkpoint_ns': '__start__:cb92b8a0-3f28-4b44-f286-de412ca592ce'}, 'parent_ids': ['568b1e42-04d9-49a9-912b-b3eba94e9663']}\n",
            "/n........../n\n",
            "{'event': 'on_chain_start', 'data': {'input': {'messages': [HumanMessage(content='I want to know about Galaxy', additional_kwargs={}, response_metadata={}, name='Saim', id='af721c50-07cf-4e3a-81e2-bfe11e4b9391'), AIMessage(content='What you want to know about that', additional_kwargs={}, response_metadata={}, name='AI', id='fa244982-624d-4079-ab9c-67dd04493302'), HumanMessage(content='I want to know about the most wierd planet of our galaxy and its facts in 2 lines', additional_kwargs={}, response_metadata={}, name='Saim', id='4347d263-e16d-4a23-80f0-37fab0e5099a')]}}, 'name': 'trim', 'tags': ['graph:step:1'], 'run_id': '15f3adde-272b-4877-a57d-abfdde51f87b', 'metadata': {'langgraph_step': 1, 'langgraph_node': 'trim', 'langgraph_triggers': ['start:trim'], 'langgraph_path': ('__pregel_pull', 'trim'), 'langgraph_checkpoint_ns': 'trim:4b00079c-fd38-38c1-8f32-4b2028805847'}, 'parent_ids': ['568b1e42-04d9-49a9-912b-b3eba94e9663']}\n",
            "/n........../n\n",
            "{'event': 'on_chain_start', 'data': {'input': {'messages': AIMessage(content='Defining \"weirdest\" is subjective, but WASP-12b is a strong contender.  This planet is tidally locked to its star, resulting in one side perpetually scorching hot and the other extremely cold, and it\\'s also being slowly consumed by its star.\\n', additional_kwargs={}, response_metadata={'prompt_feedback': {'block_reason': 0, 'safety_ratings': []}, 'finish_reason': 'STOP', 'safety_ratings': []}, id='run-6db979c8-4218-4e2b-b642-dc4f6eef8f0b-0', usage_metadata={'input_tokens': 35, 'output_tokens': 57, 'total_tokens': 92, 'input_token_details': {'cache_read': 0}})}}, 'name': '_write', 'tags': ['seq:step:2', 'langsmith:hidden'], 'run_id': '2055c30f-bc61-4eac-9819-381d4803dd90', 'metadata': {'langgraph_step': 1, 'langgraph_node': 'trim', 'langgraph_triggers': ['start:trim'], 'langgraph_path': ('__pregel_pull', 'trim'), 'langgraph_checkpoint_ns': 'trim:4b00079c-fd38-38c1-8f32-4b2028805847'}, 'parent_ids': ['568b1e42-04d9-49a9-912b-b3eba94e9663', '15f3adde-272b-4877-a57d-abfdde51f87b']}\n",
            "/n........../n\n",
            "{'event': 'on_chain_end', 'data': {'output': {'messages': AIMessage(content='Defining \"weirdest\" is subjective, but WASP-12b is a strong contender.  This planet is tidally locked to its star, resulting in one side perpetually scorching hot and the other extremely cold, and it\\'s also being slowly consumed by its star.\\n', additional_kwargs={}, response_metadata={'prompt_feedback': {'block_reason': 0, 'safety_ratings': []}, 'finish_reason': 'STOP', 'safety_ratings': []}, id='run-6db979c8-4218-4e2b-b642-dc4f6eef8f0b-0', usage_metadata={'input_tokens': 35, 'output_tokens': 57, 'total_tokens': 92, 'input_token_details': {'cache_read': 0}})}, 'input': {'messages': AIMessage(content='Defining \"weirdest\" is subjective, but WASP-12b is a strong contender.  This planet is tidally locked to its star, resulting in one side perpetually scorching hot and the other extremely cold, and it\\'s also being slowly consumed by its star.\\n', additional_kwargs={}, response_metadata={'prompt_feedback': {'block_reason': 0, 'safety_ratings': []}, 'finish_reason': 'STOP', 'safety_ratings': []}, id='run-6db979c8-4218-4e2b-b642-dc4f6eef8f0b-0', usage_metadata={'input_tokens': 35, 'output_tokens': 57, 'total_tokens': 92, 'input_token_details': {'cache_read': 0}})}}, 'run_id': '2055c30f-bc61-4eac-9819-381d4803dd90', 'name': '_write', 'tags': ['seq:step:2', 'langsmith:hidden'], 'metadata': {'langgraph_step': 1, 'langgraph_node': 'trim', 'langgraph_triggers': ['start:trim'], 'langgraph_path': ('__pregel_pull', 'trim'), 'langgraph_checkpoint_ns': 'trim:4b00079c-fd38-38c1-8f32-4b2028805847'}, 'parent_ids': ['568b1e42-04d9-49a9-912b-b3eba94e9663', '15f3adde-272b-4877-a57d-abfdde51f87b']}\n",
            "/n........../n\n",
            "{'event': 'on_chain_stream', 'run_id': '15f3adde-272b-4877-a57d-abfdde51f87b', 'name': 'trim', 'tags': ['graph:step:1'], 'metadata': {'langgraph_step': 1, 'langgraph_node': 'trim', 'langgraph_triggers': ['start:trim'], 'langgraph_path': ('__pregel_pull', 'trim'), 'langgraph_checkpoint_ns': 'trim:4b00079c-fd38-38c1-8f32-4b2028805847'}, 'data': {'chunk': {'messages': AIMessage(content='Defining \"weirdest\" is subjective, but WASP-12b is a strong contender.  This planet is tidally locked to its star, resulting in one side perpetually scorching hot and the other extremely cold, and it\\'s also being slowly consumed by its star.\\n', additional_kwargs={}, response_metadata={'prompt_feedback': {'block_reason': 0, 'safety_ratings': []}, 'finish_reason': 'STOP', 'safety_ratings': []}, id='run-6db979c8-4218-4e2b-b642-dc4f6eef8f0b-0', usage_metadata={'input_tokens': 35, 'output_tokens': 57, 'total_tokens': 92, 'input_token_details': {'cache_read': 0}})}}, 'parent_ids': ['568b1e42-04d9-49a9-912b-b3eba94e9663']}\n",
            "/n........../n\n",
            "{'event': 'on_chain_end', 'data': {'output': {'messages': AIMessage(content='Defining \"weirdest\" is subjective, but WASP-12b is a strong contender.  This planet is tidally locked to its star, resulting in one side perpetually scorching hot and the other extremely cold, and it\\'s also being slowly consumed by its star.\\n', additional_kwargs={}, response_metadata={'prompt_feedback': {'block_reason': 0, 'safety_ratings': []}, 'finish_reason': 'STOP', 'safety_ratings': []}, id='run-6db979c8-4218-4e2b-b642-dc4f6eef8f0b-0', usage_metadata={'input_tokens': 35, 'output_tokens': 57, 'total_tokens': 92, 'input_token_details': {'cache_read': 0}})}, 'input': {'messages': [HumanMessage(content='I want to know about Galaxy', additional_kwargs={}, response_metadata={}, name='Saim', id='af721c50-07cf-4e3a-81e2-bfe11e4b9391'), AIMessage(content='What you want to know about that', additional_kwargs={}, response_metadata={}, name='AI', id='fa244982-624d-4079-ab9c-67dd04493302'), HumanMessage(content='I want to know about the most wierd planet of our galaxy and its facts in 2 lines', additional_kwargs={}, response_metadata={}, name='Saim', id='4347d263-e16d-4a23-80f0-37fab0e5099a')]}}, 'run_id': '15f3adde-272b-4877-a57d-abfdde51f87b', 'name': 'trim', 'tags': ['graph:step:1'], 'metadata': {'langgraph_step': 1, 'langgraph_node': 'trim', 'langgraph_triggers': ['start:trim'], 'langgraph_path': ('__pregel_pull', 'trim'), 'langgraph_checkpoint_ns': 'trim:4b00079c-fd38-38c1-8f32-4b2028805847'}, 'parent_ids': ['568b1e42-04d9-49a9-912b-b3eba94e9663']}\n",
            "/n........../n\n",
            "{'event': 'on_chain_stream', 'run_id': '568b1e42-04d9-49a9-912b-b3eba94e9663', 'name': 'LangGraph', 'tags': [], 'metadata': {}, 'data': {'chunk': {'trim': {'messages': AIMessage(content='Defining \"weirdest\" is subjective, but WASP-12b is a strong contender.  This planet is tidally locked to its star, resulting in one side perpetually scorching hot and the other extremely cold, and it\\'s also being slowly consumed by its star.\\n', additional_kwargs={}, response_metadata={'prompt_feedback': {'block_reason': 0, 'safety_ratings': []}, 'finish_reason': 'STOP', 'safety_ratings': []}, id='run-6db979c8-4218-4e2b-b642-dc4f6eef8f0b-0', usage_metadata={'input_tokens': 35, 'output_tokens': 57, 'total_tokens': 92, 'input_token_details': {'cache_read': 0}})}}}, 'parent_ids': []}\n",
            "/n........../n\n",
            "{'event': 'on_chain_end', 'data': {'output': {'messages': [HumanMessage(content='I want to know about Galaxy', additional_kwargs={}, response_metadata={}, name='Saim', id='af721c50-07cf-4e3a-81e2-bfe11e4b9391'), AIMessage(content='What you want to know about that', additional_kwargs={}, response_metadata={}, name='AI', id='fa244982-624d-4079-ab9c-67dd04493302'), HumanMessage(content='I want to know about the most wierd planet of our galaxy and its facts in 2 lines', additional_kwargs={}, response_metadata={}, name='Saim', id='4347d263-e16d-4a23-80f0-37fab0e5099a'), AIMessage(content='Defining \"weirdest\" is subjective, but WASP-12b is a strong contender.  This planet is tidally locked to its star, resulting in one side perpetually scorching hot and the other extremely cold, and it\\'s also being slowly consumed by its star.\\n', additional_kwargs={}, response_metadata={'prompt_feedback': {'block_reason': 0, 'safety_ratings': []}, 'finish_reason': 'STOP', 'safety_ratings': []}, id='run-6db979c8-4218-4e2b-b642-dc4f6eef8f0b-0', usage_metadata={'input_tokens': 35, 'output_tokens': 57, 'total_tokens': 92, 'input_token_details': {'cache_read': 0}})]}}, 'run_id': '568b1e42-04d9-49a9-912b-b3eba94e9663', 'name': 'LangGraph', 'tags': [], 'metadata': {}, 'parent_ids': []}\n",
            "/n........../n\n"
          ]
        }
      ],
      "source": [
        "async for m in graphical.astream_events({\"messages\":msg},version=\"v2\"):\n",
        "  print(m)\n",
        "  print(\"/n........../n\")"
      ]
    },
    {
      "cell_type": "code",
      "execution_count": null,
      "metadata": {
        "id": "agsDKDZIzYLE"
      },
      "outputs": [],
      "source": [
        "from langchain_core.messages import RemoveMessage\n",
        "def filter_msg(state:MessagesState):\n",
        "  delete_msg = [RemoveMessage(id=m.id) for m in state[\"messages\"][:-3]]\n",
        "  print(delete_msg)\n",
        "  return{\"messages\":delete_msg}"
      ]
    },
    {
      "cell_type": "code",
      "execution_count": null,
      "metadata": {
        "id": "kd0AC2XU8_72"
      },
      "outputs": [],
      "source": [
        "def node(state:MessagesState):\n",
        "  return{\"messages\":llm.invoke(state[\"messages\"])}\n",
        "\n",
        "buildy = StateGraph(state_schema=MessagesState)\n",
        "\n",
        "buildy.add_node(\"filter_msg\",filter_msg)\n",
        "buildy.add_node(\"node\",node)\n",
        "\n",
        "buildy.add_edge(START,\"filter_msg\")\n",
        "buildy.add_edge(\"filter_msg\",\"node\")\n",
        "buildy.add_edge(\"node\",END)\n",
        "\n",
        "graph1111 = buildy.compile()"
      ]
    },
    {
      "cell_type": "code",
      "execution_count": null,
      "metadata": {
        "colab": {
          "base_uri": "https://localhost:8080/"
        },
        "id": "T8nH3i0d9naF",
        "outputId": "ebb1de3f-4892-45c9-d849-608963a504c9"
      },
      "outputs": [
        {
          "name": "stdout",
          "output_type": "stream",
          "text": [
            "[RemoveMessage(content='', additional_kwargs={}, response_metadata={}, id='5ef605b0-cc8f-4d5f-9f3a-8a32ffb9be53'), RemoveMessage(content='', additional_kwargs={}, response_metadata={}, id='9f0e09a4-7874-4f6d-8102-34bcf2864bd5')]\n"
          ]
        }
      ],
      "source": [
        "t= graph1111.invoke({\"messages\":[HumanMessage(content=\"I want to study about oceans\"),\n",
        "                              AIMessage(content=\"What can I help you with it\"),\n",
        "                              HumanMessage(content=\"I want to know about Green Turtles\"),\n",
        "                              AIMessage(content=\"What you want to know about that\"),\n",
        "                              HumanMessage(content=\"I want to know how to recognize them and where they are found\")]})"
      ]
    },
    {
      "cell_type": "code",
      "execution_count": null,
      "metadata": {
        "colab": {
          "base_uri": "https://localhost:8080/"
        },
        "id": "KZ_nBtw1-aWq",
        "outputId": "54503963-7a37-443d-899f-b3c866b05eed"
      },
      "outputs": [
        {
          "name": "stdout",
          "output_type": "stream",
          "text": [
            "================================\u001b[1m Human Message \u001b[0m=================================\n",
            "\n",
            "I want to know about Green Turtles\n",
            "==================================\u001b[1m Ai Message \u001b[0m==================================\n",
            "\n",
            "What you want to know about that\n",
            "================================\u001b[1m Human Message \u001b[0m=================================\n",
            "\n",
            "I want to know how to recognize them and where they are found\n",
            "==================================\u001b[1m Ai Message \u001b[0m==================================\n",
            "\n",
            "Green sea turtles are easily recognizable, though there can be some variation depending on age and location.  Here's how to identify them and where they're found:\n",
            "\n",
            "**How to Recognize Green Sea Turtles:**\n",
            "\n",
            "* **Shell (Carapace):**  Their carapace is typically heart-shaped and relatively smooth compared to other sea turtle species.  The color is olive-green to dark brown, often with streaks or blotches of yellow or tan.  They don't have the prominent ridges or saw-toothed edges found on some other species.  The scutes (scales) on their shell are relatively large.\n",
            "\n",
            "* **Flippers:** They have large, paddle-like flippers, ideal for swimming.  Their front flippers are particularly large.\n",
            "\n",
            "* **Head:** Their head is relatively small compared to their body size.\n",
            "\n",
            "* **Color:**  While their shell is olive-green to dark brown, their skin can be a more vibrant green, especially on younger turtles.  This is where the \"green\" in their name comes from – it refers to the color of their fat, not necessarily their shell.\n",
            "\n",
            "* **Size:**  They are one of the largest sea turtle species, with adults reaching carapace lengths of up to 4 feet (1.2 meters) and weighing up to 700 pounds (320 kilograms).\n",
            "\n",
            "\n",
            "**Where Green Sea Turtles Are Found:**\n",
            "\n",
            "Green sea turtles have a wide distribution, inhabiting tropical and subtropical oceans around the world.  They are found in:\n",
            "\n",
            "* **Atlantic Ocean:**  Caribbean Sea, Gulf of Mexico,  coastal waters of the eastern United States,  West Africa, and the Mediterranean Sea.\n",
            "\n",
            "* **Pacific Ocean:**  Coastal waters of Mexico, Central and South America,  Hawaii, Australia,  Southeast Asia, and the Indian Ocean.\n",
            "\n",
            "* **Indian Ocean:**  Coastal waters of Africa, India, Southeast Asia, and Australia.\n",
            "\n",
            "It's important to note that while they have a wide range, they are not uniformly distributed.  They prefer specific habitats within these regions, including:\n",
            "\n",
            "* **Coastal areas:**  They often frequent shallow, sheltered bays, lagoons, estuaries, and seagrass beds.\n",
            "\n",
            "* **Coral reefs:**  They utilize coral reefs for foraging and shelter.\n",
            "\n",
            "* **Open ocean:**  They can also be found in open ocean waters, particularly during migration.\n",
            "\n",
            "\n",
            "Remember that observing green sea turtles should be done responsibly and from a distance to avoid disturbing them or their habitat.  Never touch or harass them.\n"
          ]
        }
      ],
      "source": [
        "for m in t[\"messages\"]:\n",
        "  m.pretty_print()"
      ]
    },
    {
      "cell_type": "code",
      "execution_count": null,
      "metadata": {
        "id": "2jTjmpL4-x9l"
      },
      "outputs": [],
      "source": [
        "def mtrim(state:MessagesState):\n",
        "  return{\"messages\":llm.invoke(state[\"messages\"][-1:])}\n",
        "\n",
        "buildy1 = StateGraph(state_schema=MessagesState)\n",
        "\n",
        "buildy1.add_node(\"mtrim\",mtrim)\n",
        "buildy1.add_edge(START,\"mtrim\")\n",
        "buildy1.add_edge(\"mtrim\",END)\n",
        "\n",
        "gig = buildy1.compile()\n",
        "\n",
        "msg = [HumanMessage(content=\"I want to study about oceans\"),\n",
        "      AIMessage(content=\"What can I help you with it\"),\n",
        "      HumanMessage(content=\"I want to know about Green Turtles\"),\n",
        "      AIMessage(content=\"What you want to know about that\"),\n",
        "      HumanMessage(content=\"I want to know how to recognize them and where they are found\")]\n",
        "\n",
        "msg.append(t[\"messages\"][-1])\n",
        "msg.append(HumanMessage(content=\"Tell me about whales as well\"))\n",
        "\n"
      ]
    },
    {
      "cell_type": "code",
      "execution_count": null,
      "metadata": {
        "colab": {
          "base_uri": "https://localhost:8080/"
        },
        "id": "5_mtuKmFFJVl",
        "outputId": "a4644e68-0d11-47cb-d72c-fe59fb1f6b67"
      },
      "outputs": [
        {
          "name": "stdout",
          "output_type": "stream",
          "text": [
            "================================\u001b[1m Human Message \u001b[0m=================================\n",
            "\n",
            "I want to study about oceans\n",
            "==================================\u001b[1m Ai Message \u001b[0m==================================\n",
            "\n",
            "What can I help you with it\n",
            "================================\u001b[1m Human Message \u001b[0m=================================\n",
            "\n",
            "I want to know about Green Turtles\n",
            "==================================\u001b[1m Ai Message \u001b[0m==================================\n",
            "\n",
            "What you want to know about that\n",
            "================================\u001b[1m Human Message \u001b[0m=================================\n",
            "\n",
            "I want to know how to recognize them and where they are found\n",
            "==================================\u001b[1m Ai Message \u001b[0m==================================\n",
            "\n",
            "Green sea turtles are easily recognizable, though there can be some variation depending on age and location.  Here's how to identify them and where they're found:\n",
            "\n",
            "**How to Recognize Green Sea Turtles:**\n",
            "\n",
            "* **Shell (Carapace):**  Their carapace is typically heart-shaped and relatively smooth compared to other sea turtle species.  The color is olive-green to dark brown, often with streaks or blotches of yellow or tan.  They don't have the prominent ridges or saw-toothed edges found on some other species.  The scutes (scales) on their shell are relatively large.\n",
            "\n",
            "* **Flippers:** They have large, paddle-like flippers, ideal for swimming.  Their front flippers are particularly large.\n",
            "\n",
            "* **Head:** Their head is relatively small compared to their body size.\n",
            "\n",
            "* **Color:**  While their shell is olive-green to dark brown, their skin can be a more vibrant green, especially on younger turtles.  This is where the \"green\" in their name comes from – it refers to the color of their fat, not necessarily their shell.\n",
            "\n",
            "* **Size:**  They are one of the largest sea turtle species, with adults reaching carapace lengths of up to 4 feet (1.2 meters) and weighing up to 700 pounds (320 kilograms).\n",
            "\n",
            "\n",
            "**Where Green Sea Turtles Are Found:**\n",
            "\n",
            "Green sea turtles have a wide distribution, inhabiting tropical and subtropical oceans around the world.  They are found in:\n",
            "\n",
            "* **Atlantic Ocean:**  Caribbean Sea, Gulf of Mexico,  coastal waters of the eastern United States,  West Africa, and the Mediterranean Sea.\n",
            "\n",
            "* **Pacific Ocean:**  Coastal waters of Mexico, Central and South America,  Hawaii, Australia,  Southeast Asia, and the Indian Ocean.\n",
            "\n",
            "* **Indian Ocean:**  Coastal waters of Africa, India, Southeast Asia, and Australia.\n",
            "\n",
            "It's important to note that while they have a wide range, they are not uniformly distributed.  They prefer specific habitats within these regions, including:\n",
            "\n",
            "* **Coastal areas:**  They often frequent shallow, sheltered bays, lagoons, estuaries, and seagrass beds.\n",
            "\n",
            "* **Coral reefs:**  They utilize coral reefs for foraging and shelter.\n",
            "\n",
            "* **Open ocean:**  They can also be found in open ocean waters, particularly during migration.\n",
            "\n",
            "\n",
            "Remember that observing green sea turtles should be done responsibly and from a distance to avoid disturbing them or their habitat.  Never touch or harass them.\n",
            "================================\u001b[1m Human Message \u001b[0m=================================\n",
            "\n",
            "Tell me about whales as well\n"
          ]
        }
      ],
      "source": [
        "for m in msg:\n",
        "  m.pretty_print()"
      ]
    },
    {
      "cell_type": "code",
      "execution_count": null,
      "metadata": {
        "id": "hTovSqccFWmQ"
      },
      "outputs": [],
      "source": [
        "rt = gig.invoke({\"messages\":msg})"
      ]
    },
    {
      "cell_type": "code",
      "execution_count": null,
      "metadata": {
        "colab": {
          "base_uri": "https://localhost:8080/"
        },
        "id": "yOElaph1F5il",
        "outputId": "fc9b0117-8e7a-43f4-90ae-fbcd66d16fd5"
      },
      "outputs": [
        {
          "name": "stdout",
          "output_type": "stream",
          "text": [
            "================================\u001b[1m Human Message \u001b[0m=================================\n",
            "\n",
            "I want to study about oceans\n",
            "==================================\u001b[1m Ai Message \u001b[0m==================================\n",
            "\n",
            "What can I help you with it\n",
            "================================\u001b[1m Human Message \u001b[0m=================================\n",
            "\n",
            "I want to know about Green Turtles\n",
            "==================================\u001b[1m Ai Message \u001b[0m==================================\n",
            "\n",
            "What you want to know about that\n",
            "================================\u001b[1m Human Message \u001b[0m=================================\n",
            "\n",
            "I want to know how to recognize them and where they are found\n",
            "==================================\u001b[1m Ai Message \u001b[0m==================================\n",
            "\n",
            "Green sea turtles are easily recognizable, though there can be some variation depending on age and location.  Here's how to identify them and where they're found:\n",
            "\n",
            "**How to Recognize Green Sea Turtles:**\n",
            "\n",
            "* **Shell (Carapace):**  Their carapace is typically heart-shaped and relatively smooth compared to other sea turtle species.  The color is olive-green to dark brown, often with streaks or blotches of yellow or tan.  They don't have the prominent ridges or saw-toothed edges found on some other species.  The scutes (scales) on their shell are relatively large.\n",
            "\n",
            "* **Flippers:** They have large, paddle-like flippers, ideal for swimming.  Their front flippers are particularly large.\n",
            "\n",
            "* **Head:** Their head is relatively small compared to their body size.\n",
            "\n",
            "* **Color:**  While their shell is olive-green to dark brown, their skin can be a more vibrant green, especially on younger turtles.  This is where the \"green\" in their name comes from – it refers to the color of their fat, not necessarily their shell.\n",
            "\n",
            "* **Size:**  They are one of the largest sea turtle species, with adults reaching carapace lengths of up to 4 feet (1.2 meters) and weighing up to 700 pounds (320 kilograms).\n",
            "\n",
            "\n",
            "**Where Green Sea Turtles Are Found:**\n",
            "\n",
            "Green sea turtles have a wide distribution, inhabiting tropical and subtropical oceans around the world.  They are found in:\n",
            "\n",
            "* **Atlantic Ocean:**  Caribbean Sea, Gulf of Mexico,  coastal waters of the eastern United States,  West Africa, and the Mediterranean Sea.\n",
            "\n",
            "* **Pacific Ocean:**  Coastal waters of Mexico, Central and South America,  Hawaii, Australia,  Southeast Asia, and the Indian Ocean.\n",
            "\n",
            "* **Indian Ocean:**  Coastal waters of Africa, India, Southeast Asia, and Australia.\n",
            "\n",
            "It's important to note that while they have a wide range, they are not uniformly distributed.  They prefer specific habitats within these regions, including:\n",
            "\n",
            "* **Coastal areas:**  They often frequent shallow, sheltered bays, lagoons, estuaries, and seagrass beds.\n",
            "\n",
            "* **Coral reefs:**  They utilize coral reefs for foraging and shelter.\n",
            "\n",
            "* **Open ocean:**  They can also be found in open ocean waters, particularly during migration.\n",
            "\n",
            "\n",
            "Remember that observing green sea turtles should be done responsibly and from a distance to avoid disturbing them or their habitat.  Never touch or harass them.\n",
            "================================\u001b[1m Human Message \u001b[0m=================================\n",
            "\n",
            "Tell me about whales as well\n",
            "==================================\u001b[1m Ai Message \u001b[0m==================================\n",
            "\n",
            "Whales are a group of fully aquatic marine mammals.  They're incredibly diverse, ranging in size from the diminutive dwarf minke whale (around 6 meters long) to the colossal blue whale (up to 33 meters long, the largest animal on Earth).  They're divided into two suborders:\n",
            "\n",
            "* **Odontocetes (toothed whales):** This group includes dolphins, porpoises, and various whale species.  They have teeth and use echolocation (emitting sounds and interpreting the echoes) to navigate and hunt.  Examples include:\n",
            "    * **Dolphins:** Known for their intelligence and social behavior.\n",
            "    * **Porpoises:** Smaller and more streamlined than dolphins.\n",
            "    * **Sperm whales:** Famous for their large heads containing spermaceti organs (the function of which is still debated).\n",
            "    * **Narwhals:** Possessing a long, spiraled tusk (actually an elongated tooth).\n",
            "    * **Orcas (Killer whales):** Highly intelligent apex predators.\n",
            "\n",
            "* **Mysticetes (baleen whales):** These whales lack teeth and instead possess baleen plates in their mouths.  Baleen is a filter-feeding apparatus made of keratin (the same material as human fingernails) that allows them to strain krill, small fish, and plankton from the water. Examples include:\n",
            "    * **Blue whales:** The largest animals on Earth.\n",
            "    * **Humpback whales:** Known for their spectacular breaching and singing.\n",
            "    * **Gray whales:** Undertake the longest mammal migration annually.\n",
            "    * **Right whales:** Historically heavily hunted, leading to severely depleted populations.\n",
            "    * **Fin whales:** Second largest whale species.\n",
            "\n",
            "\n",
            "**Key characteristics of whales:**\n",
            "\n",
            "* **Warm-blooded:** Unlike fish, whales maintain a constant internal body temperature.\n",
            "* **Breathe air:** They must surface regularly to breathe.\n",
            "* **Give birth to live young:** They nurse their calves with milk.\n",
            "* **Highly intelligent:** Many whale species exhibit complex social structures, communication, and problem-solving skills.\n",
            "* **Global distribution:** Found in all oceans worldwide, though their distribution varies depending on the species and season.\n",
            "* **Facing threats:**  Whales face numerous threats, including:\n",
            "    * **Entanglement in fishing gear:** A major cause of injury and death.\n",
            "    * **Ship strikes:** Collisions with vessels.\n",
            "    * **Noise pollution:**  Disrupts their communication and navigation.\n",
            "    * **Climate change:**  Impacts their food sources and habitats.\n",
            "    * **Pollution:**  Chemical pollutants accumulate in their bodies.\n",
            "\n",
            "\n",
            "Whales play a crucial role in the marine ecosystem, influencing nutrient cycling and the health of ocean environments.  Their conservation is vital for maintaining the balance of these ecosystems.  Learning more about these magnificent creatures is essential to ensuring their survival for future generations.\n"
          ]
        }
      ],
      "source": [
        "for m in rt[\"messages\"]:\n",
        "  m.pretty_print()"
      ]
    },
    {
      "cell_type": "code",
      "execution_count": null,
      "metadata": {
        "id": "fUOS0a_VF7g8"
      },
      "outputs": [],
      "source": [
        "from langchain_core.messages import trim_messages"
      ]
    },
    {
      "cell_type": "code",
      "execution_count": null,
      "metadata": {
        "id": "WJwvfiBHKHGu"
      },
      "outputs": [],
      "source": [
        "def n1(state:MessagesState):\n",
        "  token_counter = ChatGoogleGenerativeAI(model=\"gemini-1.5-flash\")\n",
        "  messages = trim_messages(\n",
        "      state[\"messages\"],\n",
        "      max_tokens=100,\n",
        "      strategy = \"last\",\n",
        "      token_counter = token_counter,\n",
        "      allow_partial = False\n",
        "  )\n",
        "  print(\"Token count before trimming:\", token_counter.count_tokens(state[\"messages\"]))\n",
        "  return{\"messages\":llm.invoke(messages)}\n",
        "\n",
        "bully = StateGraph(MessagesState)\n",
        "\n",
        "bully.add_node(\"n1\",n1)\n",
        "bully.add_edge(START,\"n1\")\n",
        "bully.add_edge(\"n1\",END)\n",
        "\n",
        "graph000 = bully.compile()"
      ]
    },
    {
      "cell_type": "code",
      "execution_count": null,
      "metadata": {
        "colab": {
          "base_uri": "https://localhost:8080/"
        },
        "id": "mmH6KwQuLHX7",
        "outputId": "66d9901e-baa0-46fb-e11b-68a8816c7594"
      },
      "outputs": [
        {
          "data": {
            "text/plain": [
              "[HumanMessage(content='I want to study about oceans', additional_kwargs={}, response_metadata={}, id='a32a1a9f-edd5-450d-85df-298afa0a975e'),\n",
              " AIMessage(content='What can I help you with it', additional_kwargs={}, response_metadata={}, id='8d7b8033-6b45-4b95-bd33-3b598db0fd34'),\n",
              " HumanMessage(content='I want to know about Green Turtles', additional_kwargs={}, response_metadata={}, id='05da3b63-bce4-46df-970e-6f9a5d840d35'),\n",
              " AIMessage(content='What you want to know about that', additional_kwargs={}, response_metadata={}, id='7e5c0a00-e451-4f81-a26b-2ac022415a1c'),\n",
              " HumanMessage(content='I want to know how to recognize them and where they are found', additional_kwargs={}, response_metadata={}, id='121470eb-0b19-4a6f-bc15-872d49209123'),\n",
              " AIMessage(content='Green sea turtles are easily recognizable, though there can be some variation depending on age and location.  Here\\'s how to identify them and where they\\'re found:\\n\\n**How to Recognize Green Sea Turtles:**\\n\\n* **Shell (Carapace):**  Their carapace is typically heart-shaped and relatively smooth compared to other sea turtle species.  The color is olive-green to dark brown, often with streaks or blotches of yellow or tan.  They don\\'t have the prominent ridges or saw-toothed edges found on some other species.  The scutes (scales) on their shell are relatively large.\\n\\n* **Flippers:** They have large, paddle-like flippers, ideal for swimming.  Their front flippers are particularly large.\\n\\n* **Head:** Their head is relatively small compared to their body size.\\n\\n* **Color:**  While their shell is olive-green to dark brown, their skin can be a more vibrant green, especially on younger turtles.  This is where the \"green\" in their name comes from – it refers to the color of their fat, not necessarily their shell.\\n\\n* **Size:**  They are one of the largest sea turtle species, with adults reaching carapace lengths of up to 4 feet (1.2 meters) and weighing up to 700 pounds (320 kilograms).\\n\\n\\n**Where Green Sea Turtles Are Found:**\\n\\nGreen sea turtles have a wide distribution, inhabiting tropical and subtropical oceans around the world.  They are found in:\\n\\n* **Atlantic Ocean:**  Caribbean Sea, Gulf of Mexico,  coastal waters of the eastern United States,  West Africa, and the Mediterranean Sea.\\n\\n* **Pacific Ocean:**  Coastal waters of Mexico, Central and South America,  Hawaii, Australia,  Southeast Asia, and the Indian Ocean.\\n\\n* **Indian Ocean:**  Coastal waters of Africa, India, Southeast Asia, and Australia.\\n\\nIt\\'s important to note that while they have a wide range, they are not uniformly distributed.  They prefer specific habitats within these regions, including:\\n\\n* **Coastal areas:**  They often frequent shallow, sheltered bays, lagoons, estuaries, and seagrass beds.\\n\\n* **Coral reefs:**  They utilize coral reefs for foraging and shelter.\\n\\n* **Open ocean:**  They can also be found in open ocean waters, particularly during migration.\\n\\n\\nRemember that observing green sea turtles should be done responsibly and from a distance to avoid disturbing them or their habitat.  Never touch or harass them.\\n', additional_kwargs={}, response_metadata={'prompt_feedback': {'block_reason': 0, 'safety_ratings': []}, 'finish_reason': 'STOP', 'safety_ratings': []}, id='run-fa4fd8ff-b6af-4352-b36b-8238b3560d75-0', usage_metadata={'input_tokens': 30, 'output_tokens': 519, 'total_tokens': 549, 'input_token_details': {'cache_read': 0}}),\n",
              " HumanMessage(content='Tell me about whales as well', additional_kwargs={}, response_metadata={}, id='4d203821-64bf-4ef7-8c3b-54fd0f8443f8')]"
            ]
          },
          "execution_count": 85,
          "metadata": {},
          "output_type": "execute_result"
        }
      ],
      "source": [
        "msg"
      ]
    },
    {
      "cell_type": "code",
      "execution_count": null,
      "metadata": {
        "id": "dSNgdWzZLNt5"
      },
      "outputs": [],
      "source": [
        "msg.append(rt[\"messages\"][-1])\n",
        "msg.append(HumanMessage(content=\"Tell me about polar bears as well\"))"
      ]
    },
    {
      "cell_type": "code",
      "execution_count": null,
      "metadata": {
        "colab": {
          "base_uri": "https://localhost:8080/"
        },
        "id": "jIuwvb1tLeDE",
        "outputId": "1e199433-3fc7-48b4-ede4-4f6630b74c6e"
      },
      "outputs": [
        {
          "name": "stdout",
          "output_type": "stream",
          "text": [
            "================================\u001b[1m Human Message \u001b[0m=================================\n",
            "\n",
            "I want to study about oceans\n",
            "==================================\u001b[1m Ai Message \u001b[0m==================================\n",
            "\n",
            "What can I help you with it\n",
            "================================\u001b[1m Human Message \u001b[0m=================================\n",
            "\n",
            "I want to know about Green Turtles\n",
            "==================================\u001b[1m Ai Message \u001b[0m==================================\n",
            "\n",
            "What you want to know about that\n",
            "================================\u001b[1m Human Message \u001b[0m=================================\n",
            "\n",
            "I want to know how to recognize them and where they are found\n",
            "==================================\u001b[1m Ai Message \u001b[0m==================================\n",
            "\n",
            "Green sea turtles are easily recognizable, though there can be some variation depending on age and location.  Here's how to identify them and where they're found:\n",
            "\n",
            "**How to Recognize Green Sea Turtles:**\n",
            "\n",
            "* **Shell (Carapace):**  Their carapace is typically heart-shaped and relatively smooth compared to other sea turtle species.  The color is olive-green to dark brown, often with streaks or blotches of yellow or tan.  They don't have the prominent ridges or saw-toothed edges found on some other species.  The scutes (scales) on their shell are relatively large.\n",
            "\n",
            "* **Flippers:** They have large, paddle-like flippers, ideal for swimming.  Their front flippers are particularly large.\n",
            "\n",
            "* **Head:** Their head is relatively small compared to their body size.\n",
            "\n",
            "* **Color:**  While their shell is olive-green to dark brown, their skin can be a more vibrant green, especially on younger turtles.  This is where the \"green\" in their name comes from – it refers to the color of their fat, not necessarily their shell.\n",
            "\n",
            "* **Size:**  They are one of the largest sea turtle species, with adults reaching carapace lengths of up to 4 feet (1.2 meters) and weighing up to 700 pounds (320 kilograms).\n",
            "\n",
            "\n",
            "**Where Green Sea Turtles Are Found:**\n",
            "\n",
            "Green sea turtles have a wide distribution, inhabiting tropical and subtropical oceans around the world.  They are found in:\n",
            "\n",
            "* **Atlantic Ocean:**  Caribbean Sea, Gulf of Mexico,  coastal waters of the eastern United States,  West Africa, and the Mediterranean Sea.\n",
            "\n",
            "* **Pacific Ocean:**  Coastal waters of Mexico, Central and South America,  Hawaii, Australia,  Southeast Asia, and the Indian Ocean.\n",
            "\n",
            "* **Indian Ocean:**  Coastal waters of Africa, India, Southeast Asia, and Australia.\n",
            "\n",
            "It's important to note that while they have a wide range, they are not uniformly distributed.  They prefer specific habitats within these regions, including:\n",
            "\n",
            "* **Coastal areas:**  They often frequent shallow, sheltered bays, lagoons, estuaries, and seagrass beds.\n",
            "\n",
            "* **Coral reefs:**  They utilize coral reefs for foraging and shelter.\n",
            "\n",
            "* **Open ocean:**  They can also be found in open ocean waters, particularly during migration.\n",
            "\n",
            "\n",
            "Remember that observing green sea turtles should be done responsibly and from a distance to avoid disturbing them or their habitat.  Never touch or harass them.\n",
            "================================\u001b[1m Human Message \u001b[0m=================================\n",
            "\n",
            "Tell me about whales as well\n",
            "==================================\u001b[1m Ai Message \u001b[0m==================================\n",
            "\n",
            "Whales are a group of fully aquatic marine mammals.  They're incredibly diverse, ranging in size from the diminutive dwarf minke whale (around 6 meters long) to the colossal blue whale (up to 33 meters long, the largest animal on Earth).  They're divided into two suborders:\n",
            "\n",
            "* **Odontocetes (toothed whales):** This group includes dolphins, porpoises, and various whale species.  They have teeth and use echolocation (emitting sounds and interpreting the echoes) to navigate and hunt.  Examples include:\n",
            "    * **Dolphins:** Known for their intelligence and social behavior.\n",
            "    * **Porpoises:** Smaller and more streamlined than dolphins.\n",
            "    * **Sperm whales:** Famous for their large heads containing spermaceti organs (the function of which is still debated).\n",
            "    * **Narwhals:** Possessing a long, spiraled tusk (actually an elongated tooth).\n",
            "    * **Orcas (Killer whales):** Highly intelligent apex predators.\n",
            "\n",
            "* **Mysticetes (baleen whales):** These whales lack teeth and instead possess baleen plates in their mouths.  Baleen is a filter-feeding apparatus made of keratin (the same material as human fingernails) that allows them to strain krill, small fish, and plankton from the water. Examples include:\n",
            "    * **Blue whales:** The largest animals on Earth.\n",
            "    * **Humpback whales:** Known for their spectacular breaching and singing.\n",
            "    * **Gray whales:** Undertake the longest mammal migration annually.\n",
            "    * **Right whales:** Historically heavily hunted, leading to severely depleted populations.\n",
            "    * **Fin whales:** Second largest whale species.\n",
            "\n",
            "\n",
            "**Key characteristics of whales:**\n",
            "\n",
            "* **Warm-blooded:** Unlike fish, whales maintain a constant internal body temperature.\n",
            "* **Breathe air:** They must surface regularly to breathe.\n",
            "* **Give birth to live young:** They nurse their calves with milk.\n",
            "* **Highly intelligent:** Many whale species exhibit complex social structures, communication, and problem-solving skills.\n",
            "* **Global distribution:** Found in all oceans worldwide, though their distribution varies depending on the species and season.\n",
            "* **Facing threats:**  Whales face numerous threats, including:\n",
            "    * **Entanglement in fishing gear:** A major cause of injury and death.\n",
            "    * **Ship strikes:** Collisions with vessels.\n",
            "    * **Noise pollution:**  Disrupts their communication and navigation.\n",
            "    * **Climate change:**  Impacts their food sources and habitats.\n",
            "    * **Pollution:**  Chemical pollutants accumulate in their bodies.\n",
            "\n",
            "\n",
            "Whales play a crucial role in the marine ecosystem, influencing nutrient cycling and the health of ocean environments.  Their conservation is vital for maintaining the balance of these ecosystems.  Learning more about these magnificent creatures is essential to ensuring their survival for future generations.\n",
            "================================\u001b[1m Human Message \u001b[0m=================================\n",
            "\n",
            "Tell me about polar bears as well\n"
          ]
        }
      ],
      "source": [
        "for m in msg:\n",
        "  m.pretty_print()"
      ]
    },
    {
      "cell_type": "markdown",
      "source": [
        "**LangSmith Integration**\n",
        "\n"
      ],
      "metadata": {
        "id": "TQRsLZZimR0A"
      }
    },
    {
      "cell_type": "code",
      "execution_count": null,
      "metadata": {
        "id": "2v1pXLOP8QHq",
        "colab": {
          "base_uri": "https://localhost:8080/"
        },
        "outputId": "bc0b3739-8b1c-4f3e-8456-86bb3e664b10"
      },
      "outputs": [
        {
          "output_type": "stream",
          "name": "stdout",
          "text": [
            "env: LANGCHAIN_API_KEY=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\n"
          ]
        }
      ],
      "source": [
        "import os\n",
        "%env LANGCHAIN_API_KEY = {userdata.get('LANGSMITH_API_KEY')}\n",
        "os.environ[\"LANGCHAIN_TRACING_V2\"] = \"true\"\n",
        "os.environ[\"LANGCHAIN_PROJECT\"] = \"langchain-academy-111\""
      ]
    },
    {
      "cell_type": "code",
      "source": [
        "llm.invoke([HumanMessage(content=\"Hi , How are you !\")])"
      ],
      "metadata": {
        "colab": {
          "base_uri": "https://localhost:8080/"
        },
        "id": "f23FJTUfM9Oi",
        "outputId": "c26cd742-232b-431b-feb4-2a61f25e7192"
      },
      "execution_count": null,
      "outputs": [
        {
          "output_type": "execute_result",
          "data": {
            "text/plain": [
              "AIMessage(content=\"I'm doing well, thank you for asking!  How are you today?\\n\", additional_kwargs={}, response_metadata={'prompt_feedback': {'block_reason': 0, 'safety_ratings': []}, 'finish_reason': 'STOP', 'safety_ratings': []}, id='run-9622fb48-e5f2-4e5d-87b8-e835dd8c960f-0', usage_metadata={'input_tokens': 7, 'output_tokens': 18, 'total_tokens': 25, 'input_token_details': {'cache_read': 0}})"
            ]
          },
          "metadata": {},
          "execution_count": 24
        }
      ]
    },
    {
      "cell_type": "code",
      "source": [
        "class State(MessagesState):\n",
        "  summary : str\n",
        "\n",
        "def node_llm_call(state:State)->State:\n",
        "  summary = state.get(\"summary\",\"\")\n",
        "  if summary:\n",
        "    system_msg = f\"Summary of the earlier conversation : {summary}\"\n",
        "    messages = [SystemMessage(content=system_msg)]+ state[\"messages\"]\n",
        "  else:\n",
        "    messages = state[\"messages\"]\n",
        "  response = llm.invoke(messages)\n",
        "  return {\"messages\":response}"
      ],
      "metadata": {
        "id": "7Thwf3VvN0tX"
      },
      "execution_count": null,
      "outputs": []
    },
    {
      "cell_type": "code",
      "source": [
        "def node_summary(state:State)-> State:\n",
        "  summary = state.get(\"summary\",\"\")\n",
        "  if summary:\n",
        "    system_msg = f\"\"\"This is the summary of the conversation upto date : {summary}\n",
        "    Extend the summary by taking into account the new messages above\n",
        "    \"\"\"\n",
        "  else:\n",
        "    system_msg = \"Create a summary of the conversation messages above\"\n",
        "  messages = state[\"messages\"] + [HumanMessage(content=system_msg)]\n",
        "  response = llm.invoke(messages)\n",
        "\n",
        "  delete_msg = [RemoveMessage(id=m.id) for m in state[\"messages\"][:-2]]\n",
        "  return {\"summary\":response.content,\"messages\":delete_msg}"
      ],
      "metadata": {
        "id": "hF5PVJK4RCFd"
      },
      "execution_count": null,
      "outputs": []
    },
    {
      "cell_type": "code",
      "source": [
        "def should_continue(state:State)->State:\n",
        "  messages = state[\"messages\"]\n",
        "  if len(messages) > 6 :\n",
        "    return \"node_summary\"\n",
        "  else :\n",
        "    return END"
      ],
      "metadata": {
        "id": "KtNYs8wiUZwX"
      },
      "execution_count": null,
      "outputs": []
    },
    {
      "cell_type": "code",
      "source": [
        "builder = StateGraph(state_schema=State)\n",
        "\n",
        "builder.add_node(\"node_call_llm\",node_llm_call)\n",
        "builder.add_node(\"node_summary\",node_summary)\n",
        "\n",
        "builder.add_edge(START,\"node_call_llm\")\n",
        "builder.add_conditional_edges(\"node_call_llm\",should_continue)\n",
        "builder.add_edge(\"node_summary\",END)\n",
        "\n",
        "memory : MemorySaver = MemorySaver()\n",
        "graph = builder.compile(checkpointer=memory)\n",
        "display(Image(graph.get_graph().draw_mermaid_png()))"
      ],
      "metadata": {
        "colab": {
          "base_uri": "https://localhost:8080/",
          "height": 350
        },
        "id": "zDsymP0EY3hd",
        "outputId": "a85d0060-1391-4224-958e-124c9f9cb4ea"
      },
      "execution_count": null,
      "outputs": [
        {
          "output_type": "display_data",
          "data": {
            "image/png": "[encoded data removed]",
            "text/plain": [
              "<IPython.core.display.Image object>"
            ]
          },
          "metadata": {}
        }
      ]
    },
    {
      "cell_type": "code",
      "source": [
        "from langgraph.checkpoint.memory import MemorySaver"
      ],
      "metadata": {
        "id": "1W19XEaofvEe"
      },
      "execution_count": null,
      "outputs": []
    },
    {
      "cell_type": "code",
      "source": [
        "config = {\"configurable\":{\"thread_id\":\"1\"}}\n",
        "\n",
        "inp = [HumanMessage(content=\"Hi , How are you !\")]\n",
        "out = graph.invoke({\"messages\": inp},config)\n",
        "for m in out[\"messages\"][-1:]:\n",
        "  m.pretty_print()\n",
        "\n",
        "inp = [HumanMessage(content = \"Myself Saim Hassan Khokhar\")]\n",
        "out = graph.invoke({\"messages\": inp},config)\n",
        "for m in out[\"messages\"][-1:]:\n",
        "  m.pretty_print()\n",
        "\n",
        "inp = [HumanMessage(content=\"What is my name\")]\n",
        "out = graph.invoke({\"messages\":inp},config)\n",
        "for m in out[\"messages\"][-1:]:\n",
        "  m.pretty_print()\n",
        "\n",
        "inp = [HumanMessage(content=\"I want to know about Squid Game Season\")]\n",
        "out = graph.invoke({\"messages\":inp},config)\n",
        "for m in out[\"messages\"][-1:]:\n",
        "  m.pretty_print()"
      ],
      "metadata": {
        "colab": {
          "base_uri": "https://localhost:8080/"
        },
        "id": "pPkMwdicb0E1",
        "outputId": "7cd37dc5-3525-4eb4-eb42-051d01015564"
      },
      "execution_count": null,
      "outputs": [
        {
          "output_type": "stream",
          "name": "stdout",
          "text": [
            "==================================\u001b[1m Ai Message \u001b[0m==================================\n",
            "\n",
            "I'm doing well, thank you for asking! How are you today?\n",
            "==================================\u001b[1m Ai Message \u001b[0m==================================\n",
            "\n",
            "It's nice to meet you, Saim Hassan Khokhar.  How can I help you today?\n",
            "==================================\u001b[1m Ai Message \u001b[0m==================================\n",
            "\n",
            "Your name is Saim Hassan Khokhar.\n",
            "==================================\u001b[1m Ai Message \u001b[0m==================================\n",
            "\n",
            "Okay, let's talk about *Squid Game* Season 2.  Unfortunately, details are still scarce.  Netflix has confirmed a second season, but hasn't released much information about the plot, characters returning, or a release date.  \n",
            "\n",
            "What specifically about Season 2 are you interested in?  Knowing that will help me give you the most relevant information, even if it's just speculation based on the first season and interviews.  For example, are you curious about:\n",
            "\n",
            "* **Potential plot points?** (e.g., will it focus on new games, the VIPs, or Gi-hun's revenge?)\n",
            "* **Returning characters?** (e.g., will we see Gi-hun, the Front Man, or any of the surviving players again?)\n",
            "* **New characters?**\n",
            "* **The overall tone and themes?**  Will it be similar to the first season, or will it take a different direction?\n",
            "* **The release date (even though we don't know it yet)?**  We can discuss speculation around when it might come out.\n",
            "\n",
            "\n",
            "Let me know what you'd like to discuss!\n"
          ]
        }
      ]
    },
    {
      "cell_type": "code",
      "source": [
        "graph.get_state(config).values.get(\"summary\",\"\")"
      ],
      "metadata": {
        "colab": {
          "base_uri": "https://localhost:8080/",
          "height": 122
        },
        "id": "RnYiIS1PfS_j",
        "outputId": "e3d16679-d835-4c6d-9d8c-a13057533687"
      },
      "execution_count": null,
      "outputs": [
        {
          "output_type": "execute_result",
          "data": {
            "text/plain": [
              "'The conversation began with pleasantries, with me, the AI, being asked how I was doing.  The user, Saim Hassan Khokhar, then introduced themselves and inquired about the *Squid Game* series, specifically the number of seasons. I responded that only one season has been released, with a second season confirmed but without a release date. I offered Saim the opportunity to ask more specific questions about the show, suggesting plot details, cast, or production as potential topics.  Saim then, seemingly testing the AI\\'s memory, asked what their name was. I correctly responded with \"Saim Hassan Khokhar,\" demonstrating the AI\\'s ability to retain information from earlier in the conversation.  The conversation currently awaits Saim\\'s further questions or topics of interest regarding *Squid Game* or any other subject.\\n'"
            ],
            "application/vnd.google.colaboratory.intrinsic+json": {
              "type": "string"
            }
          },
          "metadata": {},
          "execution_count": 36
        }
      ]
    },
    {
      "cell_type": "code",
      "source": [
        "config1 = {\"configurable\":{\"thread_id\":\"2\"}}\n",
        "\n",
        "inp = [HumanMessage(content=\"Hi , How are you !, Myslef Ali\")]\n",
        "out = graph.invoke({\"messages\": inp},config1)\n",
        "for m in out[\"messages\"][-1:]:\n",
        "  m.pretty_print()\n",
        "\n",
        "inp = [HumanMessage(content = \"Tell me about polar bears\")]\n",
        "out = graph.invoke({\"messages\": inp},config1)\n",
        "for m in out[\"messages\"][-1:]:\n",
        "  m.pretty_print()"
      ],
      "metadata": {
        "colab": {
          "base_uri": "https://localhost:8080/"
        },
        "id": "RaJdRR2JkWZc",
        "outputId": "83e59d57-d369-4bd7-f990-5792f884adeb"
      },
      "execution_count": null,
      "outputs": [
        {
          "output_type": "stream",
          "name": "stdout",
          "text": [
            "==================================\u001b[1m Ai Message \u001b[0m==================================\n",
            "\n",
            "Hi Ali! I'm doing well, thank you. How are you today?\n",
            "==================================\u001b[1m Ai Message \u001b[0m==================================\n",
            "\n",
            "Polar bears ( *Ursus maritimus*) are magnificent creatures superbly adapted to the Arctic's extreme conditions.  Here's a breakdown of key aspects:\n",
            "\n",
            "**Physical Adaptations:**\n",
            "\n",
            "* **Size and Strength:**  They're the world's largest land predator, with males significantly outweighing females.  Their immense size and strength are crucial for hunting seals, their primary prey.\n",
            "* **Insulation:**  Their fur isn't white; it's transparent and hollow, trapping air for exceptional insulation.  Beneath the fur lies a thick layer of blubber, providing further protection against the cold and acting as an energy reserve.  Their black skin absorbs sunlight for warmth.\n",
            "* **Paws:**  Large paws with rough pads and non-retractable claws provide excellent grip on ice and snow, aiding both locomotion and hunting.  The webbing between their toes helps them swim efficiently.\n",
            "* **Senses:**  An exceptional sense of smell allows them to detect seals from a considerable distance, even under the ice.  Their hearing and eyesight are also well-developed for their environment.\n",
            "\n",
            "**Hunting and Diet:**\n",
            "\n",
            "* **Primary Prey:**  Seals are the cornerstone of their diet.  They employ various hunting strategies, including waiting near breathing holes in the ice, ambushing seals on land, or actively pursuing them in the water.\n",
            "* **Opportunistic Feeding:**  While seals are their main food source, they'll also consume other marine mammals (like walruses, if opportunity arises), birds, and occasionally berries or other vegetation.\n",
            "\n",
            "**Habitat and Behavior:**\n",
            "\n",
            "* **Arctic Home:**  They inhabit the Arctic regions of the world, including Canada, Russia, Greenland, Norway, and the United States (Alaska).  Their distribution is largely dictated by the presence of sea ice, which is essential for hunting and breeding.\n",
            "* **Solitary Creatures:**  Generally solitary animals, except during mating season and when mothers are with their cubs.\n",
            "* **Swimming Prowess:**  They are exceptional swimmers, capable of holding their breath for a remarkable duration and covering significant distances in the water.\n",
            "\n",
            "**Reproduction and Life Cycle:**\n",
            "\n",
            "* **Breeding and Cubs:**  Females typically give birth to one to three cubs in snow dens.  The cubs remain with their mother for around two years, learning essential survival skills.\n",
            "* **Lifespan:**  In the wild, polar bears can live for 25-30 years.\n",
            "\n",
            "**Conservation Concerns:**\n",
            "\n",
            "* **Climate Change:**  The most significant threat to polar bears is climate change, leading to the loss of sea ice, their primary hunting platform.  Reduced sea ice forces them to swim longer distances, expend more energy, and face increased risks.\n",
            "* **Other Threats:**  Pollution, human-wildlife conflict, and hunting (though regulated in many areas) also pose threats.\n",
            "\n",
            "Polar bears are iconic symbols of the Arctic, but their future is inextricably linked to the health of the Arctic ecosystem.  Conservation efforts are crucial to ensure their survival for generations to come.\n"
          ]
        }
      ]
    },
    {
      "cell_type": "code",
      "source": [
        "graph.get_state(config1).values.get(\"summary\",\"\")"
      ],
      "metadata": {
        "colab": {
          "base_uri": "https://localhost:8080/",
          "height": 70
        },
        "id": "jZXFl6nJkmog",
        "outputId": "d55a93ef-4877-4281-9f5d-eb21efa525eb"
      },
      "execution_count": null,
      "outputs": [
        {
          "output_type": "execute_result",
          "data": {
            "text/plain": [
              "\"The conversation began with greetings and introductions.  The main topic then shifted to polar bears, with me providing detailed information about their physical characteristics, habitat, hunting strategies, reproductive behavior, and most importantly, the significant threat posed by climate change to their survival.  The conversation focused on providing comprehensive information about polar bears in response to the user's requests.\\n\""
            ],
            "application/vnd.google.colaboratory.intrinsic+json": {
              "type": "string"
            }
          },
          "metadata": {},
          "execution_count": 41
        }
      ]
    },
    {
      "cell_type": "code",
      "source": [
        "config2 = {\"configurable\":{\"thread_id\":\"3\"}}\n",
        "\n",
        "inp = [HumanMessage(content=\"Hi , How are you !\")]\n",
        "out = graph.invoke({\"messages\": inp},config2)\n",
        "for m in out[\"messages\"][-1:]:\n",
        "  m.pretty_print()\n",
        "\n",
        "inp = [HumanMessage(content = \"Myself Saim Hassan Khokhar\")]\n",
        "out = graph.invoke({\"messages\": inp},config2)\n",
        "for m in out[\"messages\"][-1:]:\n",
        "  m.pretty_print()\n",
        "\n",
        "inp = [HumanMessage(content=\"What is my name\")]\n",
        "out = graph.invoke({\"messages\":inp},config2)\n",
        "for m in out[\"messages\"][-1:]:\n",
        "  m.pretty_print()\n",
        "\n",
        "inp = [HumanMessage(content=\"I want to know about Squid Game Season\")]\n",
        "out = graph.invoke({\"messages\":inp},config2)\n",
        "for m in out[\"messages\"][-1:]:\n",
        "  m.pretty_print()"
      ],
      "metadata": {
        "colab": {
          "base_uri": "https://localhost:8080/"
        },
        "id": "CSFvEZHBkxoU",
        "outputId": "66a3c78c-547d-432c-ecfb-670ab0ae81ae"
      },
      "execution_count": null,
      "outputs": [
        {
          "output_type": "stream",
          "name": "stdout",
          "text": [
            "==================================\u001b[1m Ai Message \u001b[0m==================================\n",
            "\n",
            "I'm doing well, thank you for asking!  How are you today?\n",
            "==================================\u001b[1m Ai Message \u001b[0m==================================\n",
            "\n",
            "It's nice to meet you, Saim Hassan Khokhar.  Is there anything I can help you with today?\n",
            "==================================\u001b[1m Ai Message \u001b[0m==================================\n",
            "\n",
            "Your name is Saim Hassan Khokhar.\n",
            "==================================\u001b[1m Ai Message \u001b[0m==================================\n",
            "\n",
            "There's no official announcement of a Squid Game season 2 yet, although it's highly anticipated.  Netflix has confirmed that a second season *is* in the works, but details are scarce.  We don't know the exact release date, the plot specifics, or even which cast members will return.  \n",
            "\n",
            "What specifically about Squid Game season 2 are you interested in?  Knowing that will help me give you a more focused answer. For example, are you curious about:\n",
            "\n",
            "* **Potential plot points?** (Speculation is rampant online!)\n",
            "* **The release date?** (Unfortunately, we don't have one yet.)\n",
            "* **Returning characters?** (Again, no official confirmation.)\n",
            "* **The overall tone or themes?** (It's likely to maintain the suspense and social commentary of the first season.)\n",
            "\n",
            "Tell me what you'd like to know, and I'll do my best to help!\n"
          ]
        }
      ]
    },
    {
      "cell_type": "code",
      "source": [
        "graph.get_state(config2).values.get(\"summary\",\"\")"
      ],
      "metadata": {
        "colab": {
          "base_uri": "https://localhost:8080/",
          "height": 52
        },
        "id": "Eg3kvIm_mOIW",
        "outputId": "5e09da78-7865-4460-88ed-8e0e14003fd2"
      },
      "execution_count": null,
      "outputs": [
        {
          "output_type": "execute_result",
          "data": {
            "text/plain": [
              "\"The conversation began with a greeting.  I then learned the user's name is Saim Hassan Khokhar.  Finally, Saim inquired about Squid Game season 2, expressing interest in general information about its development and release, highlighting the lack of official details currently available.\\n\""
            ],
            "application/vnd.google.colaboratory.intrinsic+json": {
              "type": "string"
            }
          },
          "metadata": {},
          "execution_count": 43
        }
      ]
    },
    {
      "cell_type": "code",
      "source": [
        "config3 = {\"configurable\":{\"thread_id\":\"4\"}}\n",
        "\n",
        "inp = [HumanMessage(content = \"Myself Saim Hassan Khokhar\")]\n",
        "out = graph.invoke({\"messages\": inp},config3)\n",
        "for m in out[\"messages\"][-1:]:\n",
        "  m.pretty_print()\n",
        "\n",
        "inp = [HumanMessage(content=\"What is my name\")]\n",
        "out = graph.invoke({\"messages\":inp},config3)\n",
        "for m in out[\"messages\"][-1:]:\n",
        "  m.pretty_print()\n",
        "\n",
        "inp = [HumanMessage(content=\"I want to know about Squid Game Season\")]\n",
        "out = graph.invoke({\"messages\":inp},config3)\n",
        "for m in out[\"messages\"][-1:]:\n",
        "  m.pretty_print()"
      ],
      "metadata": {
        "colab": {
          "base_uri": "https://localhost:8080/"
        },
        "id": "vFwlqSHbmRmy",
        "outputId": "19bb2b33-24fc-44c7-89f9-776a9a45ab14"
      },
      "execution_count": null,
      "outputs": [
        {
          "output_type": "stream",
          "name": "stdout",
          "text": [
            "==================================\u001b[1m Ai Message \u001b[0m==================================\n",
            "\n",
            "It's nice to meet you, Saim Hassan Khokhar.  Is there anything I can help you with today?\n",
            "==================================\u001b[1m Ai Message \u001b[0m==================================\n",
            "\n",
            "Your name is Saim Hassan Khokhar.\n",
            "==================================\u001b[1m Ai Message \u001b[0m==================================\n",
            "\n",
            "There's no official announcement of a specific \"Squid Game Season\" beyond Season 1.  While a second season has been confirmed, details are still scarce.  We know that:\n",
            "\n",
            "* **Season 2 is happening:** Netflix has officially confirmed a second season.\n",
            "* **The Gi-hun character will return:** Lee Jung-jae, who played Gi-hun, will reprise his role.\n",
            "* **The Front Man's backstory will be explored:**  More details about the Front Man's motivations and past will be revealed.\n",
            "* **Specific plot details are limited:**  Beyond these points, the creators have been relatively tight-lipped about the plot of Season 2.  They've hinted at exploring the wider organization behind the games and potentially introducing new games.\n",
            "\n",
            "Essentially, we're still waiting for more concrete information about the plot, characters, and release date of *Squid Game* Season 2.  Keep an eye on Netflix's announcements and news outlets for updates as they become available.\n"
          ]
        }
      ]
    },
    {
      "cell_type": "code",
      "source": [
        "graph.get_state(config3).values.get(\"summary\",\"\")"
      ],
      "metadata": {
        "colab": {
          "base_uri": "https://localhost:8080/",
          "height": 35
        },
        "id": "I9yYiblLmaki",
        "outputId": "33ffdd0c-1529-4524-8523-4e7ab8c50b1b"
      },
      "execution_count": null,
      "outputs": [
        {
          "output_type": "execute_result",
          "data": {
            "text/plain": [
              "''"
            ],
            "application/vnd.google.colaboratory.intrinsic+json": {
              "type": "string"
            }
          },
          "metadata": {},
          "execution_count": 46
        }
      ]
    },
    {
      "cell_type": "code",
      "source": [
        "inp = [HumanMessage(content= \"who is the actor that played main character in Squid Game\")]\n",
        "out = graph.invoke({\"messages\":inp},config)\n",
        "for m in out[\"messages\"][-1:]:\n",
        "  m.pretty_print()"
      ],
      "metadata": {
        "colab": {
          "base_uri": "https://localhost:8080/"
        },
        "id": "I3kRQ4BkmdF3",
        "outputId": "11df7947-4a6f-42ac-9554-405bf3a22827"
      },
      "execution_count": null,
      "outputs": [
        {
          "output_type": "stream",
          "name": "stdout",
          "text": [
            "==================================\u001b[1m Ai Message \u001b[0m==================================\n",
            "\n",
            "The main character, Gi-hun, in *Squid Game* is played by Lee Jung-jae.\n"
          ]
        }
      ]
    },
    {
      "cell_type": "code",
      "source": [
        "graph.get_state(config).values.get(\"summary\",\"\")"
      ],
      "metadata": {
        "colab": {
          "base_uri": "https://localhost:8080/",
          "height": 122
        },
        "id": "zHeR-2iKxlqp",
        "outputId": "96aca727-7594-4fd5-af13-46d327388a36"
      },
      "execution_count": null,
      "outputs": [
        {
          "output_type": "execute_result",
          "data": {
            "text/plain": [
              "'The conversation began with pleasantries, with me, the AI, being asked how I was doing.  The user, Saim Hassan Khokhar, then introduced themselves and inquired about the *Squid Game* series, specifically the number of seasons. I responded that only one season has been released, with a second season confirmed but without a release date. I offered Saim the opportunity to ask more specific questions about the show, suggesting plot details, cast, or production as potential topics.  Saim then, seemingly testing the AI\\'s memory, asked what their name was. I correctly responded with \"Saim Hassan Khokhar,\" demonstrating the AI\\'s ability to retain information from earlier in the conversation.  The conversation currently awaits Saim\\'s further questions or topics of interest regarding *Squid Game* or any other subject.\\n'"
            ],
            "application/vnd.google.colaboratory.intrinsic+json": {
              "type": "string"
            }
          },
          "metadata": {},
          "execution_count": 50
        }
      ]
    },
    {
      "cell_type": "code",
      "source": [
        "inp = [HumanMessage(content= \"Tell me about Memories of Murder Movie\")]\n",
        "out = graph.invoke({\"messages\":inp},config)\n",
        "for m in out[\"messages\"][-1:]:\n",
        "  m.pretty_print()"
      ],
      "metadata": {
        "colab": {
          "base_uri": "https://localhost:8080/"
        },
        "id": "0mHjGKZZx1JV",
        "outputId": "35684701-a52a-43bc-cc34-a9b5f74ad449"
      },
      "execution_count": null,
      "outputs": [
        {
          "output_type": "stream",
          "name": "stdout",
          "text": [
            "==================================\u001b[1m Ai Message \u001b[0m==================================\n",
            "\n",
            "*Memories of Murder* (살인의 추억) is a 2003 South Korean neo-noir crime thriller film directed by Bong Joon-ho, known for his later works like *Parasite* and *Okja*.  It's based on the true story of the Hwaseong serial murders that took place in South Korea between 1986 and 1991.  The film never explicitly identifies the killer, mirroring the real-life case which remains unsolved.\n",
            "\n",
            "Here are some key aspects of the film:\n",
            "\n",
            "* **Plot:** The film follows two detectives, a seasoned but somewhat bumbling detective Park Doo-man (Song Kang-ho) and a younger, more by-the-book detective Seo Tae-yoon (Kim Sang-kyung), as they investigate a series of brutal rapes and murders in a rural area.  Their investigation is hampered by a lack of resources, outdated investigative techniques, and the societal pressures of the time.  The film masterfully builds suspense and tension as the detectives chase leads, encounter dead ends, and grapple with the frustration of not being able to catch the killer.\n",
            "\n",
            "* **Themes:**  The film explores themes of justice, incompetence, societal inequality, and the limitations of the law enforcement system.  It also touches upon the psychological toll the investigation takes on the detectives and the community.  The unresolved nature of the case adds a layer of unsettling realism.\n",
            "\n",
            "* **Style:**  *Memories of Murder* is known for its blend of dark humor, suspense, and social commentary.  Bong Joon-ho's direction is masterful, creating a palpable sense of unease and dread throughout the film.  The film's cinematography effectively captures the bleak and oppressive atmosphere of the rural setting.\n",
            "\n",
            "* **Impact:**  The film was a critical and commercial success in South Korea and internationally, earning numerous awards and accolades.  It's considered a landmark film in Korean cinema and is often praised for its realistic portrayal of a complex and disturbing true crime case.  It also showcases Bong Joon-ho's distinctive style and his ability to blend genres and themes seamlessly.\n",
            "\n",
            "* **Notable aspects:** The film's ending is particularly memorable and leaves a lasting impression on the viewer.  The use of music and sound design also contributes significantly to the film's overall atmosphere.\n",
            "\n",
            "\n",
            "If you're interested in a gripping and thought-provoking crime thriller, *Memories of Murder* is highly recommended.  However, be aware that it deals with sensitive subject matter and may be disturbing for some viewers.\n"
          ]
        }
      ]
    },
    {
      "cell_type": "code",
      "source": [
        "graph.get_state(config).values.get(\"summary\",\"\")"
      ],
      "metadata": {
        "colab": {
          "base_uri": "https://localhost:8080/",
          "height": 104
        },
        "id": "BE4-cJELyr2_",
        "outputId": "02a5f0be-dce3-44b0-e132-d35c903c65c1"
      },
      "execution_count": null,
      "outputs": [
        {
          "output_type": "execute_result",
          "data": {
            "text/plain": [
              "\"The conversation continued with Saim Hassan Khokhar shifting the topic to the actor who played the main character in *Squid Game*, which I correctly identified as Lee Jung-jae.  Saim then inquired about the South Korean film *Memories of Murder*, prompting me to provide a detailed summary of the film, including its plot, themes, director (Bong Joon-ho), and overall impact.  The summary highlighted the film's neo-noir style, its basis on a true unsolved crime, and its exploration of justice, incompetence, and societal pressures.  The conversation now awaits Saim's next question or topic of discussion.\\n\""
            ],
            "application/vnd.google.colaboratory.intrinsic+json": {
              "type": "string"
            }
          },
          "metadata": {},
          "execution_count": 52
        }
      ]
    },
    {
      "cell_type": "code",
      "source": [
        "inp = [HumanMessage(content=\"Who is the villain in Squid Game\")]\n",
        "out = graph.invoke({\"messages\":inp},config)\n",
        "for m in out[\"messages\"][-1:]:\n",
        "  m.pretty_print()"
      ],
      "metadata": {
        "colab": {
          "base_uri": "https://localhost:8080/"
        },
        "id": "hRoExgI9ywD8",
        "outputId": "8cfb0f3e-21fb-48bc-c262-da503eeec445"
      },
      "execution_count": null,
      "outputs": [
        {
          "output_type": "stream",
          "name": "stdout",
          "text": [
            "==================================\u001b[1m Ai Message \u001b[0m==================================\n",
            "\n",
            "There isn't a single, easily identifiable villain in *Squid Game*.  The show's antagonist is more of a systemic one.  While the Front Man is the face of the operation and directly responsible for the games' brutal execution, he's ultimately a pawn in a larger, more sinister game orchestrated by the unseen VIPs.  These wealthy individuals are the true antagonists, profiting from the suffering and death of the players while remaining detached and anonymous.  So, the \"villain\" is less a single person and more the corrupt system and the wealthy elite who benefit from it.\n"
          ]
        }
      ]
    },
    {
      "cell_type": "code",
      "source": [
        "graph.get_state(config).values.get(\"summary\",\"\")"
      ],
      "metadata": {
        "colab": {
          "base_uri": "https://localhost:8080/",
          "height": 104
        },
        "id": "7_vyZYc72FWw",
        "outputId": "574115f2-3ae0-45af-d65f-a46db79a3176"
      },
      "execution_count": null,
      "outputs": [
        {
          "output_type": "execute_result",
          "data": {
            "text/plain": [
              "\"The conversation continued with Saim Hassan Khokhar shifting the topic to the actor who played the main character in *Squid Game*, which I correctly identified as Lee Jung-jae.  Saim then inquired about the South Korean film *Memories of Murder*, prompting me to provide a detailed summary of the film, including its plot, themes, director (Bong Joon-ho), and overall impact.  The summary highlighted the film's neo-noir style, its basis on a true unsolved crime, and its exploration of justice, incompetence, and societal pressures.  The conversation now awaits Saim's next question or topic of discussion.\\n\""
            ],
            "application/vnd.google.colaboratory.intrinsic+json": {
              "type": "string"
            }
          },
          "metadata": {},
          "execution_count": 56
        }
      ]
    },
    {
      "cell_type": "code",
      "source": [
        "inp = [HumanMessage(content=\"Who is the heroin in Squid Game\")]\n",
        "out = graph.invoke({\"messages\":inp},config)\n",
        "for m in out[\"messages\"][-1:]:\n",
        "  m.pretty_print()"
      ],
      "metadata": {
        "colab": {
          "base_uri": "https://localhost:8080/"
        },
        "id": "4hLgyIwg2I3l",
        "outputId": "5d1ab09f-1f76-41bf-d72b-fc657de1a684"
      },
      "execution_count": null,
      "outputs": [
        {
          "output_type": "stream",
          "name": "stdout",
          "text": [
            "==================================\u001b[1m Ai Message \u001b[0m==================================\n",
            "\n",
            "There is no single character definitively identified as *the* heroin in *Squid Game*.  The show features many characters facing immense hardship and struggling for survival, each with their own compelling story and motivations.  While some characters might be considered more heroic than others based on their actions and choices, there isn't one character who embodies the role of a traditional \"hero\" in a clear-cut way.\n"
          ]
        }
      ]
    },
    {
      "cell_type": "code",
      "source": [
        "graph.get_state(config).values.get(\"summary\",\"\")"
      ],
      "metadata": {
        "colab": {
          "base_uri": "https://localhost:8080/",
          "height": 139
        },
        "id": "WLevZAFT2hM1",
        "outputId": "38a0ed01-7534-4f2d-d804-4ec09058db52"
      },
      "execution_count": null,
      "outputs": [
        {
          "output_type": "execute_result",
          "data": {
            "text/plain": [
              "\"The conversation continued with Saim Hassan Khokhar shifting the topic to the actor who played the main character in *Squid Game*, which I correctly identified as Lee Jung-jae.  Saim then inquired about the South Korean film *Memories of Murder*, prompting me to provide a detailed summary of the film, including its plot, themes, director (Bong Joon-ho), and overall impact.  The summary highlighted the film's neo-noir style, its basis on a true unsolved crime, and its exploration of justice, incompetence, and societal pressures.  Following this, Saim, or perhaps prompted by my previous responses, asked about the villain and the heroine in *Squid Game*.  I explained that there isn't a single, easily identifiable villain, but rather a systemic one, with the wealthy VIPs and the corrupt system they represent being the true antagonists, rather than the Front Man.  Furthermore, I clarified that there's no single heroine in *Squid Game*, but rather multiple characters facing hardship and struggling for survival, each with their own compelling story and motivations, preventing a clear-cut identification of a single heroic figure. The conversation now awaits Saim's next question or topic of discussion.\\n\""
            ],
            "application/vnd.google.colaboratory.intrinsic+json": {
              "type": "string"
            }
          },
          "metadata": {},
          "execution_count": 58
        }
      ]
    },
    {
      "cell_type": "code",
      "source": [
        "!pip install --quiet -U langgraph-checkpoint-sqlite"
      ],
      "metadata": {
        "id": "zZq8NNs02kF3"
      },
      "execution_count": null,
      "outputs": []
    },
    {
      "cell_type": "code",
      "source": [
        "import sqlite3"
      ],
      "metadata": {
        "id": "vCI2D6oyUhoU"
      },
      "execution_count": null,
      "outputs": []
    },
    {
      "cell_type": "code",
      "source": [
        "!mkdir -p state_db && [ ! -f state_db/example.db ] && wget -P state_db https://github.com/langchain-ai/langchain-academy/raw/main/module-2/state_db/example.db\n",
        "db_path = \"state_db/example.db\"\n",
        "conn = sqlite3.connect(db_path, check_same_thread=False)"
      ],
      "metadata": {
        "colab": {
          "base_uri": "https://localhost:8080/"
        },
        "id": "tU9LtgnJrSIY",
        "outputId": "99adba1f-d3ab-4ae7-c00b-5ae67647e67d"
      },
      "execution_count": null,
      "outputs": [
        {
          "output_type": "stream",
          "name": "stdout",
          "text": [
            "--2024-12-12 15:05:30--  https://github.com/langchain-ai/langchain-academy/raw/main/module-2/state_db/example.db\n",
            "Resolving github.com (github.com)... 140.82.114.3\n",
            "Connecting to github.com (github.com)|140.82.114.3|:443... connected.\n",
            "HTTP request sent, awaiting response... 302 Found\n",
            "Location: https://raw.githubusercontent.com/langchain-ai/langchain-academy/main/module-2/state_db/example.db [following]\n",
            "--2024-12-12 15:05:31--  https://raw.githubusercontent.com/langchain-ai/langchain-academy/main/module-2/state_db/example.db\n",
            "Resolving raw.githubusercontent.com (raw.githubusercontent.com)... 185.199.111.133, 185.199.108.133, 185.199.110.133, ...\n",
            "Connecting to raw.githubusercontent.com (raw.githubusercontent.com)|185.199.111.133|:443... connected.\n",
            "HTTP request sent, awaiting response... 200 OK\n",
            "Length: 110592 (108K) [application/octet-stream]\n",
            "Saving to: ‘state_db/example.db’\n",
            "\n",
            "example.db          100%[===================>] 108.00K  --.-KB/s    in 0.02s   \n",
            "\n",
            "2024-12-12 15:05:31 (4.31 MB/s) - ‘state_db/example.db’ saved [110592/110592]\n",
            "\n"
          ]
        }
      ]
    },
    {
      "cell_type": "code",
      "source": [
        "from langchain_core.messages import RemoveMessage"
      ],
      "metadata": {
        "id": "Jy8l4_iaarTP"
      },
      "execution_count": null,
      "outputs": []
    },
    {
      "cell_type": "code",
      "source": [
        "from langgraph.checkpoint.sqlite import SqliteSaver\n",
        "memory: SqliteSaver = SqliteSaver(conn)"
      ],
      "metadata": {
        "id": "ACMNPKe9Wo89"
      },
      "execution_count": null,
      "outputs": []
    },
    {
      "cell_type": "code",
      "source": [
        "graph1 = builder.compile(checkpointer=memory)"
      ],
      "metadata": {
        "id": "4fD3uF-hWORu"
      },
      "execution_count": null,
      "outputs": []
    },
    {
      "cell_type": "code",
      "source": [
        "config111 = {\"configurable\":{\"thread_id\":\"111\"}}\n",
        "\n",
        "input111 = [HumanMessage(content=\"Hi, I am Saim Hassan Akhtar\")]\n",
        "output111 = graph1.invoke({\"messages\":input111},config111)\n",
        "for m in output111[\"messages\"][-1:]:\n",
        "  m.pretty_print()\n",
        "\n",
        "input111 = [HumanMessage(content=\"What is my name\")]\n",
        "output111 = graph1.invoke({\"messages\":input111},config111)\n",
        "for m in output111[\"messages\"][-1:]:\n",
        "  m.pretty_print()\n",
        "\n",
        "input111 = [HumanMessage(content=\"I like UFC\")]\n",
        "output111 = graph1.invoke({\"messages\":input111},config111)\n",
        "for m in output111[\"messages\"][-1:]:\n",
        "  m.pretty_print()"
      ],
      "metadata": {
        "colab": {
          "base_uri": "https://localhost:8080/"
        },
        "id": "dJKSXIPDYtBQ",
        "outputId": "a2a4f53c-e45c-4879-a592-51119681bed3"
      },
      "execution_count": null,
      "outputs": [
        {
          "output_type": "stream",
          "name": "stdout",
          "text": [
            "==================================\u001b[1m Ai Message \u001b[0m==================================\n",
            "\n",
            "It's nice to meet you, Saim Hassan Akhtar.  How can I help you today?\n",
            "==================================\u001b[1m Ai Message \u001b[0m==================================\n",
            "\n",
            "Your name is Saim Hassan Akhtar.\n",
            "==================================\u001b[1m Ai Message \u001b[0m==================================\n",
            "\n",
            "That's great!  UFC is exciting.  Do you have a favorite fighter or weight class?\n"
          ]
        }
      ]
    },
    {
      "cell_type": "code",
      "source": [
        "graph_state = graph1.get_state(config111)\n",
        "graph_state"
      ],
      "metadata": {
        "colab": {
          "base_uri": "https://localhost:8080/"
        },
        "id": "6ZaELqHraAD3",
        "outputId": "4e3e4f1c-0aca-4d5e-c692-e9e4bc067bab"
      },
      "execution_count": null,
      "outputs": [
        {
          "output_type": "execute_result",
          "data": {
            "text/plain": [
              "StateSnapshot(values={'messages': [HumanMessage(content='What is my name', additional_kwargs={}, response_metadata={}, id='fe9bc5ff-32b0-4717-9460-8e5f7026bf01'), AIMessage(content='I do not know your name.  I have no access to personal information about you unless you explicitly provide it to me.\\n', additional_kwargs={}, response_metadata={'prompt_feedback': {'block_reason': 0, 'safety_ratings': []}, 'finish_reason': 'STOP', 'safety_ratings': []}, id='run-fe79dc1f-ee7b-480e-a7c9-14e3a8036205-0', usage_metadata={'input_tokens': 5, 'output_tokens': 26, 'total_tokens': 31, 'input_token_details': {'cache_read': 0}}), HumanMessage(content='What is my name', additional_kwargs={}, response_metadata={}, id='b95b4b6f-23a6-4529-a4b7-76aca09f02b4'), AIMessage(content=\"I don't know your name.  I have no memory of past conversations and cannot access personal information about you.\\n\", additional_kwargs={}, response_metadata={'prompt_feedback': {'block_reason': 0, 'safety_ratings': []}, 'finish_reason': 'STOP', 'safety_ratings': []}, id='run-b477712b-d276-4418-aa11-383b3b275cbf-0', usage_metadata={'input_tokens': 37, 'output_tokens': 25, 'total_tokens': 62, 'input_token_details': {'cache_read': 0}})]}, next=(), config={'configurable': {'thread_id': '111', 'checkpoint_ns': '', 'checkpoint_id': '1efb89ba-d2b1-6b71-8004-d3ca221d9ec0'}}, metadata={'source': 'loop', 'writes': {'node_call_llm': {'messages': AIMessage(content=\"I don't know your name.  I have no memory of past conversations and cannot access personal information about you.\\n\", additional_kwargs={}, response_metadata={'prompt_feedback': {'block_reason': 0, 'safety_ratings': []}, 'finish_reason': 'STOP', 'safety_ratings': []}, id='run-b477712b-d276-4418-aa11-383b3b275cbf-0', usage_metadata={'input_tokens': 37, 'output_tokens': 25, 'total_tokens': 62, 'input_token_details': {'cache_read': 0}})}}, 'thread_id': '111', 'step': 4, 'parents': {}}, created_at='2024-12-12T15:13:43.649945+00:00', parent_config={'configurable': {'thread_id': '111', 'checkpoint_ns': '', 'checkpoint_id': '1efb89ba-cc84-6cff-8003-3fb82e8d6783'}}, tasks=())"
            ]
          },
          "metadata": {},
          "execution_count": 18
        }
      ]
    },
    {
      "cell_type": "code",
      "source": [
        "config111 = {\"configurable\":{\"thread_id\":\"111\"}}"
      ],
      "metadata": {
        "id": "hImlYEsJh7-x"
      },
      "execution_count": null,
      "outputs": []
    },
    {
      "cell_type": "markdown",
      "source": [
        "# **MAIN CODE**"
      ],
      "metadata": {
        "id": "NZmMAsg84PwT"
      }
    },
    {
      "cell_type": "code",
      "source": [
        "!pip install --quiet -U langgraph\n",
        "\n",
        "%pip install -q -U langchain\n",
        "%pip install -q -U langchain-google-genai\n",
        "\n",
        "from google.colab import userdata\n",
        "GEMINI_API_KEY = userdata.get('GEMINI_API_KEY')\n",
        "\n",
        "from langchain_google_genai import ChatGoogleGenerativeAI\n",
        "llm = ChatGoogleGenerativeAI(\n",
        "    model=\"gemini-1.5-flash\",\n",
        "    api_key = GEMINI_API_KEY,\n",
        "    temperature=0\n",
        ")\n",
        "\n",
        "from langchain_core.messages import SystemMessage, HumanMessage, RemoveMessage\n",
        "\n",
        "from langgraph.graph import END\n",
        "from langgraph.graph import MessagesState\n",
        "\n",
        "from IPython.display import Image, display\n",
        "from langgraph.graph import StateGraph, START\n",
        "from langgraph.graph.state import CompiledStateGraph"
      ],
      "metadata": {
        "colab": {
          "base_uri": "https://localhost:8080/"
        },
        "id": "sFWIR0aKiads",
        "outputId": "c854689f-e9f7-4252-a7b5-b0deb80424c6"
      },
      "execution_count": null,
      "outputs": [
        {
          "output_type": "stream",
          "name": "stdout",
          "text": [
            "\u001b[2K   \u001b[90m━━━━━━━━━━━━━━━━━━━━━━━━━━━━━━━━━━━━━━━━\u001b[0m \u001b[32m135.7/135.7 kB\u001b[0m \u001b[31m2.3 MB/s\u001b[0m eta \u001b[36m0:00:00\u001b[0m\n",
            "\u001b[2K   \u001b[90m━━━━━━━━━━━━━━━━━━━━━━━━━━━━━━━━━━━━━━━━\u001b[0m \u001b[32m43.7/43.7 kB\u001b[0m \u001b[31m1.4 MB/s\u001b[0m eta \u001b[36m0:00:00\u001b[0m\n",
            "\u001b[2K   \u001b[90m━━━━━━━━━━━━━━━━━━━━━━━━━━━━━━━━━━━━━━━━\u001b[0m \u001b[32m1.0/1.0 MB\u001b[0m \u001b[31m9.8 MB/s\u001b[0m eta \u001b[36m0:00:00\u001b[0m\n",
            "\u001b[2K   \u001b[90m━━━━━━━━━━━━━━━━━━━━━━━━━━━━━━━━━━━━━━━━\u001b[0m \u001b[32m411.6/411.6 kB\u001b[0m \u001b[31m7.8 MB/s\u001b[0m eta \u001b[36m0:00:00\u001b[0m\n",
            "\u001b[2K   \u001b[90m━━━━━━━━━━━━━━━━━━━━━━━━━━━━━━━━━━━━━━━━\u001b[0m \u001b[32m41.3/41.3 kB\u001b[0m \u001b[31m1.5 MB/s\u001b[0m eta \u001b[36m0:00:00\u001b[0m\n",
            "\u001b[?25h"
          ]
        }
      ]
    },
    {
      "cell_type": "code",
      "source": [
        "!mkdir -p state_db && [ ! -f state_db/example.db ] && wget -P state_db https://github.com/langchain-ai/langchain-academy/raw/main/module-2/state_db/example.db\n"
      ],
      "metadata": {
        "colab": {
          "base_uri": "https://localhost:8080/"
        },
        "id": "XuN5bX2o52aF",
        "outputId": "556185f8-e92a-4421-8769-2c13ebf7a8d8"
      },
      "execution_count": null,
      "outputs": [
        {
          "output_type": "stream",
          "name": "stdout",
          "text": [
            "--2024-12-21 10:21:22--  https://github.com/langchain-ai/langchain-academy/raw/main/module-2/state_db/example.db\n",
            "Resolving github.com (github.com)... 140.82.112.4\n",
            "Connecting to github.com (github.com)|140.82.112.4|:443... connected.\n",
            "HTTP request sent, awaiting response... 302 Found\n",
            "Location: https://raw.githubusercontent.com/langchain-ai/langchain-academy/main/module-2/state_db/example.db [following]\n",
            "--2024-12-21 10:21:22--  https://raw.githubusercontent.com/langchain-ai/langchain-academy/main/module-2/state_db/example.db\n",
            "Resolving raw.githubusercontent.com (raw.githubusercontent.com)... 185.199.108.133, 185.199.109.133, 185.199.110.133, ...\n",
            "Connecting to raw.githubusercontent.com (raw.githubusercontent.com)|185.199.108.133|:443... connected.\n",
            "HTTP request sent, awaiting response... 200 OK\n",
            "Length: 110592 (108K) [application/octet-stream]\n",
            "Saving to: ‘state_db/example.db’\n",
            "\n",
            "example.db          100%[===================>] 108.00K  --.-KB/s    in 0.02s   \n",
            "\n",
            "2024-12-21 10:21:22 (4.35 MB/s) - ‘state_db/example.db’ saved [110592/110592]\n",
            "\n"
          ]
        }
      ]
    },
    {
      "cell_type": "markdown",
      "source": [
        "# Non Persistant"
      ],
      "metadata": {
        "id": "vixcZpDJ2dVv"
      }
    },
    {
      "cell_type": "code",
      "source": [
        "%pip install --quiet -U langgraph-checkpoint-sqlite\n",
        "db_path = \"state_db/example.db\"\n",
        "import sqlite3\n",
        "conn = sqlite3.connect(db_path, check_same_thread=False)\n",
        "from langgraph.checkpoint.sqlite import SqliteSaver\n",
        "memory: SqliteSaver = SqliteSaver(conn)"
      ],
      "metadata": {
        "id": "jXKvQwun8yCX"
      },
      "execution_count": null,
      "outputs": []
    },
    {
      "cell_type": "markdown",
      "source": [
        "# Persistant With Drive"
      ],
      "metadata": {
        "id": "BHFn_ipm2kk5"
      }
    },
    {
      "cell_type": "code",
      "source": [
        "%pip install --quiet -U langgraph-checkpoint-sqlite\n",
        "import sqlite3\n",
        "file_path = \"/content/drive/MyDrive/state_db/example (3).db\"\n",
        "conn = sqlite3.connect(file_path,check_same_thread=False)\n",
        "from langgraph.checkpoint.sqlite import SqliteSaver\n",
        "memory: SqliteSaver = SqliteSaver(conn)"
      ],
      "metadata": {
        "id": "hC6V003E2JiW"
      },
      "execution_count": null,
      "outputs": []
    },
    {
      "cell_type": "markdown",
      "source": [
        "# Best CODE"
      ],
      "metadata": {
        "id": "KCWR-gcf5vVF"
      }
    },
    {
      "cell_type": "code",
      "source": [
        "class State(MessagesState):\n",
        "  summary : str\n",
        "\n",
        "def node_llm_call(state:State)->State:\n",
        "  summary = state.get(\"summary\",\"\")\n",
        "  if summary:\n",
        "    summary = f\"Summary of the earlier conversation : {summary}\"\n",
        "    messages =[SystemMessage(content=summary)] + state[\"messages\"]\n",
        "  else:\n",
        "    messages = state[\"messages\"]\n",
        "  response = llm.invoke(messages)\n",
        "  return {\"messages\":response}\n",
        "\n",
        "def summarization(state:State)->State:\n",
        "  summary = state.get(\"summary\",\"\")\n",
        "  if summary:\n",
        "    SystemMessage=f\"\"\"This is the summary of the conversation before {summary}\n",
        "    Extend this summary by taking into account the new messages above\n",
        "    \"\"\"\n",
        "  else:\n",
        "    SystemMessage = \"Create a summary of the conversational messages above\"\n",
        "  messages = state[\"messages\"] + [HumanMessage(content= SystemMessage)]\n",
        "  response = llm.invoke(messages)\n",
        "  delete_msg = [RemoveMessage(id=m.id) for m in state[\"messages\"][:-2]]\n",
        "  return {\"summary\":response.content,\"messages\":delete_msg}\n",
        "\n",
        "def should_continue(state:State)->State:\n",
        "  messages = state[\"messages\"]\n",
        "  if len(messages) > 6 :\n",
        "    return \"summarization\"\n",
        "  else:\n",
        "    return END"
      ],
      "metadata": {
        "id": "HAdP5TJe9MrB"
      },
      "execution_count": null,
      "outputs": []
    },
    {
      "cell_type": "code",
      "source": [
        "builder : StateGraph = StateGraph(state_schema=State)\n",
        "\n",
        "builder.add_node(\"node_llm_call\",node_llm_call)\n",
        "builder.add_node(\"summarization\",summarization)\n",
        "\n",
        "builder.add_edge(START,\"node_llm_call\")\n",
        "builder.add_conditional_edges(\"node_llm_call\",should_continue)\n",
        "builder.add_edge(\"summarization\",END)\n",
        "\n",
        "graph :CompiledStateGraph = builder.compile(checkpointer=memory)"
      ],
      "metadata": {
        "id": "--Lkj8LdBZsQ"
      },
      "execution_count": null,
      "outputs": []
    },
    {
      "cell_type": "code",
      "source": [
        "config7 = {\"configurable\":{\"thread_id\":\"7\"}}\n",
        "input = HumanMessage(content=\"Hi I am SHA\")\n",
        "output = graph.invoke({\"messages\":[input]},config7)\n",
        "import pprint\n",
        "for m in output[\"messages\"][-1:]:\n",
        "  m.pretty_print()\n",
        "\n",
        "input_message = HumanMessage(content=\"I am Agentic AI Engineer?\")\n",
        "output = graph.invoke({\"messages\": [input_message]},config7)\n",
        "for m in output['messages'][-1:]:\n",
        "    m.pretty_print()\n",
        "\n",
        "input_message = HumanMessage(content=\"My Favourite Sports is Cricket!\")\n",
        "output = graph.invoke({\"messages\": [input_message]},config7)\n",
        "for m in output['messages'][-1:]:\n",
        "    m.pretty_print()"
      ],
      "metadata": {
        "colab": {
          "base_uri": "https://localhost:8080/"
        },
        "id": "L9kg2rIqCsrS",
        "outputId": "b8016e37-fb72-4e98-a3e1-2f8e40582e14"
      },
      "execution_count": null,
      "outputs": [
        {
          "output_type": "stream",
          "name": "stdout",
          "text": [
            "==================================\u001b[1m Ai Message \u001b[0m==================================\n",
            "\n",
            "Hello SHA!  It's nice to meet you. How can I help you today?\n",
            "==================================\u001b[1m Ai Message \u001b[0m==================================\n",
            "\n",
            "That's interesting!  \"Agentic AI Engineer\" isn't a standard job title, but it suggests you work with AI systems that exhibit agency – meaning they can act independently and pursue goals.  This could involve many different areas, such as:\n",
            "\n",
            "* **Reinforcement learning:** Training AI agents to make decisions and learn from their actions in an environment.\n",
            "* **Robotics:** Building and programming robots that can operate autonomously.\n",
            "* **Autonomous systems:** Developing self-driving cars, drones, or other systems that operate without human intervention.\n",
            "* **AI safety and alignment:** Ensuring that agentic AI systems behave ethically and safely.\n",
            "\n",
            "To better understand what you do, could you tell me more about your specific responsibilities and projects?  I'd be interested to learn more.\n",
            "==================================\u001b[1m Ai Message \u001b[0m==================================\n",
            "\n",
            "That's great! Cricket is a fantastic sport.  Are you a player, a fan, or both?  Do you have a favorite team or player?  I'd love to hear more about your passion for cricket.\n"
          ]
        }
      ]
    },
    {
      "cell_type": "code",
      "source": [
        "config7 = {\"configurable\": {\"thread_id\": \"7\"}}\n",
        "input_message = HumanMessage(content=\"what is my name , occupation and favourite sport\")\n",
        "output = graph.invoke({\"messages\": [input_message]},config7)\n",
        "for m in output['messages'][-1:]:\n",
        "    m.pretty_print()"
      ],
      "metadata": {
        "colab": {
          "base_uri": "https://localhost:8080/"
        },
        "id": "sL54rfLb4TB8",
        "outputId": "e8d80bf8-ff04-4276-eab6-5a98ddd23e16"
      },
      "execution_count": null,
      "outputs": [
        {
          "output_type": "stream",
          "name": "stdout",
          "text": [
            "==================================\u001b[1m Ai Message \u001b[0m==================================\n",
            "\n",
            "Based on our conversation:\n",
            "\n",
            "* **Name:** SHA\n",
            "* **Occupation:** Agentic AI Engineer\n",
            "* **Favorite Sport:** Cricket\n"
          ]
        }
      ]
    },
    {
      "cell_type": "code",
      "source": [
        "config7 = {\"configurable\": {\"thread_id\": \"7\"}}\n",
        "graph_state = graph.get_state(config7)\n",
        "graph_state"
      ],
      "metadata": {
        "colab": {
          "base_uri": "https://localhost:8080/"
        },
        "id": "mNmlnIvMDfR3",
        "outputId": "67279a96-4826-489f-ab40-f3c88657e13d"
      },
      "execution_count": null,
      "outputs": [
        {
          "output_type": "execute_result",
          "data": {
            "text/plain": [
              "StateSnapshot(values={'messages': [HumanMessage(content='Hi I am SHA', additional_kwargs={}, response_metadata={}, id='6c76f2f4-6dca-4474-a9e9-6c048baf24f3'), AIMessage(content=\"Hello SHA!  It's nice to meet you. How can I help you today?\\n\", additional_kwargs={}, response_metadata={'prompt_feedback': {'block_reason': 0, 'safety_ratings': []}, 'finish_reason': 'STOP', 'safety_ratings': []}, id='run-65670dbe-eb8d-43a2-9285-175695b62809-0', usage_metadata={'input_tokens': 5, 'output_tokens': 20, 'total_tokens': 25, 'input_token_details': {'cache_read': 0}}), HumanMessage(content='I am Agentic AI Engineer?', additional_kwargs={}, response_metadata={}, id='e62548db-969f-472d-bf82-9f7788058654'), AIMessage(content='That\\'s interesting!  \"Agentic AI Engineer\" isn\\'t a standard job title, but it suggests you work with AI systems that exhibit agency – meaning they can act independently and pursue goals.  This could involve many different areas, such as:\\n\\n* **Reinforcement learning:** Training AI agents to make decisions and learn from their actions in an environment.\\n* **Robotics:** Building and programming robots that can operate autonomously.\\n* **Autonomous systems:** Developing self-driving cars, drones, or other systems that operate without human intervention.\\n* **AI safety and alignment:** Ensuring that agentic AI systems behave ethically and safely.\\n\\nTo better understand what you do, could you tell me more about your specific responsibilities and projects?  I\\'d be interested to learn more.\\n', additional_kwargs={}, response_metadata={'prompt_feedback': {'block_reason': 0, 'safety_ratings': []}, 'finish_reason': 'STOP', 'safety_ratings': []}, id='run-e01355e8-f73c-4908-8ffa-aa5b5c2533a2-0', usage_metadata={'input_tokens': 34, 'output_tokens': 163, 'total_tokens': 197, 'input_token_details': {'cache_read': 0}}), HumanMessage(content='My Favourite Sports is Cricket!', additional_kwargs={}, response_metadata={}, id='4bcc3339-6a9f-4883-a687-2a18be2546b0'), AIMessage(content=\"That's great! Cricket is a fantastic sport.  Are you a player, a fan, or both?  Do you have a favorite team or player?  I'd love to hear more about your passion for cricket.\\n\", additional_kwargs={}, response_metadata={'prompt_feedback': {'block_reason': 0, 'safety_ratings': []}, 'finish_reason': 'STOP', 'safety_ratings': []}, id='run-98c67d61-4bc6-41c1-b6e0-101c2db9d6ef-0', usage_metadata={'input_tokens': 205, 'output_tokens': 48, 'total_tokens': 253, 'input_token_details': {'cache_read': 0}})]}, next=(), config={'configurable': {'thread_id': '7', 'checkpoint_ns': '', 'checkpoint_id': '1efbf8d9-992e-6d32-8007-4fc208c43ab9'}}, metadata={'source': 'loop', 'writes': {'node_llm_call': {'messages': AIMessage(content=\"That's great! Cricket is a fantastic sport.  Are you a player, a fan, or both?  Do you have a favorite team or player?  I'd love to hear more about your passion for cricket.\\n\", additional_kwargs={}, response_metadata={'prompt_feedback': {'block_reason': 0, 'safety_ratings': []}, 'finish_reason': 'STOP', 'safety_ratings': []}, id='run-98c67d61-4bc6-41c1-b6e0-101c2db9d6ef-0', usage_metadata={'input_tokens': 205, 'output_tokens': 48, 'total_tokens': 253, 'input_token_details': {'cache_read': 0}})}}, 'thread_id': '7', 'step': 7, 'parents': {}}, created_at='2024-12-21T11:20:35.961129+00:00', parent_config={'configurable': {'thread_id': '7', 'checkpoint_ns': '', 'checkpoint_id': '1efbf8d9-9358-6878-8006-9c202ebc6b30'}}, tasks=())"
            ]
          },
          "metadata": {},
          "execution_count": 5
        }
      ]
    },
    {
      "cell_type": "code",
      "source": [
        "from google.colab import drive\n",
        "drive.mount('/content/drive')"
      ],
      "metadata": {
        "colab": {
          "base_uri": "https://localhost:8080/"
        },
        "id": "r3y3CZZzE4sd",
        "outputId": "ed4378d5-e463-4c01-f309-4498b6b7b16c"
      },
      "execution_count": null,
      "outputs": [
        {
          "output_type": "stream",
          "name": "stdout",
          "text": [
            "Drive already mounted at /content/drive; to attempt to forcibly remount, call drive.mount(\"/content/drive\", force_remount=True).\n"
          ]
        }
      ]
    },
    {
      "cell_type": "code",
      "source": [
        "!ls state_db"
      ],
      "metadata": {
        "colab": {
          "base_uri": "https://localhost:8080/"
        },
        "id": "u6BOJFctya2F",
        "outputId": "c76405e6-c3f4-4dd5-9215-dba7ca10e14d"
      },
      "execution_count": null,
      "outputs": [
        {
          "output_type": "stream",
          "name": "stdout",
          "text": [
            "example.db  example.db-shm  example.db-wal\n"
          ]
        }
      ]
    },
    {
      "cell_type": "code",
      "source": [
        "from google.colab import files\n",
        "files.download(\"state_db/example.db\")\n",
        "files.download(\"state_db/example.db-wal\")"
      ],
      "metadata": {
        "colab": {
          "base_uri": "https://localhost:8080/",
          "height": 17
        },
        "id": "qMz2EDtpzfnd",
        "outputId": "79ba5c69-a916-43b2-b098-900218f63078"
      },
      "execution_count": null,
      "outputs": [
        {
          "output_type": "display_data",
          "data": {
            "text/plain": [
              "<IPython.core.display.Javascript object>"
            ],
            "application/javascript": [
              "\n",
              "    async function download(id, filename, size) {\n",
              "      if (!google.colab.kernel.accessAllowed) {\n",
              "        return;\n",
              "      }\n",
              "      const div = document.createElement('div');\n",
              "      const label = document.createElement('label');\n",
              "      label.textContent = `Downloading \"${filename}\": `;\n",
              "      div.appendChild(label);\n",
              "      const progress = document.createElement('progress');\n",
              "      progress.max = size;\n",
              "      div.appendChild(progress);\n",
              "      document.body.appendChild(div);\n",
              "\n",
              "      const buffers = [];\n",
              "      let downloaded = 0;\n",
              "\n",
              "      const channel = await google.colab.kernel.comms.open(id);\n",
              "      // Send a message to notify the kernel that we're ready.\n",
              "      channel.send({})\n",
              "\n",
              "      for await (const message of channel.messages) {\n",
              "        // Send a message to notify the kernel that we're ready.\n",
              "        channel.send({})\n",
              "        if (message.buffers) {\n",
              "          for (const buffer of message.buffers) {\n",
              "            buffers.push(buffer);\n",
              "            downloaded += buffer.byteLength;\n",
              "            progress.value = downloaded;\n",
              "          }\n",
              "        }\n",
              "      }\n",
              "      const blob = new Blob(buffers, {type: 'application/binary'});\n",
              "      const a = document.createElement('a');\n",
              "      a.href = window.URL.createObjectURL(blob);\n",
              "      a.download = filename;\n",
              "      div.appendChild(a);\n",
              "      a.click();\n",
              "      div.remove();\n",
              "    }\n",
              "  "
            ]
          },
          "metadata": {}
        },
        {
          "output_type": "display_data",
          "data": {
            "text/plain": [
              "<IPython.core.display.Javascript object>"
            ],
            "application/javascript": [
              "download(\"download_6ed1e8c1-cb3b-40a1-9776-da7a91127fb0\", \"example.db\", 110592)"
            ]
          },
          "metadata": {}
        },
        {
          "output_type": "display_data",
          "data": {
            "text/plain": [
              "<IPython.core.display.Javascript object>"
            ],
            "application/javascript": [
              "\n",
              "    async function download(id, filename, size) {\n",
              "      if (!google.colab.kernel.accessAllowed) {\n",
              "        return;\n",
              "      }\n",
              "      const div = document.createElement('div');\n",
              "      const label = document.createElement('label');\n",
              "      label.textContent = `Downloading \"${filename}\": `;\n",
              "      div.appendChild(label);\n",
              "      const progress = document.createElement('progress');\n",
              "      progress.max = size;\n",
              "      div.appendChild(progress);\n",
              "      document.body.appendChild(div);\n",
              "\n",
              "      const buffers = [];\n",
              "      let downloaded = 0;\n",
              "\n",
              "      const channel = await google.colab.kernel.comms.open(id);\n",
              "      // Send a message to notify the kernel that we're ready.\n",
              "      channel.send({})\n",
              "\n",
              "      for await (const message of channel.messages) {\n",
              "        // Send a message to notify the kernel that we're ready.\n",
              "        channel.send({})\n",
              "        if (message.buffers) {\n",
              "          for (const buffer of message.buffers) {\n",
              "            buffers.push(buffer);\n",
              "            downloaded += buffer.byteLength;\n",
              "            progress.value = downloaded;\n",
              "          }\n",
              "        }\n",
              "      }\n",
              "      const blob = new Blob(buffers, {type: 'application/binary'});\n",
              "      const a = document.createElement('a');\n",
              "      a.href = window.URL.createObjectURL(blob);\n",
              "      a.download = filename;\n",
              "      div.appendChild(a);\n",
              "      a.click();\n",
              "      div.remove();\n",
              "    }\n",
              "  "
            ]
          },
          "metadata": {}
        },
        {
          "output_type": "display_data",
          "data": {
            "text/plain": [
              "<IPython.core.display.Javascript object>"
            ],
            "application/javascript": [
              "download(\"download_93b66138-1697-4176-88cf-a98707026687\", \"example.db-wal\", 181312)"
            ]
          },
          "metadata": {}
        }
      ]
    },
    {
      "cell_type": "code",
      "source": [
        "%%capture --no-stderr\n",
        "%pip install -U langgraph langgraph-checkpoint-postgres psycopg psycopg-pool langchain_google_genai"
      ],
      "metadata": {
        "id": "-dHqK9FSz2Tc"
      },
      "execution_count": null,
      "outputs": []
    },
    {
      "cell_type": "code",
      "source": [
        "from google.colab import userdata\n",
        "DB_URI = userdata.get('DB_URI')"
      ],
      "metadata": {
        "id": "KsdnIXcCC6_S"
      },
      "execution_count": null,
      "outputs": []
    },
    {
      "cell_type": "code",
      "source": [
        "from psycopg_pool import ConnectionPool\n",
        "from langgraph.checkpoint.postgres import PostgresSaver\n",
        "\n",
        "connection_kwargs = {\"autocommit\": True, \"prepare_threshold\": 0}\n",
        "pool = ConnectionPool(conninfo=DB_URI, max_size=20, kwargs=connection_kwargs)\n",
        "checkpointer = PostgresSaver(pool)\n",
        "checkpointer.setup()"
      ],
      "metadata": {
        "id": "tZWIy_q_GoH3"
      },
      "execution_count": null,
      "outputs": []
    },
    {
      "cell_type": "code",
      "source": [
        "graph1 = builder.compile(checkpointer=checkpointer)"
      ],
      "metadata": {
        "id": "LtZfM-bRGyql"
      },
      "execution_count": null,
      "outputs": []
    },
    {
      "cell_type": "code",
      "source": [
        "config1 = {\"configurable\":{\"thread_id\":\"1\"}}\n",
        "input = [HumanMessage(content=\"Hi I am Saim Khokar\")]\n",
        "output = graph1.invoke({\"messages\":input},config1)\n",
        "for m in output[\"messages\"][-1:]:\n",
        "  m.pretty_print()"
      ],
      "metadata": {
        "colab": {
          "base_uri": "https://localhost:8080/"
        },
        "id": "er0aKsULHJEc",
        "outputId": "79a3b0f7-5ab3-4657-c179-2ad616525d00"
      },
      "execution_count": null,
      "outputs": [
        {
          "output_type": "stream",
          "name": "stdout",
          "text": [
            "==================================\u001b[1m Ai Message \u001b[0m==================================\n",
            "\n",
            "Hello Saim Khokar!  It's nice to meet you.  How can I help you today?\n"
          ]
        }
      ]
    },
    {
      "cell_type": "code",
      "source": [
        "input = [HumanMessage(content=\"I like MMA\")]\n",
        "output = graph1.invoke({\"messages\":input},config1)\n",
        "for m in output[\"messages\"][-1:]:\n",
        "  m.pretty_print()"
      ],
      "metadata": {
        "colab": {
          "base_uri": "https://localhost:8080/"
        },
        "id": "RpdtnG8QH4Yz",
        "outputId": "8f6e8f99-5d39-44a6-99c0-5346e8600195"
      },
      "execution_count": null,
      "outputs": [
        {
          "output_type": "stream",
          "name": "stdout",
          "text": [
            "==================================\u001b[1m Ai Message \u001b[0m==================================\n",
            "\n",
            "That's great!  MMA is a really exciting sport.  Are there any particular aspects of MMA that you enjoy the most?  Do you have a favorite fighter, weight class, or promotion?\n"
          ]
        }
      ]
    },
    {
      "cell_type": "code",
      "source": [
        "input = [HumanMessage(content=\"My Favourite fighter is Khabib Nurmegamedov\")]\n",
        "output = graph1.invoke({\"messages\":input},config1)\n",
        "for m in output[\"messages\"][-1:]:\n",
        "  m.pretty_print()"
      ],
      "metadata": {
        "colab": {
          "base_uri": "https://localhost:8080/"
        },
        "id": "l8THIjK5Kt02",
        "outputId": "f47aabde-3bf7-452a-b06f-787156c1a838"
      },
      "execution_count": null,
      "outputs": [
        {
          "output_type": "stream",
          "name": "stdout",
          "text": [
            "==================================\u001b[1m Ai Message \u001b[0m==================================\n",
            "\n",
            "Excellent choice! Khabib Nurmagomedov was a dominant force in the UFC lightweight division.  His undefeated record and grappling prowess are legendary.  What aspects of his fighting style did you particularly admire?  His pressure, his grappling, his cardio?\n"
          ]
        }
      ]
    },
    {
      "cell_type": "code",
      "source": [
        "config1 = {\"configurable\":{\"thread_id\":\"1\"}}\n",
        "input = [HumanMessage(content=\"what is my name\")]\n",
        "output = graph1.invoke({\"messages\":input},config1)\n",
        "for m in output[\"messages\"][-1:]:\n",
        "  m.pretty_print()"
      ],
      "metadata": {
        "colab": {
          "base_uri": "https://localhost:8080/"
        },
        "id": "ITgl8r4OMC_S",
        "outputId": "d078d2bf-21f0-467b-9024-909e4ccdac7e"
      },
      "execution_count": null,
      "outputs": [
        {
          "output_type": "stream",
          "name": "stdout",
          "text": [
            "==================================\u001b[1m Ai Message \u001b[0m==================================\n",
            "\n",
            "Your name is Saim Khokar.\n"
          ]
        }
      ]
    },
    {
      "cell_type": "code",
      "source": [
        "input = [HumanMessage(content=\"what do I like\")]\n",
        "output = graph1.invoke({\"messages\":input},config1)\n",
        "for m in output[\"messages\"][-1:]:\n",
        "  m.pretty_print()"
      ],
      "metadata": {
        "colab": {
          "base_uri": "https://localhost:8080/"
        },
        "id": "rS-l0ZwZMkbj",
        "outputId": "bcd943bd-119b-4b55-af75-280145a16e9a"
      },
      "execution_count": null,
      "outputs": [
        {
          "output_type": "stream",
          "name": "stdout",
          "text": [
            "==================================\u001b[1m Ai Message \u001b[0m==================================\n",
            "\n",
            "Based on our previous conversation, you like MMA and your favorite fighter is Khabib Nurmagomedov.\n"
          ]
        }
      ]
    },
    {
      "cell_type": "code",
      "source": [
        "pool.close()"
      ],
      "metadata": {
        "id": "bu38c93hM2tI"
      },
      "execution_count": null,
      "outputs": []
    }
  ],
  "metadata": {
    "colab": {
      "provenance": [],
      "mount_file_id": "10Q0hfxPwwab60OuQVieenkUJy4IKsApo",
      "authorship_tag": "ABX9TyMKQGmwF+IaDHN6q6ifHocB",
      "include_colab_link": true
    },
    "kernelspec": {
      "display_name": "Python 3",
      "name": "python3"
    },
    "language_info": {
      "name": "python"
    }
  },
  "nbformat": 4,
  "nbformat_minor": 0
}